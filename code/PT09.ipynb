{
  "nbformat": 4,
  "nbformat_minor": 0,
  "metadata": {
    "colab": {
      "provenance": [],
      "gpuType": "T4",
      "include_colab_link": true
    },
    "kernelspec": {
      "name": "python3",
      "display_name": "Python 3"
    },
    "language_info": {
      "name": "python"
    },
    "accelerator": "GPU"
  },
  "cells": [
    {
      "cell_type": "markdown",
      "metadata": {
        "id": "view-in-github",
        "colab_type": "text"
      },
      "source": [
        "<a href=\"https://colab.research.google.com/github/soobook/PyTorch-DL/blob/main/code/PT09.ipynb\" target=\"_parent\"><img src=\"https://colab.research.google.com/assets/colab-badge.svg\" alt=\"Open In Colab\"/></a>"
      ]
    },
    {
      "cell_type": "markdown",
      "source": [
        "# 9회차: CNN을 활용한 컬러 이미지 분류 (3) – 모델 학습 및 평가"
      ],
      "metadata": {
        "id": "vGWMA4AuSids"
      }
    },
    {
      "cell_type": "markdown",
      "source": [
        "## 8회차 전체 코드"
      ],
      "metadata": {
        "id": "h8txQ2r0Ovjp"
      }
    },
    {
      "cell_type": "code",
      "source": [
        "import torch\n",
        "import torch.nn as nn\n",
        "import torch.optim as optim\n",
        "import torchvision\n",
        "import torchvision.transforms as transforms\n",
        "import matplotlib.pyplot as plt\n",
        "import numpy as np\n",
        "from torchsummary import summary\n",
        "\n",
        "transform_train = transforms.Compose([\n",
        "    transforms.RandomHorizontalFlip(),    # 데이터 증강\n",
        "    transforms.RandomCrop(32, padding=4), # 데이터 증강\n",
        "    transforms.ToTensor(),                # 데이터 스케일 조정\n",
        "    transforms.Normalize((0.4914, 0.4822, 0.4465), # 데이터 정규화\n",
        "                         (0.2023, 0.1994, 0.2010))\n",
        "])\n",
        "\n",
        "transform_test = transforms.Compose([\n",
        "    transforms.ToTensor(),\n",
        "    transforms.Normalize((0.4914, 0.4822, 0.4465),\n",
        "                         (0.2023, 0.1994, 0.2010))\n",
        "])\n",
        "\n",
        "trainset = torchvision.datasets.CIFAR10(root='./data', train=True, download=True, transform=transform_train)\n",
        "trainloader = torch.utils.data.DataLoader(trainset, batch_size=128, shuffle=True, num_workers=2)\n",
        "\n",
        "testset = torchvision.datasets.CIFAR10(root='./data', train=False, download=True, transform=transform_test)\n",
        "testloader = torch.utils.data.DataLoader(testset, batch_size=100, shuffle=False, num_workers=2)\n",
        "\n",
        "classes = trainset.classes\n",
        "\n",
        "# 2. CNN 모델 정의\n",
        "class SimpleCNN(nn.Module):\n",
        "    def __init__(self):\n",
        "        super(SimpleCNN, self).__init__()\n",
        "        self.layer1 = nn.Sequential(\n",
        "            # 채널 수, 출력 필터인 feature map 수, 커널(필터)의 크기, 패딩 픽셀 수\n",
        "            # 내부적으로 (채널 수 × feature map 수) 만큼의 커널(필터)를 생성\n",
        "            # nn.Conv2d(3, 32, 3, padding=1),\n",
        "            nn.Conv2d(in_channels=3, out_channels=32, kernel_size=3, padding=1),\n",
        "\n",
        "            # 학습 중에 각 채널(feature map)의 평균과 분산을 정규화\n",
        "            # 학습 안정화, 수렴 속도 증가, 과적합 방지 효과\n",
        "            nn.BatchNorm2d(32),\n",
        "\n",
        "            # 비선형 활성화 함수 (Rectified Linear Unit)\n",
        "            # 음수는 0, 양수는 그대로 통과\n",
        "            nn.ReLU(),\n",
        "\n",
        "            # 2×2 크기의 창(window)을 사용해, 그 안에서 최댓값만 추출\n",
        "            # 32×32 → 16×16로 줄어듦\n",
        "            nn.MaxPool2d(2))\n",
        "\n",
        "        self.layer2 = nn.Sequential(\n",
        "            nn.Conv2d(32, 64, 3, padding=1),\n",
        "            nn.BatchNorm2d(64),\n",
        "            nn.ReLU(),\n",
        "            # 16×16 → 8×8로 줄어듦\n",
        "            nn.MaxPool2d(2))\n",
        "\n",
        "        self.layer3 = nn.Sequential(\n",
        "            nn.Conv2d(64, 128, 3, padding=1),\n",
        "            nn.BatchNorm2d(128),\n",
        "            nn.ReLU(),\n",
        "            # 8×8 → 4×4로 줄어듦\n",
        "            nn.MaxPool2d(2))\n",
        "\n",
        "        self.fc = nn.Linear(128 * 4 * 4, 10)\n",
        "\n",
        "    def forward(self, x):\n",
        "        out = self.layer1(x)\n",
        "        out = self.layer2(out)\n",
        "        out = self.layer3(out)\n",
        "        out = out.view(out.size(0), -1)\n",
        "        out = self.fc(out)\n",
        "        return out"
      ],
      "metadata": {
        "colab": {
          "base_uri": "https://localhost:8080/"
        },
        "id": "lpkpAgHhTiuf",
        "outputId": "cbc79fba-8349-41f0-cf3e-184e2ba882bd"
      },
      "execution_count": null,
      "outputs": [
        {
          "output_type": "stream",
          "name": "stderr",
          "text": [
            "100%|██████████| 170M/170M [00:04<00:00, 42.2MB/s]\n"
          ]
        }
      ]
    },
    {
      "cell_type": "markdown",
      "source": [
        "## 1. CNN 구현(전체 중에 후반부)"
      ],
      "metadata": {
        "id": "DiohrIWbZe8o"
      }
    },
    {
      "cell_type": "code",
      "source": [
        "# 3. 모델 준비 및 구조 출력\n",
        "device = torch.device(\"cuda\" if torch.cuda.is_available() else \"cpu\")\n",
        "net = SimpleCNN().to(device)\n",
        "summary(net, (3, 32, 32))"
      ],
      "metadata": {
        "colab": {
          "base_uri": "https://localhost:8080/"
        },
        "id": "3JacwlYwSaHm",
        "outputId": "f60a65df-6b98-40d6-9e6e-d6092ba88659"
      },
      "execution_count": null,
      "outputs": [
        {
          "output_type": "stream",
          "name": "stdout",
          "text": [
            "----------------------------------------------------------------\n",
            "        Layer (type)               Output Shape         Param #\n",
            "================================================================\n",
            "            Conv2d-1           [-1, 32, 32, 32]             896\n",
            "       BatchNorm2d-2           [-1, 32, 32, 32]              64\n",
            "              ReLU-3           [-1, 32, 32, 32]               0\n",
            "         MaxPool2d-4           [-1, 32, 16, 16]               0\n",
            "            Conv2d-5           [-1, 64, 16, 16]          18,496\n",
            "       BatchNorm2d-6           [-1, 64, 16, 16]             128\n",
            "              ReLU-7           [-1, 64, 16, 16]               0\n",
            "         MaxPool2d-8             [-1, 64, 8, 8]               0\n",
            "            Conv2d-9            [-1, 128, 8, 8]          73,856\n",
            "      BatchNorm2d-10            [-1, 128, 8, 8]             256\n",
            "             ReLU-11            [-1, 128, 8, 8]               0\n",
            "        MaxPool2d-12            [-1, 128, 4, 4]               0\n",
            "           Linear-13                   [-1, 10]          20,490\n",
            "================================================================\n",
            "Total params: 114,186\n",
            "Trainable params: 114,186\n",
            "Non-trainable params: 0\n",
            "----------------------------------------------------------------\n",
            "Input size (MB): 0.01\n",
            "Forward/backward pass size (MB): 1.42\n",
            "Params size (MB): 0.44\n",
            "Estimated Total Size (MB): 1.87\n",
            "----------------------------------------------------------------\n"
          ]
        }
      ]
    },
    {
      "cell_type": "markdown",
      "source": [
        "## CNN 학습"
      ],
      "metadata": {
        "id": "Jkq7zBD1ruPt"
      }
    },
    {
      "cell_type": "code",
      "source": [
        "# 4. 학습을 위한 손실함수와 옵티마이저 설정\n",
        "criterion = nn.CrossEntropyLoss()\n",
        "optimizer = optim.Adam(net.parameters(), lr=0.001)\n",
        "\n",
        "# 학습 과정 시, 손실 값과 정확도를 저장할 변수 초기화\n",
        "train_losses = []\n",
        "test_accuracies = []"
      ],
      "metadata": {
        "id": "0TRPW1XBSaDV"
      },
      "execution_count": null,
      "outputs": []
    },
    {
      "cell_type": "code",
      "source": [
        "# 5. 학습 루프\n",
        "epochs = 10 # 총 10번의 epoch 동안 반복\n",
        "for epoch in range(epochs):\n",
        "    net.train()  # 모델을 학습 모드로 설정 (Dropout, BatchNorm 등 활성화)\n",
        "    running_loss = 0.0  # epoch 동안 손실값을 누적할 변수 초기화\n",
        "\n",
        "    # 훈련 데이터(trainloader)에서 배치 단위로 반복\n",
        "    for i, (inputs, labels) in enumerate(trainloader):\n",
        "        # 입력 데이터와 정답 레이블을 GPU 또는 CPU로 이동\n",
        "        inputs, labels = inputs.to(device), labels.to(device)\n",
        "\n",
        "        optimizer.zero_grad()     # 이전에 계산된 gradient를 초기화\n",
        "        outputs = net(inputs)     # 모델에 입력을 넣고 예측값 출력\n",
        "        loss = criterion(outputs, labels)  # 손실(loss) 계산\n",
        "        loss.backward()           # 역전파로 gradient 계산\n",
        "        optimizer.step()          # gradient를 사용해 모델 파라미터 업데이트\n",
        "        running_loss += loss.item()  # 배치 손실값을 누적 (float 값)\n",
        "\n",
        "    # epoch별 평균 손실값 계산\n",
        "    avg_loss = running_loss / len(trainloader)\n",
        "    train_losses.append(avg_loss)  # 그래프 시각화 등을 위한 손실 기록\n",
        "\n",
        "    # 평가 모드로 전환 (Dropout, BatchNorm 등 비활성화)\n",
        "    net.eval()\n",
        "    correct = 0  # 맞힌 샘플 수\n",
        "    total = 0    # 전체 샘플 수\n",
        "\n",
        "    # 테스트 시에는 gradient 계산 필요 없음 → 연산 효율 높임\n",
        "    with torch.no_grad():\n",
        "        # 테스트 데이터셋에서 배치 단위로 평가\n",
        "        for inputs, labels in testloader:\n",
        "            inputs, labels = inputs.to(device), labels.to(device)\n",
        "            outputs = net(inputs)  # 모델 예측\n",
        "            _, predicted = torch.max(outputs, 1)  # 가장 높은 로짓값을 가진 클래스 선택\n",
        "            total += labels.size(0)  # 총 정답 수 누적\n",
        "            correct += (predicted == labels).sum().item()  # 맞힌 개수 누적\n",
        "\n",
        "    # 정확도(%) 계산\n",
        "    accuracy = 100 * correct / total\n",
        "    test_accuracies.append(accuracy)  # 정확도 기록\n",
        "\n",
        "    # epoch 결과 출력\n",
        "    print(f'[Epoch {epoch+1}] Loss: {avg_loss:.3f} | Test Accuracy: {accuracy:.2f}%')"
      ],
      "metadata": {
        "colab": {
          "base_uri": "https://localhost:8080/"
        },
        "id": "GWUyhQVFTm92",
        "outputId": "0157a4dc-8c90-4bc3-e66a-44599f96da6b"
      },
      "execution_count": null,
      "outputs": [
        {
          "output_type": "stream",
          "name": "stdout",
          "text": [
            "[Epoch 1] Loss: 1.408 | Test Accuracy: 60.83%\n",
            "[Epoch 2] Loss: 1.054 | Test Accuracy: 68.01%\n",
            "[Epoch 3] Loss: 0.938 | Test Accuracy: 71.28%\n",
            "[Epoch 4] Loss: 0.854 | Test Accuracy: 71.74%\n",
            "[Epoch 5] Loss: 0.804 | Test Accuracy: 71.15%\n",
            "[Epoch 6] Loss: 0.761 | Test Accuracy: 73.84%\n",
            "[Epoch 7] Loss: 0.721 | Test Accuracy: 75.57%\n",
            "[Epoch 8] Loss: 0.694 | Test Accuracy: 74.90%\n",
            "[Epoch 9] Loss: 0.668 | Test Accuracy: 77.39%\n",
            "[Epoch 10] Loss: 0.647 | Test Accuracy: 77.43%\n"
          ]
        }
      ]
    },
    {
      "cell_type": "markdown",
      "source": [
        "#### torch.max() 샘플 코드"
      ],
      "metadata": {
        "id": "MLhkUcKMjmbk"
      }
    },
    {
      "cell_type": "code",
      "source": [
        "x = torch.tensor([1, 5, 3])\n",
        "max_value = torch.max(x)\n",
        "print(max_value)  # tensor(5)"
      ],
      "metadata": {
        "colab": {
          "base_uri": "https://localhost:8080/"
        },
        "id": "vEue3JHZkh9L",
        "outputId": "1412af1a-d60c-45f9-979b-eee9ddeb27bd"
      },
      "execution_count": null,
      "outputs": [
        {
          "output_type": "stream",
          "name": "stdout",
          "text": [
            "tensor(5)\n"
          ]
        }
      ]
    },
    {
      "cell_type": "code",
      "source": [
        "x = torch.tensor([\n",
        "    [1, 5, 2],\n",
        "    [8, 3, 7]\n",
        "])\n",
        "values, indices = torch.max(x, dim=1)\n",
        "print(values)   # tensor([5, 8]) → 각 행의 최댓값\n",
        "print(indices)  # tensor([1, 0]) → 각 행에서 최댓값이 있는 열 인덱스"
      ],
      "metadata": {
        "colab": {
          "base_uri": "https://localhost:8080/"
        },
        "id": "-K_SJOJLkdoz",
        "outputId": "adf0bb84-d199-4faf-9e9c-1b346bb03797"
      },
      "execution_count": null,
      "outputs": [
        {
          "output_type": "stream",
          "name": "stdout",
          "text": [
            "tensor([5, 8])\n",
            "tensor([1, 0])\n"
          ]
        }
      ]
    },
    {
      "cell_type": "code",
      "source": [
        "import torch\n",
        "\n",
        "# 예: 모델의 예측 결과 (batch_size=3, num_classes=4)\n",
        "outputs = torch.tensor([\n",
        "    [0.1, 0.2, 0.6, 0.1],   # 샘플 0 → class 2\n",
        "    [0.8, 0.1, 0.05, 0.05], # 샘플 1 → class 0\n",
        "    [0.3, 0.4, 0.1, 0.2]    # 샘플 2 → class 1\n",
        "])\n",
        "\n",
        "# 각 행(샘플)에서 가장 큰 값의 인덱스를 가져옴\n",
        "_, predicted = torch.max(outputs, 1)\n",
        "\n",
        "print(\"Outputs:\\n\", outputs)\n",
        "print(\"Predicted class indices:\", predicted)\n",
        "print(\"variable _:\", _)"
      ],
      "metadata": {
        "colab": {
          "base_uri": "https://localhost:8080/"
        },
        "id": "ZlGzEravjlzi",
        "outputId": "93d81ed0-bd55-41d3-b3c1-56cd7760cb21"
      },
      "execution_count": null,
      "outputs": [
        {
          "output_type": "stream",
          "name": "stdout",
          "text": [
            "Outputs:\n",
            " tensor([[0.1000, 0.2000, 0.6000, 0.1000],\n",
            "        [0.8000, 0.1000, 0.0500, 0.0500],\n",
            "        [0.3000, 0.4000, 0.1000, 0.2000]])\n",
            "Predicted class indices: tensor([2, 0, 1])\n",
            "variable _: tensor([0.6000, 0.8000, 0.4000])\n"
          ]
        }
      ]
    },
    {
      "cell_type": "markdown",
      "source": [
        "## CNN 평가"
      ],
      "metadata": {
        "id": "xlselOl-sJp7"
      }
    },
    {
      "cell_type": "code",
      "source": [
        "# 6. 테스트 정확도 및 예측 수집\n",
        "# 모델을 평가 모드로 설정 (Dropout, BatchNorm 비활성화)\n",
        "net.eval()\n",
        "\n",
        "# 정확도 계산을 위한 변수 초기화\n",
        "correct = 0  # 맞힌 개수\n",
        "total = 0    # 전체 테스트 샘플 수\n",
        "\n",
        "# 결과 시각화를 위한 리스트들\n",
        "all_preds = []   # 예측된 레이블 저장용\n",
        "all_images = []  # 이미지 데이터 저장용\n",
        "all_labels = []  # 실제 정답 저장용\n",
        "\n",
        "# gradient 계산은 하지 않도록 설정 → 속도 ↑, 메모리 ↓\n",
        "with torch.no_grad():\n",
        "    # 테스트 데이터셋을 배치 단위로 평가\n",
        "    for inputs, labels in testloader:\n",
        "        # 입력과 레이블을 CPU 또는 GPU로 이동\n",
        "        inputs, labels = inputs.to(device), labels.to(device)\n",
        "\n",
        "        # 모델에 입력을 넣고 출력(예측값) 계산\n",
        "        # outputs 크기: [batch_size, num_classes]\n",
        "        outputs = net(inputs)\n",
        "\n",
        "        # 가장 높은 확률값을 갖는 클래스 인덱스를 예측값으로 선택\n",
        "        # _는 최대 확률값 (사용하지 않음), predicted는 클래스 인덱스\n",
        "        _, predicted = torch.max(outputs, 1)\n",
        "        # 전체 수와 맞힌 수 누적\n",
        "        total += labels.size(0)\n",
        "        correct += (predicted == labels).sum().item()\n",
        "\n",
        "        # 결과 저장 (CPU로 이동한 뒤 numpy나 텐서로 저장)\n",
        "        all_preds.extend(predicted.cpu().numpy())\n",
        "        all_images.extend(inputs.cpu())\n",
        "        all_labels.extend(labels.cpu())\n",
        "\n",
        "# 최종 정확도 출력\n",
        "print(f'Test Accuracy: {100 * correct / total:.2f}%')"
      ],
      "metadata": {
        "colab": {
          "base_uri": "https://localhost:8080/"
        },
        "id": "HFM7gt4QayEq",
        "outputId": "b181d7aa-8e39-42e2-ab4a-077629960fd6"
      },
      "execution_count": null,
      "outputs": [
        {
          "output_type": "stream",
          "name": "stdout",
          "text": [
            "Test Accuracy: 77.43%\n"
          ]
        }
      ]
    },
    {
      "cell_type": "markdown",
      "source": [
        "### 데이터 시각화"
      ],
      "metadata": {
        "id": "9mr08p-Rllb_"
      }
    },
    {
      "cell_type": "code",
      "source": [
        "%config Inlinebackend.figure_format = 'retina'"
      ],
      "metadata": {
        "id": "8ECQ6nhXjdyM"
      },
      "execution_count": null,
      "outputs": []
    },
    {
      "cell_type": "code",
      "source": [
        "# matplotlib 라이브러리에서 그래프를 그리기 위한 pyplot 모듈 임포트\n",
        "import matplotlib.pyplot as plt\n",
        "\n",
        "# 손실과 정확도를 함께 시각화하는 함수 정의\n",
        "def plot_loss_and_accuracy_together(train_losses, test_accuracies):\n",
        "    # 에폭 번호 리스트 생성 (1부터 시작)\n",
        "    epochs = range(1, len(train_losses) + 1)\n",
        "\n",
        "    # 하나의 figure와 기본 축(ax1)을 생성 (그래프 크기는 6x4인치)\n",
        "    fig, ax1 = plt.subplots(figsize=(6, 4))\n",
        "\n",
        "    # === 왼쪽 Y축: 손실(Loss) ===\n",
        "    color = 'tab:red'  # 손실 곡선은 빨간색으로\n",
        "    ax1.set_xlabel('Epoch')  # X축 라벨: 에폭 번호\n",
        "    ax1.set_ylabel('Loss', color=color)  # 왼쪽 Y축 라벨: 손실값\n",
        "    ax1.plot(epochs, train_losses, color=color, marker='o', label='Loss')  # 손실 곡선 그리기 (동그라미 마커 사용)\n",
        "    ax1.tick_params(axis='y', labelcolor=color)  # 왼쪽 Y축 눈금 색상도 빨간색으로\n",
        "    ax1.grid(True)  # 배경에 그리드 표시 (보기 편하게)\n",
        "\n",
        "    # === 오른쪽 Y축: 정확도(Accuracy) ===\n",
        "    ax2 = ax1.twinx()  # ax1과 X축을 공유하는 새로운 Y축 생성\n",
        "    color = 'tab:blue'  # 정확도 곡선은 파란색으로\n",
        "    ax2.set_ylabel('Accuracy (%)', color=color)  # 오른쪽 Y축 라벨\n",
        "    ax2.plot(epochs, test_accuracies, color=color, marker='x', label='Accuracy')  # 정확도 곡선 그리기 (X 마커 사용)\n",
        "    ax2.tick_params(axis='y', labelcolor=color)  # 오른쪽 Y축 눈금 색상 파란색\n",
        "\n",
        "    # 전체 그래프 제목 설정\n",
        "    plt.title('Training Loss and Test Accuracy per Epoch')\n",
        "\n",
        "    # 레이아웃 자동 조정 (레이블 겹침 방지)\n",
        "    fig.tight_layout()\n",
        "\n",
        "    # 최종 그래프 화면에 출력\n",
        "    plt.show()\n",
        "\n",
        "# 함수 호출: 손실과 정확도 그래프 그리기\n",
        "plot_loss_and_accuracy_together(train_losses, test_accuracies)"
      ],
      "metadata": {
        "colab": {
          "base_uri": "https://localhost:8080/",
          "height": 407
        },
        "id": "oB81S_89loGK",
        "outputId": "e5abb573-7c97-461f-9beb-4df7d797e553"
      },
      "execution_count": null,
      "outputs": [
        {
          "output_type": "display_data",
          "data": {
            "text/plain": [
              "<Figure size 600x400 with 2 Axes>"
            ],
            "image/png": "[encoded data removed]"
          },
          "metadata": {}
        }
      ]
    },
    {
      "cell_type": "markdown",
      "source": [
        "### CNN 결과 시각화"
      ],
      "metadata": {
        "id": "42laTyNfk1bC"
      }
    },
    {
      "cell_type": "code",
      "source": [
        "# 7. CIFAR-10 데이터셋에 대해 정규화 해제 후 시각화 함수 정의\n",
        "def imshow(img):\n",
        "    # CIFAR-10 데이터셋에 적용된 정규화를 복원 (역정규화)\n",
        "    # 채널별 평균값(R, G, B)을 텐서 형태로 정의\n",
        "    mean = torch.tensor([0.4914, 0.4822, 0.4465]).view(3, 1, 1)\n",
        "    # 채널별 표준편차 텐서 형태로 정의\n",
        "    std = torch.tensor([0.2023, 0.1994, 0.2010]).view(3, 1, 1)\n",
        "    img = img * std + mean  # 정규화 반대로 되돌리기\n",
        "\n",
        "    # 텐서를 numpy로 변환\n",
        "    img = img.numpy()\n",
        "    # 역 정규화로 발생할 수 있는 오차로 픽셀 값 범위를 0~1로 제한\n",
        "    # 모든 값을 강제로 0 이상, 1 이하로 제한\n",
        "    img = np.clip(img, 0, 1)\n",
        "\n",
        "    # matplotlib은 (높이, 너비, 채널) 형식 요구. 따라서 축 변환 필요\n",
        "    # (채널, 높이, 너비) → (높이, 너비, 채널) 로 차원 전환 후 이미지 출력\n",
        "    plt.imshow(np.transpose(img, (1, 2, 0)))\n",
        "    plt.axis('off')  # 축은 생략"
      ],
      "metadata": {
        "id": "o6ZsQafvbEED"
      },
      "execution_count": null,
      "outputs": []
    },
    {
      "cell_type": "code",
      "source": [
        "# 8. 예측 결과 시각화 (앞에서 가져온 이미지 중 10개만)\n",
        "fig = plt.figure(figsize=(6, 4))  # 전체 출력 이미지 크기 설정\n",
        "\n",
        "# 예측을 점검을 시작 첨자 설정, 0, 10, 20, ... 등 설정\n",
        "# 실험 시 0, 10, 20처럼 바꾸어 가며 다른 구간의 결과를 확인 가능\n",
        "start_idx = 20\n",
        "for idx in range(10):\n",
        "    # 2행 5열의 서브플롯에 이미지 추가\n",
        "    ax = fig.add_subplot(2, 5, idx+1, xticks=[], yticks=[])\n",
        "\n",
        "    # idx번째 이미지 출력\n",
        "    idx = idx + start_idx\n",
        "    imshow(all_images[idx])\n",
        "\n",
        "    # 예측 라벨을 이미지 상단에 표시\n",
        "    ax.set_title(\n",
        "        f\"{classes[all_preds[idx]]}\",\n",
        "        # 정답이면 초록, 오답이면 빨강\n",
        "        color=('green' if all_preds[idx]==all_labels[idx] else 'red')\n",
        "    )\n",
        "\n",
        "# 전체 타이틀 및 레이아웃 정리\n",
        "plt.suptitle(\"CIFAR-10 Test Predictions\")\n",
        "plt.tight_layout()\n",
        "plt.show()"
      ],
      "metadata": {
        "colab": {
          "base_uri": "https://localhost:8080/",
          "height": 375
        },
        "id": "ReRQOcH8bK9q",
        "outputId": "95412709-0a17-434f-84a6-062322ed5150"
      },
      "execution_count": null,
      "outputs": [
        {
          "output_type": "display_data",
          "data": {
            "text/plain": [
              "<Figure size 600x400 with 10 Axes>"
            ],
            "image/png": "[encoded data removed]"
          },
          "metadata": {}
        }
      ]
    },
    {
      "cell_type": "markdown",
      "source": [
        "### 종료"
      ],
      "metadata": {
        "id": "aFxGlN4wjMzf"
      }
    },
    {
      "cell_type": "markdown",
      "source": [
        "### 추가 학습"
      ],
      "metadata": {
        "id": "G3QK6tLEjDrR"
      }
    },
    {
      "cell_type": "code",
      "source": [
        "classes"
      ],
      "metadata": {
        "colab": {
          "base_uri": "https://localhost:8080/"
        },
        "id": "JCYBREyUTm6j",
        "outputId": "b322d901-ed8f-4278-b379-6bd729ef15d8"
      },
      "execution_count": null,
      "outputs": [
        {
          "output_type": "execute_result",
          "data": {
            "text/plain": [
              "['airplane',\n",
              " 'automobile',\n",
              " 'bird',\n",
              " 'cat',\n",
              " 'deer',\n",
              " 'dog',\n",
              " 'frog',\n",
              " 'horse',\n",
              " 'ship',\n",
              " 'truck']"
            ]
          },
          "metadata": {},
          "execution_count": 27
        }
      ]
    },
    {
      "cell_type": "markdown",
      "source": [
        "### 손실함수 nn.CrossEntropyLoss() 이해"
      ],
      "metadata": {
        "id": "_iDDyj4IjVj3"
      }
    },
    {
      "cell_type": "code",
      "source": [
        "import torch\n",
        "import torch.nn as nn\n",
        "\n",
        "# 가짜 모델 출력 (logits)\n",
        "logits = torch.tensor([[1.5, 2.0, 0.3],   # 샘플 1\n",
        "                       [0.2, 2.4, 0.1]])  # 샘플 2\n",
        "\n",
        "# 정답 라벨 (클래스 인덱스)\n",
        "labels = torch.tensor([1, 1])  # 둘 다 class 1이 정답\n",
        "\n",
        "# 손실 함수 선언 및 계산\n",
        "criterion = nn.CrossEntropyLoss()\n",
        "loss = criterion(logits, labels)\n",
        "\n",
        "print(\"Loss:\", loss.item())"
      ],
      "metadata": {
        "id": "rf8pIGZ5jHqK",
        "outputId": "e9f9cbea-af13-4612-8138-cd8a0738a184",
        "colab": {
          "base_uri": "https://localhost:8080/"
        }
      },
      "execution_count": null,
      "outputs": [
        {
          "output_type": "stream",
          "name": "stdout",
          "text": [
            "Loss: 0.3866370618343353\n"
          ]
        }
      ]
    },
    {
      "cell_type": "markdown",
      "source": [
        "### 다음은 9강 전체 코드"
      ],
      "metadata": {
        "id": "6e1dpcIIbQNs"
      }
    },
    {
      "cell_type": "code",
      "source": [
        "import torch\n",
        "import torch.nn as nn\n",
        "import torch.optim as optim\n",
        "import torchvision\n",
        "import torchvision.transforms as transforms\n",
        "import matplotlib.pyplot as plt\n",
        "import numpy as np\n",
        "from torchsummary import summary\n",
        "\n",
        "# 1. CIFAR-10 데이터 전처리\n",
        "transform_train = transforms.Compose([\n",
        "    transforms.RandomHorizontalFlip(),    # 데이터 증강\n",
        "    transforms.RandomCrop(32, padding=4), # 데이터 증강\n",
        "    transforms.ToTensor(),                # 데이터 스케일 조정\n",
        "    transforms.Normalize((0.4914, 0.4822, 0.4465), # 데이터 정규화\n",
        "                         (0.2023, 0.1994, 0.2010))\n",
        "])\n",
        "\n",
        "transform_test = transforms.Compose([\n",
        "    transforms.ToTensor(),\n",
        "    transforms.Normalize((0.4914, 0.4822, 0.4465),\n",
        "                         (0.2023, 0.1994, 0.2010))\n",
        "])\n",
        "\n",
        "trainset = torchvision.datasets.CIFAR10(root='./data', train=True, download=True, transform=transform_train)\n",
        "trainloader = torch.utils.data.DataLoader(trainset, batch_size=128, shuffle=True, num_workers=2)\n",
        "\n",
        "testset = torchvision.datasets.CIFAR10(root='./data', train=False, download=True, transform=transform_test)\n",
        "testloader = torch.utils.data.DataLoader(testset, batch_size=100, shuffle=False, num_workers=2)\n",
        "\n",
        "classes = trainset.classes\n",
        "\n",
        "# 2. CNN 모델 정의\n",
        "class SimpleCNN(nn.Module):\n",
        "    def __init__(self):\n",
        "        super(SimpleCNN, self).__init__()\n",
        "        self.layer1 = nn.Sequential(\n",
        "            # 채널 수, 출력 필터인 feature map 수, 커널(필터)의 크기, 패딩 픽셀 수\n",
        "            # 내부적으로 (채널 수 × feature map 수) 만큼의 커널(필터)를 생성\n",
        "            # nn.Conv2d(3, 32, 3, padding=1),\n",
        "            nn.Conv2d(in_channels=3, out_channels=32, kernel_size=3, padding=1),\n",
        "\n",
        "            # 학습 중에 각 채널(feature map)의 평균과 분산을 정규화\n",
        "            # 학습 안정화, 수렴 속도 증가, 과적합 방지 효과\n",
        "            nn.BatchNorm2d(32),\n",
        "\n",
        "            # 비선형 활성화 함수 (Rectified Linear Unit)\n",
        "            # 음수는 0, 양수는 그대로 통과\n",
        "            nn.ReLU(),\n",
        "\n",
        "            # 2×2 크기의 창(window)을 사용해, 그 안에서 최댓값만 추출\n",
        "            # 32×32 → 16×16로 줄어듦\n",
        "            nn.MaxPool2d(2))\n",
        "\n",
        "        self.layer2 = nn.Sequential(\n",
        "            nn.Conv2d(32, 64, 3, padding=1),\n",
        "            nn.BatchNorm2d(64),\n",
        "            nn.ReLU(),\n",
        "            # 16×16 → 8×8로 줄어듦\n",
        "            nn.MaxPool2d(2))\n",
        "\n",
        "        self.layer3 = nn.Sequential(\n",
        "            nn.Conv2d(64, 128, 3, padding=1),\n",
        "            nn.BatchNorm2d(128),\n",
        "            nn.ReLU(),\n",
        "            # 8×8 → 4×4로 줄어듦\n",
        "            nn.MaxPool2d(2))\n",
        "\n",
        "        self.fc = nn.Linear(128 * 4 * 4, 10)\n",
        "\n",
        "    def forward(self, x):\n",
        "        out = self.layer1(x)\n",
        "        out = self.layer2(out)\n",
        "        out = self.layer3(out)\n",
        "        out = out.view(out.size(0), -1)\n",
        "        out = self.fc(out)\n",
        "        return out\n",
        "\n",
        "# 3. 모델 준비 및 구조 출력\n",
        "device = torch.device(\"cuda\" if torch.cuda.is_available() else \"cpu\")\n",
        "net = SimpleCNN().to(device)\n",
        "summary(net, (3, 32, 32))\n",
        "\n",
        "# 4. 학습을 위한 손실함수와 옵티마이저 설정\n",
        "criterion = nn.CrossEntropyLoss()\n",
        "optimizer = optim.Adam(net.parameters(), lr=0.001)\n",
        "\n",
        "# 학습 과정 시, 손실 값과 정확도를 저장할 변수 초기화\n",
        "train_losses = []\n",
        "test_accuracies = []\n",
        "\n",
        "# 5. 학습 루프\n",
        "epochs = 10 # 총 10번의 epoch 동안 반복\n",
        "for epoch in range(epochs):\n",
        "    net.train()  # 모델을 학습 모드로 설정 (Dropout, BatchNorm 등 활성화)\n",
        "    running_loss = 0.0  # epoch 동안 손실값을 누적할 변수 초기화\n",
        "\n",
        "    # 훈련 데이터(trainloader)에서 배치 단위로 반복\n",
        "    for i, (inputs, labels) in enumerate(trainloader):\n",
        "        # 입력 데이터와 정답 레이블을 GPU 또는 CPU로 이동\n",
        "        inputs, labels = inputs.to(device), labels.to(device)\n",
        "\n",
        "        optimizer.zero_grad()     # 이전에 계산된 gradient를 초기화\n",
        "        outputs = net(inputs)     # 모델에 입력을 넣고 예측값 출력\n",
        "        loss = criterion(outputs, labels)  # 손실(loss) 계산\n",
        "        loss.backward()           # 역전파로 gradient 계산\n",
        "        optimizer.step()          # gradient를 사용해 모델 파라미터 업데이트\n",
        "        running_loss += loss.item()  # 배치 손실값을 누적 (float 값)\n",
        "\n",
        "    # epoch별 평균 손실값 계산\n",
        "    avg_loss = running_loss / len(trainloader)\n",
        "    train_losses.append(avg_loss)  # 그래프 시각화 등을 위한 손실 기록\n",
        "\n",
        "    # 평가 모드로 전환 (Dropout, BatchNorm 등 비활성화)\n",
        "    net.eval()\n",
        "    correct = 0  # 맞힌 샘플 수\n",
        "    total = 0    # 전체 샘플 수\n",
        "\n",
        "    # 테스트 시에는 gradient 계산 필요 없음 → 연산 효율 높임\n",
        "    with torch.no_grad():\n",
        "        # 테스트 데이터셋에서 배치 단위로 평가\n",
        "        for inputs, labels in testloader:\n",
        "            inputs, labels = inputs.to(device), labels.to(device)\n",
        "            outputs = net(inputs)  # 모델 예측\n",
        "            _, predicted = torch.max(outputs, 1)  # 가장 높은 확률을 가진 클래스 선택\n",
        "            total += labels.size(0)  # 총 정답 수 누적\n",
        "            correct += (predicted == labels).sum().item()  # 맞힌 개수 누적\n",
        "\n",
        "    # 정확도(%) 계산\n",
        "    accuracy = 100 * correct / total\n",
        "    test_accuracies.append(accuracy)  # 정확도 기록\n",
        "\n",
        "    # epoch 결과 출력\n",
        "    print(f'[Epoch {epoch+1}] Loss: {avg_loss:.3f} | Test Accuracy: {accuracy:.2f}%')\n",
        "\n",
        "# 6. 테스트 정확도 및 예측 수집\n",
        "# 모델을 평가 모드로 설정 (Dropout, BatchNorm 비활성화)\n",
        "net.eval()\n",
        "\n",
        "# 정확도 계산을 위한 변수 초기화\n",
        "correct = 0  # 맞힌 개수\n",
        "total = 0    # 전체 테스트 샘플 수\n",
        "\n",
        "# 결과 시각화를 위한 리스트들\n",
        "all_preds = []   # 예측된 레이블 저장용\n",
        "all_images = []  # 이미지 데이터 저장용\n",
        "all_labels = []  # 실제 정답 저장용\n",
        "\n",
        "# gradient 계산은 하지 않도록 설정 → 속도 ↑, 메모리 ↓\n",
        "with torch.no_grad():\n",
        "    # 테스트 데이터셋을 배치 단위로 평가\n",
        "    for inputs, labels in testloader:\n",
        "        # 입력과 레이블을 CPU 또는 GPU로 이동\n",
        "        inputs, labels = inputs.to(device), labels.to(device)\n",
        "\n",
        "        # 모델에 입력을 넣고 출력(예측값) 계산\n",
        "        outputs = net(inputs)\n",
        "\n",
        "        # 가장 높은 확률값을 갖는 클래스 인덱스를 예측값으로 선택\n",
        "        _, predicted = torch.max(outputs, 1)\n",
        "\n",
        "        # 전체 수와 맞힌 수 누적\n",
        "        total += labels.size(0)\n",
        "        correct += (predicted == labels).sum().item()\n",
        "\n",
        "        # 결과 저장 (CPU로 이동한 뒤 numpy나 텐서로 저장)\n",
        "        all_preds.extend(predicted.cpu().numpy())\n",
        "        all_images.extend(inputs.cpu())\n",
        "        all_labels.extend(labels.cpu())\n",
        "\n",
        "# 최종 정확도 출력\n",
        "print(f'Test Accuracy: {100 * correct / total:.2f}%')\n",
        "\n",
        "# 7. 이미지 복원 및 시각화 함수 정의\n",
        "def imshow(img):\n",
        "    # CIFAR-10 데이터셋에 적용된 정규화를 복원 (역정규화)\n",
        "    mean = torch.tensor([0.4914, 0.4822, 0.4465]).view(3, 1, 1)\n",
        "    std = torch.tensor([0.2023, 0.1994, 0.2010]).view(3, 1, 1)\n",
        "    img = img * std + mean  # 정규화 반대로 되돌리기\n",
        "\n",
        "    # 텐서를 numpy로 변환하고 픽셀 값 범위를 0~1로 제한\n",
        "    img = img.numpy()\n",
        "    img = np.clip(img, 0, 1)\n",
        "\n",
        "    # (채널, 높이, 너비) → (높이, 너비, 채널) 로 차원 전환 후 이미지 출력\n",
        "    plt.imshow(np.transpose(img, (1, 2, 0)))\n",
        "    plt.axis('off')  # 축은 생략\n",
        "\n",
        "# 8. 예측 결과 시각화 (앞에서 가져온 이미지 중 10개만)\n",
        "fig = plt.figure(figsize=(6, 4))  # 전체 출력 이미지 크기 설정\n",
        "for idx in range(10):\n",
        "    # 2행 5열의 서브플롯에 이미지 추가\n",
        "    ax = fig.add_subplot(2, 5, idx+1, xticks=[], yticks=[])\n",
        "\n",
        "    # idx번째 이미지 출력\n",
        "    imshow(all_images[idx])\n",
        "\n",
        "    # 예측 라벨을 이미지 상단에 표시\n",
        "    ax.set_title(\n",
        "        f\"{classes[all_preds[idx]]}\",\n",
        "        color=('green' if all_preds[idx]==all_labels[idx] else 'red')  # 정답이면 초록, 오답이면 빨강\n",
        "    )\n",
        "\n",
        "# 전체 타이틀 및 레이아웃 정리\n",
        "plt.suptitle(\"CIFAR-10 Test Predictions\")\n",
        "plt.tight_layout()\n",
        "plt.show()"
      ],
      "metadata": {
        "id": "UWcoY9TASZ_z"
      },
      "execution_count": null,
      "outputs": []
    },
    {
      "cell_type": "markdown",
      "source": [
        "## 종료"
      ],
      "metadata": {
        "id": "tAY8wuohzVqQ"
      }
    }
  ]
}
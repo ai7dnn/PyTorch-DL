{
  "nbformat": 4,
  "nbformat_minor": 0,
  "metadata": {
    "colab": {
      "provenance": [],
      "gpuType": "T4",
      "include_colab_link": true
    },
    "kernelspec": {
      "name": "python3",
      "display_name": "Python 3"
    },
    "language_info": {
      "name": "python"
    },
    "accelerator": "GPU"
  },
  "cells": [
    {
      "cell_type": "markdown",
      "metadata": {
        "id": "view-in-github",
        "colab_type": "text"
      },
      "source": [
        "<a href=\"https://colab.research.google.com/github/soobook/PyTorch-DL/blob/main/code/PT14.ipynb\" target=\"_parent\"><img src=\"https://colab.research.google.com/assets/colab-badge.svg\" alt=\"Open In Colab\"/></a>"
      ]
    },
    {
      "cell_type": "markdown",
      "source": [
        "# 14회차: RNN을 활용한 영화평 감성 분석 (4) - 모델 최적화"
      ],
      "metadata": {
        "id": "vYRa2gWLoTh-"
      }
    },
    {
      "cell_type": "markdown",
      "source": [
        "## 고급 RNN 구현: LSTM 또는 GRU 구조 선택 IMDB 영화평 감성 분석\n",
        "\n"
      ],
      "metadata": {
        "id": "2EHhyfhMVUkS"
      }
    },
    {
      "cell_type": "code",
      "source": [
        "# 1. 라이브러리\n",
        "import torch, numpy as np\n",
        "import torch.nn as nn\n",
        "import torch.optim as optim\n",
        "from torch.utils.data import DataLoader, TensorDataset\n",
        "from keras.datasets import imdb\n",
        "from keras.preprocessing.sequence import pad_sequences\n",
        "from sklearn.utils import class_weight\n",
        "import matplotlib.pyplot as plt\n",
        "\n",
        "# 2-1. GPU 설정\n",
        "device = torch.device('cuda' if torch.cuda.is_available() else 'cpu')\n",
        "print(f\"Device: {device}\")"
      ],
      "metadata": {
        "colab": {
          "base_uri": "https://localhost:8080/"
        },
        "id": "4ftQvqWxgYjO",
        "outputId": "96fb0164-33b4-41ba-ee27-499e2536e4ff"
      },
      "execution_count": 1,
      "outputs": [
        {
          "output_type": "stream",
          "name": "stdout",
          "text": [
            "Device: cuda\n"
          ]
        }
      ]
    },
    {
      "cell_type": "code",
      "source": [
        "# 2-2. 주요 하이퍼패라미터 설정\n",
        "vocab_size = 10000 # 사용할 단어 집합 크기 (IMDB 상위 10,000개 단어만 사용)\n",
        "max_len = 500      # 입력 시퀀스 최대 길이 (부족하면 패딩, 초과하면 잘림)\n",
        "batch_size = 64    # 한 번에 학습할 샘플 수 (메모리 효율과 학습 안정성에 영향)\n",
        "embed_dim = 128    # 각 단어를 벡터로 변환할 때의 임베딩 차원 수\n",
        "hidden_dim = 128   # RNN의 은닉 상태(hidden state) 차원 수, 문맥 요약 크기\n",
        "epochs = 30        # 전체 학습 반복 횟수 (데이터셋 전체를 30번 반복 학습)\n",
        "use_gru = True     # True면 GRU 사용, False면 LSTM 사용 (성능/속도 트레이드오프 있음)\n",
        "num_layers = 1     # RNN 계층 수 (1이면 얕은 구조, 2 이상이면 deep RNN)"
      ],
      "metadata": {
        "id": "mu70SUiJ7OWZ"
      },
      "execution_count": 2,
      "outputs": []
    },
    {
      "cell_type": "code",
      "source": [
        "# 3. 데이터 로딩 및 전처리\n",
        "(x_train, y_train), (x_test, y_test) = imdb.load_data(num_words=vocab_size)\n",
        "x_train = pad_sequences(x_train, maxlen=max_len)\n",
        "x_test = pad_sequences(x_test, maxlen=max_len)\n",
        "x_train_tensor = torch.tensor(x_train, dtype=torch.long)\n",
        "y_train_tensor = torch.tensor(y_train, dtype=torch.float32)\n",
        "x_test_tensor = torch.tensor(x_test, dtype=torch.long)\n",
        "y_test_tensor = torch.tensor(y_test, dtype=torch.float32)"
      ],
      "metadata": {
        "id": "wwmDnj3Z7wgQ",
        "outputId": "406c89eb-428e-44e7-a0c2-04fa8c125598",
        "colab": {
          "base_uri": "https://localhost:8080/"
        }
      },
      "execution_count": 3,
      "outputs": [
        {
          "output_type": "stream",
          "name": "stdout",
          "text": [
            "Downloading data from https://storage.googleapis.com/tensorflow/tf-keras-datasets/imdb.npz\n",
            "\u001b[1m17464789/17464789\u001b[0m \u001b[32m━━━━━━━━━━━━━━━━━━━━\u001b[0m\u001b[37m\u001b[0m \u001b[1m2s\u001b[0m 0us/step\n"
          ]
        }
      ]
    },
    {
      "cell_type": "code",
      "source": [
        "# 4. 불균형 처리: class_weight → weight tensor\n",
        "class_weights = class_weight.compute_class_weight(class_weight='balanced', classes=np.unique(y_train), y=y_train)\n",
        "weight_tensor = torch.tensor(class_weights, dtype=torch.float32).to(device)\n",
        "print(weight_tensor)"
      ],
      "metadata": {
        "colab": {
          "base_uri": "https://localhost:8080/"
        },
        "id": "oe_qcsRA7z74",
        "outputId": "4b5bf156-7f24-4241-d129-b4d8b4666497"
      },
      "execution_count": 4,
      "outputs": [
        {
          "output_type": "stream",
          "name": "stdout",
          "text": [
            "tensor([1., 1.], device='cuda:0')\n"
          ]
        }
      ]
    },
    {
      "cell_type": "code",
      "source": [
        "# 불균형 처리 샘플 코드\n",
        "# class 0: 3개, class 1: 2개\n",
        "y_train_test = [0, 0, 0, 1, 1]\n",
        "class_weights_test = class_weight.compute_class_weight(class_weight='balanced', classes=np.unique(y_train_test), y=y_train_test)\n",
        "print(class_weights_test) #  ≈ [0.83, 1.25]\n",
        "weight_tensor_test = torch.tensor(class_weights_test, dtype=torch.float32).to(device)\n",
        "print(weight_tensor_test)"
      ],
      "metadata": {
        "colab": {
          "base_uri": "https://localhost:8080/"
        },
        "id": "NHRk8iVFH7TW",
        "outputId": "5d89c432-339f-4315-99e5-cf9478523f2b"
      },
      "execution_count": null,
      "outputs": [
        {
          "output_type": "stream",
          "name": "stdout",
          "text": [
            "[0.83333333 1.25      ]\n",
            "tensor([0.8333, 1.2500], device='cuda:0')\n"
          ]
        }
      ]
    },
    {
      "cell_type": "code",
      "source": [
        "# 5. DataLoader\n",
        "train_dataset = TensorDataset(x_train_tensor, y_train_tensor)\n",
        "test_dataset = TensorDataset(x_test_tensor, y_test_tensor)\n",
        "train_loader = DataLoader(train_dataset, batch_size=batch_size, shuffle=True)\n",
        "test_loader = DataLoader(test_dataset, batch_size=batch_size)"
      ],
      "metadata": {
        "id": "iBdVWYF_76II"
      },
      "execution_count": 5,
      "outputs": []
    },
    {
      "cell_type": "code",
      "source": [
        "# 6. 모델 정의\n",
        "class RecurrentClassifier(nn.Module):\n",
        "    def __init__(self, vocab_size, embed_dim, hidden_dim, use_gru=False, dropout=0.3, num_layers=1):\n",
        "        super().__init__()\n",
        "        self.embedding = nn.Embedding(vocab_size, embed_dim)\n",
        "        self.use_gru = use_gru\n",
        "        self.num_layers = num_layers\n",
        "        rnn_dropout = dropout if num_layers > 1 else 0.0\n",
        "        self.rnn = nn.GRU(embed_dim, hidden_dim, batch_first=True, dropout=rnn_dropout, num_layers=num_layers) if use_gru \\\n",
        "                   else nn.LSTM(embed_dim, hidden_dim, batch_first=True, dropout=rnn_dropout, num_layers=num_layers)\n",
        "        self.dropout = nn.Dropout(dropout)\n",
        "        self.fc = nn.Linear(hidden_dim, 1)\n",
        "        self.sigmoid = nn.Sigmoid()\n",
        "\n",
        "    def forward(self, x):\n",
        "        x = self.embedding(x)\n",
        "        _, h = self.rnn(x)\n",
        "        hidden = h[-1] if self.use_gru else h[0][-1]\n",
        "        hidden = self.dropout(hidden)\n",
        "        return self.sigmoid(self.fc(hidden)).squeeze()"
      ],
      "metadata": {
        "id": "8QeVFdRl8BMP"
      },
      "execution_count": 6,
      "outputs": []
    },
    {
      "cell_type": "code",
      "source": [
        "# 7. 모델/손실/옵티마이저\n",
        "model = RecurrentClassifier(vocab_size, embed_dim, hidden_dim, use_gru=use_gru,\n",
        "                            dropout=0.3, num_layers=num_layers).to(device)\n",
        "criterion = nn.BCELoss()  # 클래스 가중치는 아래에서 직접 적용\n",
        "optimizer = optim.Adam(model.parameters(), lr=0.001, weight_decay=1e-5)\n",
        "scheduler = optim.lr_scheduler.StepLR(optimizer, step_size=2, gamma=0.5)"
      ],
      "metadata": {
        "id": "0V-cHcA68DDC"
      },
      "execution_count": 7,
      "outputs": []
    },
    {
      "cell_type": "code",
      "source": [
        "# weights를 사용해 정답 레이블 수정 계산 샘플 코드\n",
        "weight_tensor_test = torch.tensor([0.8, 1.2])     # 클래스별 가중치: 0 → 0.8, 1 → 1.2\n",
        "labels_test = torch.tensor([0, 1, 0, 1])          # 배치 내 레이블들\n",
        "weights_test = weight_tensor_test[labels_test]    # 결과: [0.8, 1.2, 0.8, 1.2]\n",
        "weights_test"
      ],
      "metadata": {
        "colab": {
          "base_uri": "https://localhost:8080/"
        },
        "id": "adXRX_uDOCPp",
        "outputId": "5e8a2226-1914-437b-eb1f-1d673a738d57"
      },
      "execution_count": null,
      "outputs": [
        {
          "output_type": "execute_result",
          "data": {
            "text/plain": [
              "tensor([0.8000, 1.2000, 0.8000, 1.2000])"
            ]
          },
          "metadata": {},
          "execution_count": 24
        }
      ]
    },
    {
      "cell_type": "code",
      "source": [
        "# 8. 학습 루프\n",
        "train_losses = []\n",
        "print(\"Training started...\")\n",
        "for epoch in range(epochs):\n",
        "    model.train()\n",
        "    running_loss = 0\n",
        "    for inputs, labels in train_loader:\n",
        "        inputs, labels = inputs.to(device), labels.to(device)\n",
        "        optimizer.zero_grad()\n",
        "        outputs = model(inputs)\n",
        "        # 각 샘플별 클래스에 해당하는 weight 선택\n",
        "        weights = weight_tensor[labels.long()]\n",
        "        loss = criterion(outputs, labels)\n",
        "        # 최종 손실 = 평균(샘플별 손실 × 샘플별 클래스 가중치)\n",
        "        loss = (loss * weights).mean() # 클래스별 가중치 반영한 손실\n",
        "        loss.backward()\n",
        "        optimizer.step()\n",
        "        running_loss += loss.item()\n",
        "    scheduler.step()\n",
        "    avg_loss = running_loss / len(train_loader)\n",
        "    train_losses.append(avg_loss)\n",
        "    print(f\"Epoch {epoch+1}/{epochs}, Loss: {avg_loss:.4f}, LR: {scheduler.get_last_lr()[0]:.8f}\")"
      ],
      "metadata": {
        "colab": {
          "base_uri": "https://localhost:8080/"
        },
        "id": "uWaCCF508Jfo",
        "outputId": "f368f134-956f-4793-cc06-f2a3db075ced"
      },
      "execution_count": 8,
      "outputs": [
        {
          "output_type": "stream",
          "name": "stdout",
          "text": [
            "Training started...\n",
            "Epoch 1/30, Loss: 0.5761, LR: 0.00100000\n",
            "Epoch 2/30, Loss: 0.3896, LR: 0.00050000\n",
            "Epoch 3/30, Loss: 0.2594, LR: 0.00050000\n",
            "Epoch 4/30, Loss: 0.2141, LR: 0.00025000\n",
            "Epoch 5/30, Loss: 0.1709, LR: 0.00025000\n",
            "Epoch 6/30, Loss: 0.1520, LR: 0.00012500\n",
            "Epoch 7/30, Loss: 0.1307, LR: 0.00012500\n",
            "Epoch 8/30, Loss: 0.1187, LR: 0.00006250\n",
            "Epoch 9/30, Loss: 0.1071, LR: 0.00006250\n",
            "Epoch 10/30, Loss: 0.1019, LR: 0.00003125\n",
            "Epoch 11/30, Loss: 0.0953, LR: 0.00003125\n",
            "Epoch 12/30, Loss: 0.0932, LR: 0.00001563\n",
            "Epoch 13/30, Loss: 0.0905, LR: 0.00001563\n",
            "Epoch 14/30, Loss: 0.0887, LR: 0.00000781\n",
            "Epoch 15/30, Loss: 0.0869, LR: 0.00000781\n",
            "Epoch 16/30, Loss: 0.0862, LR: 0.00000391\n",
            "Epoch 17/30, Loss: 0.0853, LR: 0.00000391\n",
            "Epoch 18/30, Loss: 0.0858, LR: 0.00000195\n",
            "Epoch 19/30, Loss: 0.0847, LR: 0.00000195\n",
            "Epoch 20/30, Loss: 0.0844, LR: 0.00000098\n",
            "Epoch 21/30, Loss: 0.0846, LR: 0.00000098\n",
            "Epoch 22/30, Loss: 0.0845, LR: 0.00000049\n",
            "Epoch 23/30, Loss: 0.0842, LR: 0.00000049\n",
            "Epoch 24/30, Loss: 0.0838, LR: 0.00000024\n",
            "Epoch 25/30, Loss: 0.0837, LR: 0.00000024\n",
            "Epoch 26/30, Loss: 0.0838, LR: 0.00000012\n",
            "Epoch 27/30, Loss: 0.0842, LR: 0.00000012\n",
            "Epoch 28/30, Loss: 0.0842, LR: 0.00000006\n",
            "Epoch 29/30, Loss: 0.0844, LR: 0.00000006\n",
            "Epoch 30/30, Loss: 0.0841, LR: 0.00000003\n"
          ]
        }
      ]
    },
    {
      "cell_type": "code",
      "source": [
        "# 9. 평가 함수\n",
        "def evaluate(model, dataloader):\n",
        "    model.eval()\n",
        "    correct = total = 0\n",
        "    with torch.no_grad():\n",
        "        for inputs, labels in dataloader:\n",
        "            inputs, labels = inputs.to(device), labels.to(device)\n",
        "            outputs = model(inputs)\n",
        "            preds = (outputs > 0.5).float()\n",
        "            correct += (preds == labels).sum().item()\n",
        "            total += labels.size(0)\n",
        "    return correct / total\n",
        "\n",
        "# 10. 평가 결과\n",
        "acc = evaluate(model, test_loader)\n",
        "print(f\"Test Accuracy: {acc * 100:.2f}%\")"
      ],
      "metadata": {
        "colab": {
          "base_uri": "https://localhost:8080/"
        },
        "id": "niGOxcZN8HXP",
        "outputId": "e8555e62-febf-4a71-d6d6-191ab1c53b03"
      },
      "execution_count": 9,
      "outputs": [
        {
          "output_type": "stream",
          "name": "stdout",
          "text": [
            "Test Accuracy: 89.26%\n"
          ]
        }
      ]
    },
    {
      "cell_type": "code",
      "source": [
        "%config InlineBackend.figure_format = 'retina'"
      ],
      "metadata": {
        "id": "XyP7YGcO7kAV"
      },
      "execution_count": 10,
      "outputs": []
    },
    {
      "cell_type": "code",
      "source": [
        "# 11. 손실 시각화\n",
        "plt.plot(train_losses, label='Train Loss')\n",
        "plt.xlabel(\"Epoch\")\n",
        "plt.ylabel(\"Loss\")\n",
        "plt.title(\"Training Loss\")\n",
        "plt.legend()\n",
        "plt.grid()\n",
        "plt.show()"
      ],
      "metadata": {
        "colab": {
          "base_uri": "https://localhost:8080/",
          "height": 471
        },
        "id": "yBv4t8kF7jbg",
        "outputId": "6adf444d-5602-4ead-8860-91a7d767b8a8"
      },
      "execution_count": 11,
      "outputs": [
        {
          "output_type": "display_data",
          "data": {
            "text/plain": [
              "<Figure size 640x480 with 1 Axes>"
            ],
            "image/png": "[encoded data removed]"
          },
          "metadata": {
            "image/png": {
              "width": 569,
              "height": 454
            }
          }
        }
      ]
    },
    {
      "cell_type": "markdown",
      "source": [
        "## 종료"
      ],
      "metadata": {
        "id": "tAY8wuohzVqQ"
      }
    }
  ]
}
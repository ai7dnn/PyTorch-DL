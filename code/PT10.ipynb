{
  "cells": [
    {
      "cell_type": "markdown",
      "metadata": {
        "id": "view-in-github",
        "colab_type": "text"
      },
      "source": [
        "<a href=\"https://colab.research.google.com/github/soobook/PyTorch-DL/blob/main/code/PT10.ipynb\" target=\"_parent\"><img src=\"https://colab.research.google.com/assets/colab-badge.svg\" alt=\"Open In Colab\"/></a>"
      ]
    },
    {
      "cell_type": "markdown",
      "source": [
        "# 10회차: CNN을 활용한 컬러 이미지 분류 (4) – 모델 최적화"
      ],
      "metadata": {
        "id": "5LXyNdkkLr7e"
      }
    },
    {
      "cell_type": "markdown",
      "metadata": {
        "id": "DiohrIWbZe8o"
      },
      "source": [
        "## 고도화된 CNN 모델 구현"
      ]
    },
    {
      "cell_type": "code",
      "execution_count": 1,
      "metadata": {
        "id": "kzOtGFIg3etQ"
      },
      "outputs": [],
      "source": [
        "# PyTorch를 이용한 고도화된 CNN 모델 구현\n",
        "# CIFAR-10 데이터셋을 기반으로 모델 성능 향상을 위해 다양한 기법을 적용한 예제\n",
        "\n",
        "import torch\n",
        "import torch.nn as nn\n",
        "import torch.optim as optim\n",
        "import torchvision\n",
        "# 이미지 전처리와 데이터 증강(Data Augmentation) 을 위한 모듈\n",
        "import torchvision.transforms as transforms\n",
        "import matplotlib.pyplot as plt\n",
        "import numpy as np\n",
        "from torchsummary import summary\n",
        "# 데이터셋 샘플링 시 각 데이터에 다른 확률을 부여해서 뽑을 수 있게 하는 샘플러\n",
        "from torch.utils.data import WeightedRandomSampler\n",
        "from collections import Counter"
      ]
    },
    {
      "cell_type": "code",
      "source": [
        "# ================================\n",
        "# 1. 데이터 전처리 및 증강\n",
        "# ================================\n",
        "\n",
        "# 학습 데이터에 다양한 데이터 증강 기법을 적용해 모델의 일반화 성능을 향상\n",
        "transform_train = transforms.Compose([\n",
        "    transforms.RandomHorizontalFlip(),            # 이미지를 좌우로 무작위 반전\n",
        "    transforms.RandomCrop(32, padding=4),         # 4픽셀 패딩 후 32x32 크기로 무작위 크롭\n",
        "    transforms.ColorJitter(brightness=0.2,        # 밝기 조절\n",
        "                           contrast=0.2,          # 대비 조절\n",
        "                           saturation=0.2),       # 채도 조절\n",
        "    transforms.RandomRotation(10),                # -10도~+10도 범위에서 무작위 회전\n",
        "    transforms.ToTensor(),                        # PIL 이미지를 Tensor로 변환\n",
        "    transforms.Normalize((0.4914, 0.4822, 0.4465), # 각 채널별 평균과 표준편차로 정규화\n",
        "                         (0.2023, 0.1994, 0.2010))\n",
        "])\n",
        "\n",
        "# 테스트 데이터는 데이터 증강 없이 정규화만 수행\n",
        "transform_test = transforms.Compose([\n",
        "    transforms.ToTensor(),\n",
        "    transforms.Normalize((0.4914, 0.4822, 0.4465),\n",
        "                         (0.2023, 0.1994, 0.2010))\n",
        "])\n",
        "\n",
        "# CIFAR-10 학습/테스트 데이터셋 로드\n",
        "trainset = torchvision.datasets.CIFAR10(root='./data', train=True, download=True, transform=transform_train)"
      ],
      "metadata": {
        "colab": {
          "base_uri": "https://localhost:8080/"
        },
        "id": "K3tzXpE65I6G",
        "outputId": "9f2dd6af-ad2b-43c0-ba22-3c8b61278140"
      },
      "execution_count": 2,
      "outputs": [
        {
          "output_type": "stream",
          "name": "stderr",
          "text": [
            "100%|██████████| 170M/170M [00:03<00:00, 43.2MB/s]\n"
          ]
        }
      ]
    },
    {
      "cell_type": "code",
      "source": [
        "# ================================\n",
        "# 2. CNN 모델 정의\n",
        "# ================================\n",
        "\n",
        "class ImprovedCNN(nn.Module):\n",
        "    def __init__(self):\n",
        "        super(ImprovedCNN, self).__init__()\n",
        "\n",
        "        # 특징 추출을 위한 Convolutional Layer 블록 정의\n",
        "        self.features = nn.Sequential(\n",
        "            # 첫 번째 블록: 3채널 입력 → 64채널 출력\n",
        "            nn.Conv2d(3, 64, kernel_size=3, padding=1),\n",
        "            nn.BatchNorm2d(64),\n",
        "            nn.ReLU(),\n",
        "            nn.Conv2d(64, 64, kernel_size=3, padding=1),\n",
        "            nn.BatchNorm2d(64),\n",
        "            nn.ReLU(),\n",
        "            nn.MaxPool2d(kernel_size=2),\n",
        "            nn.Dropout(0.25),\n",
        "\n",
        "            # 두 번째 블록: 64채널 → 128채널\n",
        "            nn.Conv2d(64, 128, kernel_size=3, padding=1),\n",
        "            nn.BatchNorm2d(128),\n",
        "            nn.ReLU(),\n",
        "            nn.Conv2d(128, 128, kernel_size=3, padding=1),\n",
        "            nn.BatchNorm2d(128),\n",
        "            nn.ReLU(),\n",
        "            nn.MaxPool2d(kernel_size=2),\n",
        "            nn.Dropout(0.25),\n",
        "\n",
        "            # 세 번째 블록: 128채널 → 256채널\n",
        "            nn.Conv2d(128, 256, kernel_size=3, padding=1),\n",
        "            nn.BatchNorm2d(256),\n",
        "            nn.ReLU(),\n",
        "            nn.MaxPool2d(kernel_size=2),\n",
        "            nn.Dropout(0.3)\n",
        "        )\n",
        "\n",
        "        # 전결합층 (Flatten 후 Classifier)\n",
        "        self.classifier = nn.Sequential(\n",
        "            nn.Linear(256 * 4 * 4, 512),  # Conv 결과를 FC 입력으로 변환\n",
        "            nn.ReLU(),\n",
        "            nn.Dropout(0.5),\n",
        "            nn.Linear(512, 10)           # CIFAR-10 클래스 수만큼 출력\n",
        "        )\n",
        "\n",
        "    def forward(self, x):\n",
        "        x = self.features(x)              # Conv 레이어 통과\n",
        "        x = x.view(x.size(0), -1)         # Flatten\n",
        "        x = self.classifier(x)            # Fully connected layer 통과\n",
        "        return x"
      ],
      "metadata": {
        "id": "RIJVrOdI5kRe"
      },
      "execution_count": 4,
      "outputs": []
    },
    {
      "cell_type": "code",
      "source": [
        "device = torch.device(\"cuda\" if torch.cuda.is_available() else \"cpu\")\n",
        "net = ImprovedCNN().to(device)  # 모델을 GPU 또는 CPU로 이동\n",
        "summary(net, (3, 32, 32))       # 모델 구조 요약 출력"
      ],
      "metadata": {
        "colab": {
          "base_uri": "https://localhost:8080/"
        },
        "id": "phR07seT5wqt",
        "outputId": "01b69f92-5154-4b2b-a3c9-1bc6386f1821"
      },
      "execution_count": 5,
      "outputs": [
        {
          "output_type": "stream",
          "name": "stdout",
          "text": [
            "----------------------------------------------------------------\n",
            "        Layer (type)               Output Shape         Param #\n",
            "================================================================\n",
            "            Conv2d-1           [-1, 64, 32, 32]           1,792\n",
            "       BatchNorm2d-2           [-1, 64, 32, 32]             128\n",
            "              ReLU-3           [-1, 64, 32, 32]               0\n",
            "            Conv2d-4           [-1, 64, 32, 32]          36,928\n",
            "       BatchNorm2d-5           [-1, 64, 32, 32]             128\n",
            "              ReLU-6           [-1, 64, 32, 32]               0\n",
            "         MaxPool2d-7           [-1, 64, 16, 16]               0\n",
            "           Dropout-8           [-1, 64, 16, 16]               0\n",
            "            Conv2d-9          [-1, 128, 16, 16]          73,856\n",
            "      BatchNorm2d-10          [-1, 128, 16, 16]             256\n",
            "             ReLU-11          [-1, 128, 16, 16]               0\n",
            "           Conv2d-12          [-1, 128, 16, 16]         147,584\n",
            "      BatchNorm2d-13          [-1, 128, 16, 16]             256\n",
            "             ReLU-14          [-1, 128, 16, 16]               0\n",
            "        MaxPool2d-15            [-1, 128, 8, 8]               0\n",
            "          Dropout-16            [-1, 128, 8, 8]               0\n",
            "           Conv2d-17            [-1, 256, 8, 8]         295,168\n",
            "      BatchNorm2d-18            [-1, 256, 8, 8]             512\n",
            "             ReLU-19            [-1, 256, 8, 8]               0\n",
            "        MaxPool2d-20            [-1, 256, 4, 4]               0\n",
            "          Dropout-21            [-1, 256, 4, 4]               0\n",
            "           Linear-22                  [-1, 512]       2,097,664\n",
            "             ReLU-23                  [-1, 512]               0\n",
            "          Dropout-24                  [-1, 512]               0\n",
            "           Linear-25                   [-1, 10]           5,130\n",
            "================================================================\n",
            "Total params: 2,659,402\n",
            "Trainable params: 2,659,402\n",
            "Non-trainable params: 0\n",
            "----------------------------------------------------------------\n",
            "Input size (MB): 0.01\n",
            "Forward/backward pass size (MB): 5.32\n",
            "Params size (MB): 10.14\n",
            "Estimated Total Size (MB): 15.48\n",
            "----------------------------------------------------------------\n"
          ]
        }
      ]
    },
    {
      "cell_type": "code",
      "source": [
        "# ================================\n",
        "# 3. 학습 준비\n",
        "# ================================\n",
        "\n",
        "criterion = nn.CrossEntropyLoss()  # 다중 클래스 분류용 손실 함수\n",
        "optimizer = optim.AdamW(net.parameters(), lr=0.001)  # Adam의 정규화 강화 버전\n",
        "scheduler = optim.lr_scheduler.ReduceLROnPlateau(optimizer, mode='min', patience=3)"
      ],
      "metadata": {
        "id": "I1Q4oPod6EHA"
      },
      "execution_count": 11,
      "outputs": []
    },
    {
      "cell_type": "markdown",
      "source": [
        "## 클래스 불균형(class imbalance) 문제 해결"
      ],
      "metadata": {
        "id": "tLcbB528ri9i"
      }
    },
    {
      "cell_type": "code",
      "source": [
        "# ================================\n",
        "#  데이터 불균형 처리\n",
        "# ================================\n",
        "\n",
        "# 클래스별 샘플 수 세기 → 불균형 데이터 대응용\n",
        "targets = trainset.targets\n",
        "class_count = Counter(targets)  # {클래스: 샘플 수}\n",
        "print(class_count)\n",
        "class_weights = [1.0 / class_count[i] for i in targets]  # 빈도에 반비례한 가중치 생성\n",
        "print(class_weights[:10]) # 모두 1/5000 = 0.0002 동일"
      ],
      "metadata": {
        "colab": {
          "base_uri": "https://localhost:8080/"
        },
        "id": "vEpj5xdNrcmW",
        "outputId": "f05bda1c-8552-45dd-c3e6-f2485204e516"
      },
      "execution_count": 8,
      "outputs": [
        {
          "output_type": "stream",
          "name": "stdout",
          "text": [
            "Counter({6: 5000, 9: 5000, 4: 5000, 1: 5000, 2: 5000, 7: 5000, 8: 5000, 3: 5000, 5: 5000, 0: 5000})\n",
            "[0.0002, 0.0002, 0.0002, 0.0002, 0.0002, 0.0002, 0.0002, 0.0002, 0.0002, 0.0002]\n"
          ]
        }
      ]
    },
    {
      "cell_type": "code",
      "source": [
        "# 데이터를 고르게 샘플링하는 전략 설정\n",
        "sampler = WeightedRandomSampler(class_weights, num_samples=len(class_weights), replacement=True)\n",
        "\n",
        "# WeightedRandomSampler를 이용한 불균형 보정 학습 데이터로더 생성\n",
        "trainloader = torch.utils.data.DataLoader(trainset, batch_size=128, sampler=sampler, num_workers=2)\n",
        "\n",
        "testset = torchvision.datasets.CIFAR10(root='./data', train=False, download=True, transform=transform_test)\n",
        "testloader = torch.utils.data.DataLoader(testset, batch_size=100, shuffle=False, num_workers=2)\n",
        "\n",
        "classes = trainset.classes  # CIFAR-10 클래스 라벨 (예: 'airplane', 'car', ...)\n",
        "classes"
      ],
      "metadata": {
        "colab": {
          "base_uri": "https://localhost:8080/"
        },
        "id": "rbn5HiA4rt1F",
        "outputId": "dd7977c3-1103-4d78-9fbe-cbc9059d7e67"
      },
      "execution_count": 9,
      "outputs": [
        {
          "output_type": "execute_result",
          "data": {
            "text/plain": [
              "['airplane',\n",
              " 'automobile',\n",
              " 'bird',\n",
              " 'cat',\n",
              " 'deer',\n",
              " 'dog',\n",
              " 'frog',\n",
              " 'horse',\n",
              " 'ship',\n",
              " 'truck']"
            ]
          },
          "metadata": {},
          "execution_count": 9
        }
      ]
    },
    {
      "cell_type": "code",
      "source": [
        "# ================================\n",
        "# 4. 학습 루프\n",
        "# ================================\n",
        "\n",
        "epochs = 30\n",
        "train_losses = []\n",
        "test_accuracies = []\n",
        "\n",
        "for epoch in range(epochs):\n",
        "    net.train()\n",
        "    running_loss = 0.0\n",
        "\n",
        "    for i, (inputs, labels) in enumerate(trainloader):\n",
        "        inputs, labels = inputs.to(device), labels.to(device)\n",
        "\n",
        "        optimizer.zero_grad()          # 이전 gradient 초기화\n",
        "        outputs = net(inputs)          # 순전파\n",
        "        loss = criterion(outputs, labels)  # 손실 계산\n",
        "        loss.backward()               # 역전파\n",
        "        optimizer.step()              # 파라미터 갱신\n",
        "\n",
        "        running_loss += loss.item()\n",
        "\n",
        "    avg_loss = running_loss / len(trainloader)\n",
        "    train_losses.append(avg_loss)\n",
        "\n",
        "    # 테스트 정확도 평가\n",
        "    net.eval()\n",
        "    correct = 0\n",
        "    total = 0\n",
        "    with torch.no_grad():\n",
        "        for inputs, labels in testloader:\n",
        "            inputs, labels = inputs.to(device), labels.to(device)\n",
        "            outputs = net(inputs)\n",
        "            _, predicted = torch.max(outputs, 1)\n",
        "            total += labels.size(0)\n",
        "            correct += (predicted == labels).sum().item()\n",
        "\n",
        "    accuracy = 100 * correct / total\n",
        "    test_accuracies.append(accuracy)\n",
        "    scheduler.step(avg_loss)\n",
        "\n",
        "    print(f'[Epoch {epoch+1:2d}] Loss: {avg_loss:.3f} | Accuracy: {accuracy:.2f}%')"
      ],
      "metadata": {
        "colab": {
          "base_uri": "https://localhost:8080/"
        },
        "id": "Zwb3ILFt52uF",
        "outputId": "75f86db8-2292-467d-8b78-31b5d3edb23c"
      },
      "execution_count": 12,
      "outputs": [
        {
          "output_type": "stream",
          "name": "stdout",
          "text": [
            "[Epoch  1] Loss: 1.810 | Accuracy: 50.20%\n",
            "[Epoch  2] Loss: 1.420 | Accuracy: 55.95%\n",
            "[Epoch  3] Loss: 1.272 | Accuracy: 62.73%\n",
            "[Epoch  4] Loss: 1.177 | Accuracy: 66.83%\n",
            "[Epoch  5] Loss: 1.118 | Accuracy: 67.66%\n",
            "[Epoch  6] Loss: 1.062 | Accuracy: 70.34%\n",
            "[Epoch  7] Loss: 1.004 | Accuracy: 73.79%\n",
            "[Epoch  8] Loss: 0.952 | Accuracy: 73.43%\n",
            "[Epoch  9] Loss: 0.925 | Accuracy: 75.60%\n",
            "[Epoch 10] Loss: 0.896 | Accuracy: 77.19%\n",
            "[Epoch 11] Loss: 0.859 | Accuracy: 77.75%\n",
            "[Epoch 12] Loss: 0.828 | Accuracy: 78.60%\n",
            "[Epoch 13] Loss: 0.808 | Accuracy: 79.95%\n",
            "[Epoch 14] Loss: 0.787 | Accuracy: 80.85%\n",
            "[Epoch 15] Loss: 0.759 | Accuracy: 81.59%\n",
            "[Epoch 16] Loss: 0.743 | Accuracy: 80.96%\n",
            "[Epoch 17] Loss: 0.720 | Accuracy: 81.35%\n",
            "[Epoch 18] Loss: 0.702 | Accuracy: 82.13%\n",
            "[Epoch 19] Loss: 0.679 | Accuracy: 81.86%\n",
            "[Epoch 20] Loss: 0.664 | Accuracy: 82.87%\n",
            "[Epoch 21] Loss: 0.654 | Accuracy: 83.08%\n",
            "[Epoch 22] Loss: 0.635 | Accuracy: 82.31%\n",
            "[Epoch 23] Loss: 0.622 | Accuracy: 84.83%\n",
            "[Epoch 24] Loss: 0.614 | Accuracy: 84.37%\n",
            "[Epoch 25] Loss: 0.596 | Accuracy: 84.36%\n",
            "[Epoch 26] Loss: 0.581 | Accuracy: 85.34%\n",
            "[Epoch 27] Loss: 0.573 | Accuracy: 84.64%\n",
            "[Epoch 28] Loss: 0.561 | Accuracy: 84.47%\n",
            "[Epoch 29] Loss: 0.557 | Accuracy: 85.59%\n",
            "[Epoch 30] Loss: 0.549 | Accuracy: 84.81%\n"
          ]
        }
      ]
    },
    {
      "cell_type": "code",
      "source": [
        "%config InlineBackend.figure_format = 'retina'"
      ],
      "metadata": {
        "id": "It9gJYaxHmn1"
      },
      "execution_count": 13,
      "outputs": []
    },
    {
      "cell_type": "code",
      "source": [
        "# matplotlib 라이브러리에서 그래프를 그리기 위한 pyplot 모듈 임포트\n",
        "import matplotlib.pyplot as plt\n",
        "\n",
        "# 손실과 정확도를 함께 시각화하는 함수 정의\n",
        "def plot_loss_and_accuracy_together(train_losses, test_accuracies):\n",
        "    # 에폭 번호 리스트 생성 (1부터 시작)\n",
        "    epochs = range(1, len(train_losses) + 1)\n",
        "\n",
        "    # 하나의 figure와 기본 축(ax1)을 생성 (그래프 크기는 6x4인치)\n",
        "    fig, ax1 = plt.subplots(figsize=(6, 4))\n",
        "\n",
        "    # === 왼쪽 Y축: 손실(Loss) ===\n",
        "    color = 'tab:red'  # 손실 곡선은 빨간색으로\n",
        "    ax1.set_xlabel('Epoch')  # X축 라벨: 에폭 번호\n",
        "    ax1.set_ylabel('Loss', color=color)  # 왼쪽 Y축 라벨: 손실값\n",
        "    ax1.plot(epochs, train_losses, color=color, marker='o', label='Loss')  # 손실 곡선 그리기 (동그라미 마커 사용)\n",
        "    ax1.tick_params(axis='y', labelcolor=color)  # 왼쪽 Y축 눈금 색상도 빨간색으로\n",
        "    ax1.grid(True)  # 배경에 그리드 표시 (보기 편하게)\n",
        "\n",
        "    # === 오른쪽 Y축: 정확도(Accuracy) ===\n",
        "    ax2 = ax1.twinx()  # ax1과 X축을 공유하는 새로운 Y축 생성\n",
        "    color = 'tab:blue'  # 정확도 곡선은 파란색으로\n",
        "    ax2.set_ylabel('Accuracy (%)', color=color)  # 오른쪽 Y축 라벨\n",
        "    ax2.plot(epochs, test_accuracies, color=color, marker='x', label='Accuracy')  # 정확도 곡선 그리기 (X 마커 사용)\n",
        "    ax2.tick_params(axis='y', labelcolor=color)  # 오른쪽 Y축 눈금 색상 파란색\n",
        "\n",
        "    # 전체 그래프 제목 설정\n",
        "    plt.title('Training Loss and Test Accuracy per Epoch')\n",
        "\n",
        "    # 레이아웃 자동 조정 (레이블 겹침 방지)\n",
        "    fig.tight_layout()\n",
        "\n",
        "    # 최종 그래프 화면에 출력\n",
        "    plt.show()\n",
        "\n",
        "# 함수 호출: 손실과 정확도 그래프 그리기\n",
        "plot_loss_and_accuracy_together(train_losses, test_accuracies)"
      ],
      "metadata": {
        "colab": {
          "base_uri": "https://localhost:8080/",
          "height": 405
        },
        "id": "JiYX0fQf6MlD",
        "outputId": "33c49401-d5e5-4c30-e005-68b9b887432a"
      },
      "execution_count": 14,
      "outputs": [
        {
          "output_type": "display_data",
          "data": {
            "text/plain": [
              "<Figure size 600x400 with 2 Axes>"
            ],
            "image/png": "[encoded data removed]"
          },
          "metadata": {
            "image/png": {
              "width": 590,
              "height": 388
            }
          }
        }
      ]
    },
    {
      "cell_type": "markdown",
      "source": [
        "- GPU 사용: 약 20분 소요\n",
        "- CPU 사용: 약 4~5시간 소요"
      ],
      "metadata": {
        "id": "mJscZ-ee7T8w"
      }
    },
    {
      "cell_type": "markdown",
      "source": [
        "## 10회차 전체 코드"
      ],
      "metadata": {
        "id": "YZu7fKWKH6D6"
      }
    },
    {
      "cell_type": "code",
      "execution_count": null,
      "metadata": {
        "colab": {
          "base_uri": "https://localhost:8080/"
        },
        "outputId": "0b4bf868-93f2-417d-8803-f0052ba714be",
        "id": "pCxL3rOj5FyP"
      },
      "outputs": [
        {
          "output_type": "stream",
          "name": "stdout",
          "text": [
            "----------------------------------------------------------------\n",
            "        Layer (type)               Output Shape         Param #\n",
            "================================================================\n",
            "            Conv2d-1           [-1, 64, 32, 32]           1,792\n",
            "       BatchNorm2d-2           [-1, 64, 32, 32]             128\n",
            "              ReLU-3           [-1, 64, 32, 32]               0\n",
            "            Conv2d-4           [-1, 64, 32, 32]          36,928\n",
            "       BatchNorm2d-5           [-1, 64, 32, 32]             128\n",
            "              ReLU-6           [-1, 64, 32, 32]               0\n",
            "         MaxPool2d-7           [-1, 64, 16, 16]               0\n",
            "           Dropout-8           [-1, 64, 16, 16]               0\n",
            "            Conv2d-9          [-1, 128, 16, 16]          73,856\n",
            "      BatchNorm2d-10          [-1, 128, 16, 16]             256\n",
            "             ReLU-11          [-1, 128, 16, 16]               0\n",
            "           Conv2d-12          [-1, 128, 16, 16]         147,584\n",
            "      BatchNorm2d-13          [-1, 128, 16, 16]             256\n",
            "             ReLU-14          [-1, 128, 16, 16]               0\n",
            "        MaxPool2d-15            [-1, 128, 8, 8]               0\n",
            "          Dropout-16            [-1, 128, 8, 8]               0\n",
            "           Conv2d-17            [-1, 256, 8, 8]         295,168\n",
            "      BatchNorm2d-18            [-1, 256, 8, 8]             512\n",
            "             ReLU-19            [-1, 256, 8, 8]               0\n",
            "        MaxPool2d-20            [-1, 256, 4, 4]               0\n",
            "          Dropout-21            [-1, 256, 4, 4]               0\n",
            "           Linear-22                  [-1, 512]       2,097,664\n",
            "             ReLU-23                  [-1, 512]               0\n",
            "          Dropout-24                  [-1, 512]               0\n",
            "           Linear-25                   [-1, 10]           5,130\n",
            "================================================================\n",
            "Total params: 2,659,402\n",
            "Trainable params: 2,659,402\n",
            "Non-trainable params: 0\n",
            "----------------------------------------------------------------\n",
            "Input size (MB): 0.01\n",
            "Forward/backward pass size (MB): 5.32\n",
            "Params size (MB): 10.14\n",
            "Estimated Total Size (MB): 15.48\n",
            "----------------------------------------------------------------\n",
            "[Epoch 1] Loss: 1.938 | Accuracy: 40.87%\n",
            "[Epoch 2] Loss: 1.529 | Accuracy: 54.56%\n",
            "[Epoch 3] Loss: 1.343 | Accuracy: 61.45%\n",
            "[Epoch 4] Loss: 1.226 | Accuracy: 63.03%\n",
            "[Epoch 5] Loss: 1.125 | Accuracy: 67.34%\n",
            "[Epoch 6] Loss: 1.057 | Accuracy: 70.24%\n",
            "[Epoch 7] Loss: 1.019 | Accuracy: 73.35%\n",
            "[Epoch 8] Loss: 0.981 | Accuracy: 73.28%\n",
            "[Epoch 9] Loss: 0.942 | Accuracy: 75.47%\n",
            "[Epoch 10] Loss: 0.906 | Accuracy: 76.76%\n",
            "[Epoch 11] Loss: 0.896 | Accuracy: 74.67%\n",
            "[Epoch 12] Loss: 0.865 | Accuracy: 77.42%\n",
            "[Epoch 13] Loss: 0.823 | Accuracy: 78.62%\n",
            "[Epoch 14] Loss: 0.821 | Accuracy: 79.91%\n",
            "[Epoch 15] Loss: 0.783 | Accuracy: 80.31%\n",
            "[Epoch 16] Loss: 0.772 | Accuracy: 80.66%\n",
            "[Epoch 17] Loss: 0.743 | Accuracy: 82.38%\n",
            "[Epoch 18] Loss: 0.731 | Accuracy: 82.07%\n",
            "[Epoch 19] Loss: 0.727 | Accuracy: 81.27%\n",
            "[Epoch 20] Loss: 0.701 | Accuracy: 83.12%\n"
          ]
        }
      ],
      "source": [
        "# PyTorch를 이용한 고도화된 CNN 모델 구현\n",
        "# CIFAR-10 데이터셋을 기반으로 모델 성능 향상을 위해 다양한 기법을 적용한 예제\n",
        "\n",
        "import torch\n",
        "import torch.nn as nn\n",
        "import torch.optim as optim\n",
        "import torchvision\n",
        "import torchvision.transforms as transforms\n",
        "import matplotlib.pyplot as plt\n",
        "import numpy as np\n",
        "from torchsummary import summary\n",
        "from torch.utils.data import WeightedRandomSampler\n",
        "from collections import Counter\n",
        "\n",
        "# ================================\n",
        "# 1. 데이터 전처리 및 증강\n",
        "# ================================\n",
        "\n",
        "# 학습 데이터에 다양한 데이터 증강 기법을 적용해 모델의 일반화 성능을 향상\n",
        "transform_train = transforms.Compose([\n",
        "    transforms.RandomHorizontalFlip(),            # 이미지를 좌우로 무작위 반전\n",
        "    transforms.RandomCrop(32, padding=4),         # 4픽셀 패딩 후 32x32 크기로 무작위 크롭\n",
        "    transforms.ColorJitter(brightness=0.2,        # 밝기 조절\n",
        "                           contrast=0.2,          # 대비 조절\n",
        "                           saturation=0.2),       # 채도 조절\n",
        "    transforms.RandomRotation(10),                # -10도~+10도 범위에서 무작위 회전\n",
        "    transforms.ToTensor(),                        # PIL 이미지를 Tensor로 변환\n",
        "    transforms.Normalize((0.4914, 0.4822, 0.4465), # 각 채널별 평균과 표준편차로 정규화\n",
        "                         (0.2023, 0.1994, 0.2010))\n",
        "])\n",
        "\n",
        "# 테스트 데이터는 데이터 증강 없이 정규화만 수행\n",
        "transform_test = transforms.Compose([\n",
        "    transforms.ToTensor(),\n",
        "    transforms.Normalize((0.4914, 0.4822, 0.4465),\n",
        "                         (0.2023, 0.1994, 0.2010))\n",
        "])\n",
        "\n",
        "# CIFAR-10 학습/테스트 데이터셋 로드\n",
        "trainset = torchvision.datasets.CIFAR10(root='./data', train=True, download=True, transform=transform_train)\n",
        "\n",
        "# 클래스별 샘플 수 세기 → 불균형 데이터 대응용\n",
        "targets = trainset.targets\n",
        "class_count = Counter(targets)  # {클래스: 샘플 수}\n",
        "class_weights = [1.0 / class_count[i] for i in targets]  # 빈도에 반비례한 가중치 생성\n",
        "sampler = WeightedRandomSampler(class_weights, num_samples=len(class_weights), replacement=True)\n",
        "\n",
        "# WeightedRandomSampler를 이용한 불균형 보정 학습 데이터로더 생성\n",
        "trainloader = torch.utils.data.DataLoader(trainset, batch_size=128, sampler=sampler, num_workers=2)\n",
        "\n",
        "testset = torchvision.datasets.CIFAR10(root='./data', train=False, download=True, transform=transform_test)\n",
        "testloader = torch.utils.data.DataLoader(testset, batch_size=100, shuffle=False, num_workers=2)\n",
        "\n",
        "classes = trainset.classes  # CIFAR-10 클래스 라벨 (예: 'airplane', 'car', ...)\n",
        "\n",
        "# ================================\n",
        "# 2. CNN 모델 정의\n",
        "# ================================\n",
        "\n",
        "class ImprovedCNN(nn.Module):\n",
        "    def __init__(self):\n",
        "        super(ImprovedCNN, self).__init__()\n",
        "\n",
        "        # 특징 추출을 위한 Convolutional Layer 블록 정의\n",
        "        self.features = nn.Sequential(\n",
        "            # 첫 번째 블록: 3채널 입력 → 64채널 출력\n",
        "            nn.Conv2d(3, 64, kernel_size=3, padding=1),\n",
        "            nn.BatchNorm2d(64),\n",
        "            nn.ReLU(),\n",
        "            nn.Conv2d(64, 64, kernel_size=3, padding=1),\n",
        "            nn.BatchNorm2d(64),\n",
        "            nn.ReLU(),\n",
        "            nn.MaxPool2d(kernel_size=2),\n",
        "            nn.Dropout(0.25),\n",
        "\n",
        "            # 두 번째 블록: 64채널 → 128채널\n",
        "            nn.Conv2d(64, 128, kernel_size=3, padding=1),\n",
        "            nn.BatchNorm2d(128),\n",
        "            nn.ReLU(),\n",
        "            nn.Conv2d(128, 128, kernel_size=3, padding=1),\n",
        "            nn.BatchNorm2d(128),\n",
        "            nn.ReLU(),\n",
        "            nn.MaxPool2d(kernel_size=2),\n",
        "            nn.Dropout(0.25),\n",
        "\n",
        "            # 세 번째 블록: 128채널 → 256채널\n",
        "            nn.Conv2d(128, 256, kernel_size=3, padding=1),\n",
        "            nn.BatchNorm2d(256),\n",
        "            nn.ReLU(),\n",
        "            nn.MaxPool2d(kernel_size=2),\n",
        "            nn.Dropout(0.3)\n",
        "        )\n",
        "\n",
        "        # 전결합층 (Flatten 후 Classifier)\n",
        "        self.classifier = nn.Sequential(\n",
        "            nn.Linear(256 * 4 * 4, 512),  # Conv 결과를 FC 입력으로 변환\n",
        "            nn.ReLU(),\n",
        "            nn.Dropout(0.5),\n",
        "            nn.Linear(512, 10)           # CIFAR-10 클래스 수만큼 출력\n",
        "        )\n",
        "\n",
        "    def forward(self, x):\n",
        "        x = self.features(x)              # Conv 레이어 통과\n",
        "        x = x.view(x.size(0), -1)         # Flatten\n",
        "        x = self.classifier(x)            # Fully connected layer 통과\n",
        "        return x\n",
        "\n",
        "# ================================\n",
        "# 3. 학습 준비\n",
        "# ================================\n",
        "\n",
        "device = torch.device(\"cuda\" if torch.cuda.is_available() else \"cpu\")\n",
        "net = ImprovedCNN().to(device)  # 모델을 GPU 또는 CPU로 이동\n",
        "summary(net, (3, 32, 32))       # 모델 구조 요약 출력\n",
        "\n",
        "criterion = nn.CrossEntropyLoss()  # 다중 클래스 분류용 손실 함수\n",
        "optimizer = optim.AdamW(net.parameters(), lr=0.001)  # Adam의 L2 정규화 강화 버전\n",
        "scheduler = optim.lr_scheduler.ReduceLROnPlateau(optimizer, mode='min', patience=3)\n",
        "\n",
        "# ================================\n",
        "# 4. 학습 루프\n",
        "# ================================\n",
        "\n",
        "epochs = 20\n",
        "train_losses = []\n",
        "test_accuracies = []\n",
        "\n",
        "for epoch in range(epochs):\n",
        "    net.train()\n",
        "    running_loss = 0.0\n",
        "\n",
        "    for i, (inputs, labels) in enumerate(trainloader):\n",
        "        inputs, labels = inputs.to(device), labels.to(device)\n",
        "\n",
        "        optimizer.zero_grad()          # 이전 gradient 초기화\n",
        "        outputs = net(inputs)          # 순전파\n",
        "        loss = criterion(outputs, labels)  # 손실 계산\n",
        "        loss.backward()               # 역전파\n",
        "        optimizer.step()              # 파라미터 갱신\n",
        "\n",
        "        running_loss += loss.item()\n",
        "\n",
        "    avg_loss = running_loss / len(trainloader)\n",
        "    train_losses.append(avg_loss)\n",
        "\n",
        "    # 테스트 정확도 평가\n",
        "    net.eval()\n",
        "    correct = 0\n",
        "    total = 0\n",
        "    with torch.no_grad():\n",
        "        for inputs, labels in testloader:\n",
        "            inputs, labels = inputs.to(device), labels.to(device)\n",
        "            outputs = net(inputs)\n",
        "            _, predicted = torch.max(outputs, 1)\n",
        "            total += labels.size(0)\n",
        "            correct += (predicted == labels).sum().item()\n",
        "\n",
        "    accuracy = 100 * correct / total\n",
        "    test_accuracies.append(accuracy)\n",
        "    scheduler.step(avg_loss)\n",
        "\n",
        "    print(f'[Epoch {epoch+1}] Loss: {avg_loss:.3f} | Accuracy: {accuracy:.2f}%')"
      ]
    },
    {
      "cell_type": "markdown",
      "metadata": {
        "id": "Pqex_eOfyx82"
      },
      "source": [
        "## 종료"
      ]
    }
  ],
  "metadata": {
    "accelerator": "GPU",
    "colab": {
      "gpuType": "T4",
      "provenance": [],
      "include_colab_link": true
    },
    "kernelspec": {
      "display_name": "Python 3",
      "name": "python3"
    },
    "language_info": {
      "name": "python"
    }
  },
  "nbformat": 4,
  "nbformat_minor": 0
}
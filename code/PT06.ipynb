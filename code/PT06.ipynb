{
  "nbformat": 4,
  "nbformat_minor": 0,
  "metadata": {
    "colab": {
      "provenance": [],
      "gpuType": "T4",
      "include_colab_link": true
    },
    "kernelspec": {
      "name": "python3",
      "display_name": "Python 3"
    },
    "language_info": {
      "name": "python"
    },
    "accelerator": "GPU"
  },
  "cells": [
    {
      "cell_type": "markdown",
      "metadata": {
        "id": "view-in-github",
        "colab_type": "text"
      },
      "source": [
        "<a href=\"https://colab.research.google.com/github/soobook/PyTorch-DL/blob/main/code/PT06.ipynb\" target=\"_parent\"><img src=\"https://colab.research.google.com/assets/colab-badge.svg\" alt=\"Open In Colab\"/></a>"
      ]
    },
    {
      "cell_type": "markdown",
      "source": [
        "# 6회차: DNN을 활용한 심장병 판별 (4) – 모델 최적화"
      ],
      "metadata": {
        "id": "5XxGYQCSBHtz"
      }
    },
    {
      "cell_type": "markdown",
      "source": [
        "## 1. DNN 학습 최적화\n"
      ],
      "metadata": {
        "id": "DiohrIWbZe8o"
      }
    },
    {
      "cell_type": "code",
      "source": [
        "!pip show imbalanced-learn"
      ],
      "metadata": {
        "colab": {
          "base_uri": "https://localhost:8080/"
        },
        "id": "5jVcIJYt4dN5",
        "outputId": "2e481406-9a28-4174-b1e3-6750d69a865a"
      },
      "execution_count": null,
      "outputs": [
        {
          "output_type": "stream",
          "name": "stdout",
          "text": [
            "Name: imbalanced-learn\n",
            "Version: 0.14.0\n",
            "Summary: Toolbox for imbalanced dataset in machine learning\n",
            "Home-page: https://imbalanced-learn.org/\n",
            "Author: \n",
            "Author-email: \"G. Lemaitre\" <g.lemaitre58@gmail.com>, \"C. Aridas\" <ichkoar@gmail.com>\n",
            "License: \n",
            "Location: /usr/local/lib/python3.12/dist-packages\n",
            "Requires: joblib, numpy, scikit-learn, scipy, threadpoolctl\n",
            "Required-by: \n"
          ]
        }
      ]
    },
    {
      "cell_type": "code",
      "source": [
        "# !pip install imbalanced-learn # Colab에서는 필요 없음"
      ],
      "metadata": {
        "id": "j2IR7y1H4bEd"
      },
      "execution_count": null,
      "outputs": []
    },
    {
      "cell_type": "code",
      "source": [
        "# 라이브러리\n",
        "import pandas as pd\n",
        "import numpy as np\n",
        "\n",
        "import torch\n",
        "import torch.nn as nn\n",
        "import torch.optim as optim\n",
        "from torch.utils.data import Dataset, DataLoader\n",
        "from sklearn.metrics import accuracy_score, precision_score, recall_score, f1_score\n",
        "from imblearn.over_sampling import SMOTE"
      ],
      "metadata": {
        "id": "g4weOlUffQhH"
      },
      "execution_count": 2,
      "outputs": []
    },
    {
      "cell_type": "code",
      "source": [
        "# 1. 데이터 불러오기\n",
        "df = pd.read_csv(\"heart_disease_zscore.csv\")\n",
        "\n",
        "# 2. 특성과 타겟 분리\n",
        "X = df.drop(columns=[\"target\"]).astype(np.float32)\n",
        "y = df[\"target\"].astype(np.float32)\n",
        "\n",
        "# 3. 훈련/테스트 분할\n",
        "from sklearn.model_selection import train_test_split\n",
        "X_train, X_test, y_train, y_test = train_test_split(\n",
        "    X.values, y.values, test_size=0.2, random_state=42, stratify=y\n",
        ")"
      ],
      "metadata": {
        "id": "_4px5lxAfQeb"
      },
      "execution_count": 3,
      "outputs": []
    },
    {
      "cell_type": "markdown",
      "source": [
        "### 오버샘플링을 위한 SMOTE 함수"
      ],
      "metadata": {
        "id": "pRaY6MA2SmkB"
      }
    },
    {
      "cell_type": "code",
      "source": [
        "from imblearn.over_sampling import SMOTE\n",
        "from collections import Counter\n",
        "\n",
        "# 간단한 샘플 데이터를 통한 SMOTE의 이해\n",
        "X = [[i] for i in range(50)]\n",
        "y = [0]*40 + [1]*10\n",
        "\n",
        "print(\"Before SMOTE:\", Counter(y))\n",
        "smote = SMOTE(random_state=42)\n",
        "X_res, y_res = smote.fit_resample(X, y)\n",
        "print(\"After SMOTE :\", Counter(y_res))"
      ],
      "metadata": {
        "id": "bd-c0D1AfVPl",
        "colab": {
          "base_uri": "https://localhost:8080/"
        },
        "outputId": "d2dfcfa4-35c7-4f38-8678-639232881769"
      },
      "execution_count": 24,
      "outputs": [
        {
          "output_type": "stream",
          "name": "stdout",
          "text": [
            "Before SMOTE: Counter({0: 40, 1: 10})\n",
            "After SMOTE : Counter({0: 40, 1: 40})\n"
          ]
        }
      ]
    },
    {
      "cell_type": "code",
      "source": [
        "# 4. SMOTE로 샘플링 (소수 클래스 보완)\n",
        "smote = SMOTE(random_state=42)\n",
        "X_resampled, y_resampled = smote.fit_resample(X_train, y_train)"
      ],
      "metadata": {
        "id": "oinHNGpTqRMR"
      },
      "execution_count": 25,
      "outputs": []
    },
    {
      "cell_type": "code",
      "source": [
        "from collections import Counter\n",
        "\n",
        "print(Counter(y_train))\n",
        "print(Counter(y_resampled))"
      ],
      "metadata": {
        "colab": {
          "base_uri": "https://localhost:8080/"
        },
        "id": "zByOSH60fxfA",
        "outputId": "66ab13c0-5265-405b-f4ed-c542d548ebc9"
      },
      "execution_count": 26,
      "outputs": [
        {
          "output_type": "stream",
          "name": "stdout",
          "text": [
            "Counter({np.float32(0.0): 131, np.float32(1.0): 111})\n",
            "Counter({np.float32(1.0): 131, np.float32(0.0): 131})\n"
          ]
        }
      ]
    },
    {
      "cell_type": "markdown",
      "source": [
        "### 다시 한번 위 코드 정리"
      ],
      "metadata": {
        "id": "Mo79W3j4Nv0h"
      }
    },
    {
      "cell_type": "code",
      "source": [
        "# 라이브러리\n",
        "import pandas as pd\n",
        "import numpy as np\n",
        "\n",
        "import torch\n",
        "import torch.nn as nn\n",
        "import torch.optim as optim\n",
        "from torch.utils.data import Dataset, DataLoader\n",
        "from sklearn.metrics import accuracy_score, precision_score, recall_score, f1_score\n",
        "from imblearn.over_sampling import SMOTE\n",
        "\n",
        "# 1. 데이터 불러오기\n",
        "df = pd.read_csv(\"heart_disease_zscore.csv\")\n",
        "\n",
        "# 2. 특성과 타겟 분리\n",
        "X = df.drop(columns=[\"target\"]).astype(np.float32)\n",
        "y = df[\"target\"].astype(np.float32)\n",
        "\n",
        "# 3. 훈련/테스트 분할\n",
        "from sklearn.model_selection import train_test_split\n",
        "X_train, X_test, y_train, y_test = train_test_split(\n",
        "    X.values, y.values, test_size=0.2, random_state=42, stratify=y\n",
        ")\n",
        "\n",
        "# 4. SMOTE로 샘플링 (소수 클래스 보완)\n",
        "smote = SMOTE(random_state=42)\n",
        "X_resampled, y_resampled = smote.fit_resample(X_train, y_train)"
      ],
      "metadata": {
        "id": "b-V51kApBLxy"
      },
      "execution_count": 32,
      "outputs": []
    },
    {
      "cell_type": "code",
      "source": [
        "# 5-1. Dataset 클래스 정의: 테스트 데이터를 위해\n",
        "class HeartDataset(Dataset):\n",
        "    def __init__(self, X, y):\n",
        "        self.X = torch.tensor(X, dtype=torch.float32)\n",
        "        self.y = torch.tensor(y, dtype=torch.float32).view(-1, 1)\n",
        "\n",
        "    def __len__(self):\n",
        "        return len(self.y)\n",
        "\n",
        "    def __getitem__(self, idx):\n",
        "        return self.X[idx], self.y[idx]"
      ],
      "metadata": {
        "id": "4kTqjyXIqfYq"
      },
      "execution_count": 33,
      "outputs": []
    },
    {
      "cell_type": "code",
      "source": [
        "# 5-2. 혼합 증강 클래스(원본 데이터 + 노이즈 데이터: num_augments) 정의\n",
        "class MixedAugmentedDataset(Dataset):\n",
        "    # noise_std: 증강 강도 조절 파라미터로 변형된 원본 데이터에 약간의 노이즈 추가(곱셈)로 다양성 확보\n",
        "\t  # num_augments: 추가되는 수, 1이면 원 데이터 수와 동일한 수의 데이터를 추가\n",
        "    def __init__(self, X, y, noise_std=0.03, num_augments=1):\n",
        "        self.X = torch.tensor(X, dtype=torch.float32)\n",
        "        self.y = torch.tensor(y, dtype=torch.float32).view(-1, 1)\n",
        "        self.noise_std = noise_std\n",
        "        self.num_augments = num_augments\n",
        "\n",
        "        self.X_all, self.y_all = self._combine_original_and_augmented()\n",
        "\n",
        "    def _combine_original_and_augmented(self):\n",
        "        X_list = [self.X[i] for i in range(len(self.X))]   # 원본 포함\n",
        "        y_list = [self.y[i] for i in range(len(self.y))]\n",
        "\n",
        "        # 데이터셋의 각 샘플 X[i]에 대해 반복\n",
        "        for i in range(len(self.X)):\n",
        "            # 각 샘플에 대해 num_augments 횟수만큼 데이터 증강 수행\n",
        "            for _ in range(self.num_augments):\n",
        "                # 원본 데이터에 정규분포 노이즈(표준정규분포 * noise_std)를 더해 변형 데이터 생성\n",
        "                noisy = self.X[i] + torch.randn_like(self.X[i]) * self.noise_std\n",
        "                # 증강된 데이터를 입력 데이터 리스트에 추가\n",
        "                X_list.append(noisy)\n",
        "                # 원본 데이터의 라벨을 그대로 정답 리스트에 추가 (데이터는 변형돼도 라벨은 동일)\n",
        "                y_list.append(self.y[i])\n",
        "\n",
        "        return X_list, y_list\n",
        "\n",
        "    def __len__(self):\n",
        "        return len(self.y_all)\n",
        "\n",
        "    def __getitem__(self, idx):\n",
        "        return self.X_all[idx], self.y_all[idx]"
      ],
      "metadata": {
        "id": "wwH4viJ4qmQa"
      },
      "execution_count": 34,
      "outputs": []
    },
    {
      "cell_type": "code",
      "source": [
        "# 학습 데이터: 데이터 증강\n",
        "train_dataset = MixedAugmentedDataset(X_resampled, y_resampled)\n",
        "# 테스트 데이터: 원본 데이터 그대로\n",
        "test_dataset = HeartDataset(X_test, y_test)\n",
        "\n",
        "train_loader = DataLoader(train_dataset, batch_size=32, shuffle=True)\n",
        "test_loader = DataLoader(test_dataset, batch_size=32, shuffle=False)"
      ],
      "metadata": {
        "id": "Mfko2WgQqpwh"
      },
      "execution_count": 35,
      "outputs": []
    },
    {
      "cell_type": "code",
      "source": [
        "# 6. DNN 모델 정의를 유연하게 정의\n",
        "class DNN_Variant(nn.Module):\n",
        "    def __init__(self, input_dim, hidden_dims):\n",
        "        super().__init__()\n",
        "        layers = []\n",
        "        # input_dim → hidden_dim 연결\n",
        "        for dim in hidden_dims:\n",
        "            layers += [\n",
        "                nn.Linear(input_dim, dim), # 선형 변환 (Fully Connected)\n",
        "                nn.BatchNorm1d(dim),       # 배치 정규화 → 학습 안정화\n",
        "                nn.ReLU(),                 # 비선형 활성화 → 복잡한 함수 근사\n",
        "                nn.Dropout(0.3)            # 30% 확률로 뉴런 끄기 → 과적합 방지\n",
        "            ]\n",
        "            # 이후 다음 레이어에서는 input_dim = dim으로 갱신해서 이어짐\n",
        "            input_dim = dim\n",
        "        # 마지막 출력은 이진 분류이므로 노드 1개 (시그모이드는 이후에 적용됨)\n",
        "        layers += [nn.Linear(input_dim, 1)]\n",
        "        # 앞서 만든 레이어 리스트를 하나의 순차적 블록으로 구성\n",
        "        self.net = nn.Sequential(*layers)\n",
        "\n",
        "    def forward(self, x):\n",
        "        return self.net(x)"
      ],
      "metadata": {
        "id": "YdgK4cF8qtcp"
      },
      "execution_count": 36,
      "outputs": []
    },
    {
      "cell_type": "code",
      "source": [
        "# 구조 변경 모델 생성\n",
        "# 은닉층 1개, 뉴런 수 64 실험\n",
        "# model = DNN_Variant(input_dim=X.shape[1], hidden_dims=[64]) # 1층\n",
        "# 은닉층 2개, 뉴런 수 128, 64 실험\n",
        "model = DNN_Variant(input_dim=X.shape[1], hidden_dims=[128, 64]) # 2층\n",
        "# 은닉층 3개, 뉴런 수 256, 128, 64 실험\n",
        "# model = DNN_Variant(input_dim=X.shape[1], hidden_dims=[256, 128, 64]) # 3층"
      ],
      "metadata": {
        "id": "POUy7MbVqakS"
      },
      "execution_count": 37,
      "outputs": []
    },
    {
      "cell_type": "code",
      "source": [
        "# 7. 손실함수와 옵티마이저\n",
        "criterion = nn.BCEWithLogitsLoss()\n",
        "# 옵티마이저 변경\n",
        "optimizer = optim.AdamW(model.parameters(), lr=0.001)\n",
        "# 스케쥴러 변경\n",
        "scheduler = optim.lr_scheduler.StepLR(optimizer, step_size=10, gamma=0.8)"
      ],
      "metadata": {
        "id": "fSwoASU9qxFh"
      },
      "execution_count": 38,
      "outputs": []
    },
    {
      "cell_type": "code",
      "source": [
        "# 8. 학습 루프\n",
        "epochs = 50\n",
        "for epoch in range(epochs):\n",
        "    model.train()\n",
        "    running_loss = 0\n",
        "    for X_batch, y_batch in train_loader:\n",
        "        optimizer.zero_grad()\n",
        "        outputs = model(X_batch)\n",
        "        loss = criterion(outputs, y_batch)\n",
        "        loss.backward()\n",
        "        optimizer.step()\n",
        "        running_loss += loss.item()\n",
        "\n",
        "    scheduler.step()\n",
        "    avg_loss = running_loss / len(train_loader)\n",
        "    if (epoch + 1) % 10 == 0:\n",
        "        print(f\"Epoch {epoch+1:2d} | Loss: {avg_loss:.4f}\")"
      ],
      "metadata": {
        "id": "ZLq1tnXvqhrZ",
        "outputId": "a2aac4b8-8d04-4c06-af16-7f53574908ff",
        "colab": {
          "base_uri": "https://localhost:8080/"
        }
      },
      "execution_count": 39,
      "outputs": [
        {
          "output_type": "stream",
          "name": "stdout",
          "text": [
            "Epoch 10 | Loss: 0.3004\n",
            "Epoch 20 | Loss: 0.2272\n",
            "Epoch 30 | Loss: 0.1905\n",
            "Epoch 40 | Loss: 0.1524\n",
            "Epoch 50 | Loss: 0.1537\n"
          ]
        }
      ]
    },
    {
      "cell_type": "code",
      "source": [
        "# 9. 평가\n",
        "model.eval()\n",
        "y_pred = []\n",
        "y_true = []\n",
        "\n",
        "with torch.no_grad():\n",
        "    for X_batch, y_batch in test_loader:\n",
        "        outputs = model(X_batch)\n",
        "        probs = torch.sigmoid(outputs)\n",
        "        preds = (probs > 0.5).float()\n",
        "        y_pred.extend(preds.cpu().numpy())\n",
        "        y_true.extend(y_batch.cpu().numpy())"
      ],
      "metadata": {
        "id": "vJQhRKgBq3Co"
      },
      "execution_count": 40,
      "outputs": []
    },
    {
      "cell_type": "code",
      "source": [
        "# 10. 결과 출력\n",
        "print(\"=== 6강 Evaluation Metrics ===\")\n",
        "print(f\"Accuracy : {accuracy_score(y_true, y_pred):.4f}\")\n",
        "print(f\"Precision: {precision_score(y_true, y_pred, zero_division=0):.4f}\")\n",
        "print(f\"Recall   : {recall_score(y_true, y_pred, zero_division=0):.4f}\")\n",
        "print(f\"F1 Score : {f1_score(y_true, y_pred, zero_division=0):.4f}\")"
      ],
      "metadata": {
        "id": "7-iVPkaAqrb5",
        "outputId": "a531b74d-3dc4-44c6-99f2-0906dfac55d6",
        "colab": {
          "base_uri": "https://localhost:8080/"
        }
      },
      "execution_count": 41,
      "outputs": [
        {
          "output_type": "stream",
          "name": "stdout",
          "text": [
            "=== 6강 Evaluation Metrics ===\n",
            "Accuracy : 0.8852\n",
            "Precision: 0.8182\n",
            "Recall   : 0.9643\n",
            "F1 Score : 0.8852\n"
          ]
        }
      ]
    },
    {
      "cell_type": "markdown",
      "source": [
        "### 수업 종료"
      ],
      "metadata": {
        "id": "M-O1QPVAq-Wn"
      }
    },
    {
      "cell_type": "markdown",
      "source": [
        "# 6회 전체 코드(오버샘플, 원본 데이터 + 노이즈 데이터)"
      ],
      "metadata": {
        "id": "AQCUROG8KMl5"
      }
    },
    {
      "cell_type": "code",
      "source": [
        "# 라이브러리\n",
        "import pandas as pd\n",
        "import numpy as np\n",
        "\n",
        "import torch\n",
        "import torch.nn as nn\n",
        "import torch.optim as optim\n",
        "from torch.utils.data import Dataset, DataLoader\n",
        "from sklearn.metrics import accuracy_score, precision_score, recall_score, f1_score\n",
        "from imblearn.over_sampling import SMOTE\n",
        "\n",
        "# 1. 데이터 불러오기\n",
        "df = pd.read_csv(\"heart_disease_zscore.csv\")\n",
        "\n",
        "# 2. 특성과 타겟 분리\n",
        "X = df.drop(columns=[\"target\"]).astype(np.float32)\n",
        "y = df[\"target\"].astype(np.float32)\n",
        "\n",
        "# 3. 훈련/테스트 분할\n",
        "from sklearn.model_selection import train_test_split\n",
        "X_train, X_test, y_train, y_test = train_test_split(\n",
        "    X.values, y.values, test_size=0.2, random_state=42, stratify=y\n",
        ")\n",
        "\n",
        "# 5. SMOTE로 샘플링 (소수 클래스 보완)\n",
        "smote = SMOTE(random_state=42)\n",
        "X_resampled, y_resampled = smote.fit_resample(X_train, y_train)\n",
        "\n",
        "# 6-1. Dataset 클래스 정의: 테스트 데이터를 위해\n",
        "class HeartDataset(Dataset):\n",
        "    def __init__(self, X, y):\n",
        "        self.X = torch.tensor(X, dtype=torch.float32)\n",
        "        self.y = torch.tensor(y, dtype=torch.float32).view(-1, 1)\n",
        "\n",
        "    def __len__(self):\n",
        "        return len(self.y)\n",
        "\n",
        "    def __getitem__(self, idx):\n",
        "        return self.X[idx], self.y[idx]\n",
        "\n",
        "# 6-2. 혼합 증강 클래스(원본 데이터 + 노이즈 데이터: num_augments) 정의\n",
        "class MixedAugmentedDataset(Dataset):\n",
        "    def __init__(self, X, y, noise_std=0.03, num_augments=1):\n",
        "        self.X = torch.tensor(X, dtype=torch.float32)\n",
        "        self.y = torch.tensor(y, dtype=torch.float32).view(-1, 1)\n",
        "        self.noise_std = noise_std\n",
        "        self.num_augments = num_augments\n",
        "\n",
        "        self.X_all, self.y_all = self._combine_original_and_augmented()\n",
        "\n",
        "    def _combine_original_and_augmented(self):\n",
        "        X_list = [self.X[i] for i in range(len(self.X))]   # 원본 포함\n",
        "        y_list = [self.y[i] for i in range(len(self.y))]\n",
        "\n",
        "        for i in range(len(self.X)):\n",
        "            for _ in range(self.num_augments):\n",
        "                noisy = self.X[i] + torch.randn_like(self.X[i]) * self.noise_std\n",
        "                X_list.append(noisy)\n",
        "                y_list.append(self.y[i])\n",
        "\n",
        "        return X_list, y_list\n",
        "\n",
        "    def __len__(self):\n",
        "        return len(self.y_all)\n",
        "\n",
        "    def __getitem__(self, idx):\n",
        "        return self.X_all[idx], self.y_all[idx]\n",
        "\n",
        "# 학습 데이터: 데이터 증강\n",
        "train_dataset = MixedAugmentedDataset(X_resampled, y_resampled)\n",
        "# 테스트 데이터: 원본 데이터 그대로\n",
        "test_dataset = HeartDataset(X_test, y_test)\n",
        "\n",
        "train_loader = DataLoader(train_dataset, batch_size=32, shuffle=True)\n",
        "test_loader = DataLoader(test_dataset, batch_size=32, shuffle=False)\n",
        "\n",
        "# 7. DNN 모델 정의를 유연하게 정의\n",
        "class DNN_Variant(nn.Module):\n",
        "    def __init__(self, input_dim, hidden_dims):\n",
        "        super().__init__()\n",
        "        layers = []\n",
        "        # input_dim → hidden_dim 연결\n",
        "        for dim in hidden_dims:\n",
        "            layers += [\n",
        "                nn.Linear(input_dim, dim), # 선형 변환 (Fully Connected)\n",
        "                nn.BatchNorm1d(dim),       # 배치 정규화 → 학습 안정화\n",
        "                nn.ReLU(),                 # 비선형 활성화 → 복잡한 함수 근사\n",
        "                nn.Dropout(0.3)            # 30% 확률로 뉴런 끄기 → 과적합 방지\n",
        "            ]\n",
        "            # 이후 다음 레이어에서는 input_dim = dim으로 갱신해서 이어짐\n",
        "            input_dim = dim\n",
        "        # 마지막 출력은 이진 분류이므로 노드 1개 (시그모이드는 이후에 적용됨)\n",
        "        layers += [nn.Linear(input_dim, 1)]\n",
        "        # 앞서 만든 레이어 리스트를 하나의 순차적 블록으로 구성\n",
        "        self.net = nn.Sequential(*layers)\n",
        "\n",
        "    def forward(self, x):\n",
        "        return self.net(x)\n",
        "\n",
        "# 구조 변경 모델 생성\n",
        "# 은닉층 1개, 뉴런 수 64 실험\n",
        "# model = DNN_Variant(input_dim=X.shape[1], hidden_dims=[64]) # 1층\n",
        "# 은닉층 2개, 뉴런 수 128, 64 실험\n",
        "model = DNN_Variant(input_dim=X.shape[1], hidden_dims=[128, 64]) # 2층\n",
        "# 은닉층 3개, 뉴런 수 256, 128, 64 실험\n",
        "# model = DNN_Variant(input_dim=X.shape[1], hidden_dims=[256, 128, 64]) # 3층\n",
        "\n",
        "# 8. 손실함수와 옵티마이저\n",
        "criterion = nn.BCEWithLogitsLoss()\n",
        "# 옵티마이저 변경\n",
        "optimizer = optim.AdamW(model.parameters(), lr=0.001)\n",
        "# 스케쥴러 변경\n",
        "scheduler = optim.lr_scheduler.StepLR(optimizer, step_size=10, gamma=0.8)\n",
        "\n",
        "\n",
        "# 8. 학습 루프\n",
        "epochs = 50\n",
        "for epoch in range(epochs):\n",
        "    model.train()\n",
        "    running_loss = 0\n",
        "    for X_batch, y_batch in train_loader:\n",
        "        optimizer.zero_grad()\n",
        "        outputs = model(X_batch)\n",
        "        loss = criterion(outputs, y_batch)\n",
        "        loss.backward()\n",
        "        optimizer.step()\n",
        "        running_loss += loss.item()\n",
        "\n",
        "    scheduler.step()\n",
        "    avg_loss = running_loss / len(train_loader)\n",
        "    if (epoch + 1) % 10 == 0:\n",
        "        print(f\"Epoch {epoch+1:2d} | Loss: {avg_loss:.4f}\")\n",
        "\n",
        "# 9. 평가\n",
        "model.eval()\n",
        "y_pred = []\n",
        "y_true = []\n",
        "\n",
        "with torch.no_grad():\n",
        "    for X_batch, y_batch in test_loader:\n",
        "        outputs = model(X_batch)\n",
        "        probs = torch.sigmoid(outputs)\n",
        "        preds = (probs > 0.5).float()\n",
        "        y_pred.extend(preds.cpu().numpy())\n",
        "        y_true.extend(y_batch.cpu().numpy())\n",
        "\n",
        "# 10. 결과 출력\n",
        "print(\"=== 6강 Evaluation Metrics ===\")\n",
        "print(f\"Accuracy : {accuracy_score(y_true, y_pred):.4f}\")\n",
        "print(f\"Precision: {precision_score(y_true, y_pred, zero_division=0):.4f}\")\n",
        "print(f\"Recall   : {recall_score(y_true, y_pred, zero_division=0):.4f}\")\n",
        "print(f\"F1 Score : {f1_score(y_true, y_pred, zero_division=0):.4f}\")"
      ],
      "metadata": {
        "colab": {
          "base_uri": "https://localhost:8080/"
        },
        "outputId": "313dfc6a-a0bf-4f26-fb30-faf7c6c95a17",
        "id": "_fCaPMF2p_PF"
      },
      "execution_count": null,
      "outputs": [
        {
          "output_type": "stream",
          "name": "stdout",
          "text": [
            "Epoch 10 | Loss: 0.2716\n",
            "Epoch 20 | Loss: 0.1998\n",
            "Epoch 30 | Loss: 0.1600\n",
            "Epoch 40 | Loss: 0.1257\n",
            "Epoch 50 | Loss: 0.1361\n",
            "=== 6강 Evaluation Metrics ===\n",
            "Accuracy : 0.8689\n",
            "Precision: 0.8125\n",
            "Recall   : 0.9286\n",
            "F1 Score : 0.8667\n"
          ]
        }
      ]
    },
    {
      "cell_type": "markdown",
      "source": [
        "## (추가학습) SMOTE 데이터 시각화"
      ],
      "metadata": {
        "id": "FyC8dXk3yyHH"
      }
    },
    {
      "cell_type": "code",
      "source": [
        "# 라이브러리\n",
        "import torch\n",
        "import torch.nn as nn\n",
        "import torch.optim as optim\n",
        "from torch.utils.data import Dataset, DataLoader\n",
        "import pandas as pd\n",
        "import numpy as np\n",
        "\n",
        "# 1. 데이터 불러오기\n",
        "df = pd.read_csv(\"heart_disease_zscore.csv\")\n",
        "\n",
        "# 2. 특성과 타겟 분리\n",
        "X = df.drop(columns=[\"target\"]).astype(np.float32)\n",
        "y = df[\"target\"].astype(np.float32)\n",
        "\n",
        "# 3. 훈련/테스트 분할\n",
        "from sklearn.model_selection import train_test_split\n",
        "X_train, X_test, y_train, y_test = train_test_split(\n",
        "    X.values, y.values, test_size=0.2, random_state=42, stratify=y\n",
        ")"
      ],
      "metadata": {
        "id": "5U4z9_sFkugJ"
      },
      "execution_count": null,
      "outputs": []
    },
    {
      "cell_type": "code",
      "source": [
        "train_dataset[0]"
      ],
      "metadata": {
        "colab": {
          "base_uri": "https://localhost:8080/"
        },
        "id": "ywprMSvXfLQ8",
        "outputId": "c706ef4b-7915-4905-84d5-a32dd63e9052"
      },
      "execution_count": null,
      "outputs": [
        {
          "output_type": "execute_result",
          "data": {
            "text/plain": [
              "(tensor([-0.6953,  1.0034, -0.4816,  0.5025,  0.0473,  0.6734,  0.0766, -0.4726,\n",
              "         -0.7560, -0.0414,  0.0191,  0.0130,  0.9642,  0.0222,  0.0406,  0.9865,\n",
              "         -0.0406,  1.0585,  0.0189, -0.0148, -0.0059,  0.9862]),\n",
              " tensor([1.]))"
            ]
          },
          "metadata": {},
          "execution_count": 11
        }
      ]
    },
    {
      "cell_type": "code",
      "source": [
        "import matplotlib.pyplot as plt\n",
        "import seaborn as sns\n",
        "from collections import Counter\n",
        "\n",
        "# 1. 오버샘플링 전 클래스 분포 확인\n",
        "def plot_class_distribution(y_data, title, subplot_idx):\n",
        "    counter = Counter(y_data)\n",
        "    labels = list(counter.keys())\n",
        "    counts = list(counter.values())\n",
        "    plt.subplot(1, 2, subplot_idx)\n",
        "    sns.barplot(x=labels, y=counts)\n",
        "    plt.title(title)\n",
        "    plt.xlabel(\"Class\")\n",
        "    plt.ylabel(\"Count\")\n",
        "\n",
        "# 2. 오버샘플링 전 분포 시각화\n",
        "plt.figure(figsize=(10, 4))\n",
        "plot_class_distribution(y_train, \"Before SMOTE\", 1)\n",
        "\n",
        "# 3. SMOTE 적용\n",
        "from imblearn.over_sampling import SMOTE\n",
        "smote = SMOTE(random_state=42)\n",
        "X_resampled, y_resampled = smote.fit_resample(X_train, y_train)\n",
        "\n",
        "# 4. 오버샘플링 후 분포 시각화\n",
        "plot_class_distribution(y_resampled, \"After SMOTE\", 2)\n",
        "\n",
        "plt.tight_layout()\n",
        "plt.show()\n"
      ],
      "metadata": {
        "colab": {
          "base_uri": "https://localhost:8080/",
          "height": 407
        },
        "id": "W6VpfvSLfLNp",
        "outputId": "28dc8094-7474-4337-f12d-a189371c2e98"
      },
      "execution_count": null,
      "outputs": [
        {
          "output_type": "display_data",
          "data": {
            "text/plain": [
              "<Figure size 1000x400 with 2 Axes>"
            ],
            "image/png": "[encoded data removed]"
          },
          "metadata": {}
        }
      ]
    },
    {
      "cell_type": "markdown",
      "source": [
        "## 종료"
      ],
      "metadata": {
        "id": "tAY8wuohzVqQ"
      }
    }
  ]
}
{
  "nbformat": 4,
  "nbformat_minor": 0,
  "metadata": {
    "colab": {
      "provenance": [],
      "gpuType": "T4",
      "include_colab_link": true
    },
    "kernelspec": {
      "name": "python3",
      "display_name": "Python 3"
    },
    "language_info": {
      "name": "python"
    },
    "accelerator": "GPU"
  },
  "cells": [
    {
      "cell_type": "markdown",
      "metadata": {
        "id": "view-in-github",
        "colab_type": "text"
      },
      "source": [
        "<a href=\"https://colab.research.google.com/github/soobook/PyTorch-DL/blob/main/code/PT13.ipynb\" target=\"_parent\"><img src=\"https://colab.research.google.com/assets/colab-badge.svg\" alt=\"Open In Colab\"/></a>"
      ]
    },
    {
      "cell_type": "markdown",
      "source": [
        "# 13회차: RNN을 활용한 영화평 감성 분석 (3) - 모델 학습 및 평가"
      ],
      "metadata": {
        "id": "vYRa2gWLoTh-"
      }
    },
    {
      "cell_type": "markdown",
      "source": [
        "## RNN 구현: IMDB 영화평 감성 분석\n",
        "\n",
        "\n"
      ],
      "metadata": {
        "id": "2EHhyfhMVUkS"
      }
    },
    {
      "cell_type": "markdown",
      "source": [
        "- 12회차 RNN 구현 초반"
      ],
      "metadata": {
        "id": "8sHtnQqPQUBi"
      }
    },
    {
      "cell_type": "code",
      "source": [
        "# 1. 라이브러리 불러오기\n",
        "import torch\n",
        "import torch.nn as nn\n",
        "import torch.optim as optim\n",
        "from torch.utils.data import DataLoader, TensorDataset\n",
        "from keras.datasets import imdb\n",
        "from keras.preprocessing.sequence import pad_sequences\n",
        "import matplotlib.pyplot as plt\n",
        "\n",
        "# 2. 환경 설정: GPU 사용 가능 시 GPU 사용\n",
        "device = torch.device('cuda' if torch.cuda.is_available() else 'cpu')\n",
        "print(f\"Running on: {device}\")\n",
        "\n",
        "# 3. 데이터 로딩 및 전처리\n",
        "vocab_size = 10000  # 빈도수 상위 10,000개의 단어만 사용\n",
        "max_len = 500       # 모든 리뷰를 길이 500으로 패딩 또는 자름\n",
        "\n",
        "# IMDB 데이터셋 로딩 (이미 토큰화 되어 있음)\n",
        "(x_train, y_train), (x_test, y_test) = imdb.load_data(num_words=vocab_size)\n",
        "\n",
        "# 리뷰 길이 맞추기 (길이 부족한 건 0으로 채움)\n",
        "x_train = pad_sequences(x_train, maxlen=max_len)\n",
        "x_test = pad_sequences(x_test, maxlen=max_len)"
      ],
      "metadata": {
        "id": "UW5cAZM4fQ7O",
        "colab": {
          "base_uri": "https://localhost:8080/"
        },
        "outputId": "cae3beb2-82f8-4aef-90d8-dee14210c12c"
      },
      "execution_count": null,
      "outputs": [
        {
          "output_type": "stream",
          "name": "stdout",
          "text": [
            "Running on: cpu\n",
            "Downloading data from https://storage.googleapis.com/tensorflow/tf-keras-datasets/imdb.npz\n",
            "\u001b[1m17464789/17464789\u001b[0m \u001b[32m━━━━━━━━━━━━━━━━━━━━\u001b[0m\u001b[37m\u001b[0m \u001b[1m0s\u001b[0m 0us/step\n"
          ]
        }
      ]
    },
    {
      "cell_type": "code",
      "source": [
        "# 텐서로 변환\n",
        "x_train_tensor = torch.tensor(x_train, dtype=torch.long)\n",
        "y_train_tensor = torch.tensor(y_train, dtype=torch.float32)\n",
        "x_test_tensor = torch.tensor(x_test, dtype=torch.long)\n",
        "y_test_tensor = torch.tensor(y_test, dtype=torch.float32)\n",
        "\n",
        "# 변환된 텐서 출력\n",
        "print(\"x_train_tensor:\", x_train_tensor)\n",
        "print(\"y_train_tensor:\", y_train_tensor)\n",
        "print(\"x_test_tensor:\", x_test_tensor)\n",
        "print(\"y_test_tensor:\", y_test_tensor)"
      ],
      "metadata": {
        "colab": {
          "base_uri": "https://localhost:8080/"
        },
        "id": "H8uDbYKWPufB",
        "outputId": "977e74e5-428b-4ed9-c957-557de9df20b0"
      },
      "execution_count": null,
      "outputs": [
        {
          "output_type": "stream",
          "name": "stdout",
          "text": [
            "x_train_tensor: tensor([[   0,    0,    0,  ...,   19,  178,   32],\n",
            "        [   0,    0,    0,  ...,   16,  145,   95],\n",
            "        [   0,    0,    0,  ...,    7,  129,  113],\n",
            "        ...,\n",
            "        [   0,    0,    0,  ...,    4, 3586,    2],\n",
            "        [   0,    0,    0,  ...,   12,    9,   23],\n",
            "        [   0,    0,    0,  ...,  204,  131,    9]])\n",
            "y_train_tensor: tensor([1., 0., 0.,  ..., 0., 1., 0.])\n",
            "x_test_tensor: tensor([[   0,    0,    0,  ...,   14,    6,  717],\n",
            "        [   0,    0,    0,  ...,  125,    4, 3077],\n",
            "        [  33,    6,   58,  ...,    9,   57,  975],\n",
            "        ...,\n",
            "        [   0,    0,    0,  ...,   21,  846, 5518],\n",
            "        [   0,    0,    0,  ..., 2302,    7,  470],\n",
            "        [   0,    0,    0,  ...,   34, 2005, 2643]])\n",
            "y_test_tensor: tensor([0., 1., 1.,  ..., 0., 0., 0.])\n"
          ]
        }
      ]
    },
    {
      "cell_type": "markdown",
      "source": [
        "### Dataset 및 DataLoader 구성\n",
        "- TensorDataset으로 영화평 x_train_tensor과 정답인 레이블 y_train_tensor를 하나의 데이터셋 객체로 묶음\n",
        "- 모델 학습 시 전체 데이터를 한 번에 넣기엔 메모리 부담이 크고, 일반적으로 미니배치 학습(mini-batch training)을 사용\n",
        "- DataLoader는 데이터를 배치로 쪼개고, 필요 시 셔플링(shuffling)과 멀티스레딩(예: num_workers=2)도 자동 지원"
      ],
      "metadata": {
        "id": "I69M0vN-GijI"
      }
    },
    {
      "cell_type": "code",
      "source": [
        "# 4. Dataset 및 DataLoader 구성\n",
        "BATCH_SIZE = 64\n",
        "train_dataset = TensorDataset(x_train_tensor, y_train_tensor)\n",
        "test_dataset = TensorDataset(x_test_tensor, y_test_tensor)\n",
        "train_loader = DataLoader(train_dataset, batch_size=BATCH_SIZE, shuffle=True)\n",
        "test_loader = DataLoader(test_dataset, batch_size=BATCH_SIZE)"
      ],
      "metadata": {
        "id": "n0URfupqRKNo"
      },
      "execution_count": null,
      "outputs": []
    },
    {
      "cell_type": "code",
      "source": [
        "# 첫 번째 배치 확인\n",
        "for x_batch, y_batch in train_loader:\n",
        "    print(\"x_batch shape:\", x_batch.shape)\n",
        "    print(\"y_batch shape:\", y_batch.shape)\n",
        "    print(\"x_batch sample:\", x_batch[0])\n",
        "    print(\"y_batch sample:\", y_batch[0])\n",
        "    break  # 첫 번째 배치만 확인"
      ],
      "metadata": {
        "colab": {
          "base_uri": "https://localhost:8080/"
        },
        "id": "ulwtgWDwHA3j",
        "outputId": "aad07053-8565-4682-ddf9-c197a1929d7b"
      },
      "execution_count": null,
      "outputs": [
        {
          "output_type": "stream",
          "name": "stdout",
          "text": [
            "x_batch shape: torch.Size([64, 500])\n",
            "y_batch shape: torch.Size([64])\n",
            "x_batch sample: tensor([   0,    0,    0,    0,    0,    0,    0,    0,    0,    0,    0,    0,\n",
            "           0,    0,    0,    0,    0,    0,    0,    0,    0,    0,    0,    0,\n",
            "           0,    0,    0,    0,    0,    0,    0,    0,    0,    0,    0,    0,\n",
            "           0,    0,    0,    0,    0,    0,    0,    0,    0,    0,    0,    0,\n",
            "           0,    0,    0,    0,    0,    0,    0,    0,    0,    0,    0,    0,\n",
            "           0,    0,    0,    0,    0,    0,    0,    0,    0,    0,    0,    0,\n",
            "           0,    0,    0,    0,    0,    0,    0,    0,    0,    0,    0,    0,\n",
            "           0,    0,    0,    0,    0,    0,    0,    0,    0,    0,    0,    0,\n",
            "           0,    0,    0,    0,    0,    0,    0,    0,    0,    0,    0,    0,\n",
            "           0,    0,    0,    0,    0,    0,    0,    0,    0,    0,    0,    0,\n",
            "           0,    0,    0,    0,    0,    0,    0,    0,    0,    0,    0,    0,\n",
            "           0,    0,    0,    0,    0,    0,    0,    0,    0,    0,    0,    0,\n",
            "           0,    0,    0,    0,    0,    0,    0,    0,    0,    0,    1,   40,\n",
            "        1934,    4, 4191,  132, 7789,   64,   53,   38,  225,   53,    7,  285,\n",
            "          53, 1389,   53, 7188, 2045,    2,    5,  139,   11,   63,    4,  197,\n",
            "         215,   30,   48,   14,   16,   52,   19,  289,   42,  689, 8770, 4212,\n",
            "          62,   30,  128, 1934,    2,   19,    2,    4, 4660, 1692,    2,   11,\n",
            "           4, 1093,   40,    6, 2660, 5012,  187,    5,  187, 4821,    2, 1934,\n",
            "          70,  516,   12,   19,   27,    2, 3193,   48,    4,    2,    2,   62,\n",
            "        1070,  131, 1934, 1098, 8770,    5,    2,    5,    6,    2, 8796,  612,\n",
            "           7, 1389,   27,  369,   26,  147,    2,   84, 1658, 3223, 4191, 1352,\n",
            "           5, 8787,   11,  192,   36,  361, 1395,    2,   53, 2575,    5,    2,\n",
            "          74, 2045,    2, 2298, 4371, 3464,    8,   68, 1828,    4,  406,   65,\n",
            "         160,  428,  132,  433,   74,    4,  360,  287,   56,    8, 2883,   19,\n",
            "        8331,    8,  140,  103,    4,    2,   39,    4, 4491, 6816, 1934,  528,\n",
            "         123,   98,    4,   96,   38,    4,   78,  232, 3234,   35, 4491,   38,\n",
            "          36,   70,  794,   12,    8,   94,    2, 1934,    2,    5,    4,   78,\n",
            "         232, 3234,    2,    7,  265,   29, 6095,    5, 1747,    8,  607, 1016,\n",
            "        1462,  334, 1442, 8331,    5,    4,   78,  232,    5,  175,  686,   31,\n",
            "           7,   68, 1013,   84,   26,    2,  262,    2,    5,   50,  152,  306,\n",
            "           8,   30,   76, 8076,  200,    4,  328,    2,   37,  783,   88,   36,\n",
            "         157,   18,    4,  428,  349, 9588,  143, 6876,  704,    5,  148,  328,\n",
            "           2,   37,  516,   98,   14,  215,   30,    4,  236, 1934,   20,  159,\n",
            "           4,    2, 2155,   93, 1016, 2637,   53, 1649,   50,   26,    6,  612,\n",
            "           7, 6354,  139,   11,   63, 1016,    2, 2516,    5,  151,    4,  641,\n",
            "           9,    2,    4, 2425,    5,    4, 7316,   26,   55, 2276,  684,   31,\n",
            "           7,    2,  369,   39,    4, 9931, 5016,  768,  122,    4, 2516,  139,\n",
            "           5,   24, 7275,    2,   59,  190, 1102,  143,    4,   20, 1658,    4,\n",
            "         172,  432,    7,    2,    2, 2899,  935,    6, 6773,  350,  800,    6,\n",
            "        3620, 3132,    7,    2,    5, 2731,   36,  131,   92,  359,    8,  740,\n",
            "           6,  176,   36, 1666,  295,    5, 3261,   46,   19,  646, 1389,    5,\n",
            "         789,  245,   39, 4803,   57,  594,  507,  654])\n",
            "y_batch sample: tensor(1.)\n"
          ]
        }
      ]
    },
    {
      "cell_type": "code",
      "source": [
        "# 첫 번째 배치 확인\n",
        "for x_batch, y_batch in test_loader:\n",
        "    print(\"x_test_batch shape:\", x_batch.shape)\n",
        "    print(\"y_test_batch shape:\", y_batch.shape)\n",
        "    print(\"x_test_batch sample:\", x_batch[0])\n",
        "    print(\"y_test_batch sample:\", y_batch[0])\n",
        "    break  # 첫 번째 배치만 확인"
      ],
      "metadata": {
        "colab": {
          "base_uri": "https://localhost:8080/"
        },
        "id": "G4Dpg2WWNHF0",
        "outputId": "a03e330a-6326-4974-f2b3-01389c49a1e4"
      },
      "execution_count": null,
      "outputs": [
        {
          "output_type": "stream",
          "name": "stdout",
          "text": [
            "x_test_batch shape: torch.Size([64, 500])\n",
            "y_test_batch shape: torch.Size([64])\n",
            "x_test_batch sample: tensor([   0,    0,    0,    0,    0,    0,    0,    0,    0,    0,    0,    0,\n",
            "           0,    0,    0,    0,    0,    0,    0,    0,    0,    0,    0,    0,\n",
            "           0,    0,    0,    0,    0,    0,    0,    0,    0,    0,    0,    0,\n",
            "           0,    0,    0,    0,    0,    0,    0,    0,    0,    0,    0,    0,\n",
            "           0,    0,    0,    0,    0,    0,    0,    0,    0,    0,    0,    0,\n",
            "           0,    0,    0,    0,    0,    0,    0,    0,    0,    0,    0,    0,\n",
            "           0,    0,    0,    0,    0,    0,    0,    0,    0,    0,    0,    0,\n",
            "           0,    0,    0,    0,    0,    0,    0,    0,    0,    0,    0,    0,\n",
            "           0,    0,    0,    0,    0,    0,    0,    0,    0,    0,    0,    0,\n",
            "           0,    0,    0,    0,    0,    0,    0,    0,    0,    0,    0,    0,\n",
            "           0,    0,    0,    0,    0,    0,    0,    0,    0,    0,    0,    0,\n",
            "           0,    0,    0,    0,    0,    0,    0,    0,    0,    0,    0,    0,\n",
            "           0,    0,    0,    0,    0,    0,    0,    0,    0,    0,    0,    0,\n",
            "           0,    0,    0,    0,    0,    0,    0,    0,    0,    0,    0,    0,\n",
            "           0,    0,    0,    0,    0,    0,    0,    0,    0,    0,    0,    0,\n",
            "           0,    0,    0,    0,    0,    0,    0,    0,    0,    0,    0,    0,\n",
            "           0,    0,    0,    0,    0,    0,    0,    0,    0,    0,    0,    0,\n",
            "           0,    0,    0,    0,    0,    0,    0,    0,    0,    0,    0,    0,\n",
            "           0,    0,    0,    0,    0,    0,    0,    0,    0,    0,    0,    0,\n",
            "           0,    0,    0,    0,    0,    0,    0,    0,    0,    0,    0,    0,\n",
            "           0,    0,    0,    0,    0,    0,    0,    0,    0,    0,    0,    0,\n",
            "           0,    0,    0,    0,    0,    0,    0,    0,    0,    0,    0,    0,\n",
            "           0,    0,    0,    0,    0,    0,    0,    0,    0,    0,    0,    0,\n",
            "           0,    0,    0,    0,    0,    0,    0,    0,    0,    0,    0,    0,\n",
            "           0,    0,    0,    0,    0,    0,    0,    0,    0,    0,    0,    0,\n",
            "           0,    0,    0,    0,    0,    0,    0,    0,    0,    0,    0,    0,\n",
            "           0,    0,    0,    0,    0,    0,    0,    0,    0,    0,    0,    0,\n",
            "           0,    0,    0,    0,    0,    0,    0,    0,    0,    0,    0,    0,\n",
            "           0,    0,    0,    0,    0,    0,    0,    0,    0,    0,    0,    0,\n",
            "           0,    0,    0,    0,    0,    0,    0,    0,    0,    0,    0,    0,\n",
            "           0,    0,    0,    0,    0,    0,    0,    0,    0,    0,    0,    0,\n",
            "           0,    0,    0,    0,    0,    0,    0,    0,    0,    0,    0,    0,\n",
            "           0,    0,    0,    0,    0,    0,    0,    0,    0,    0,    0,    0,\n",
            "           0,    0,    0,    0,    0,    0,    0,    0,    0,    0,    0,    0,\n",
            "           0,    0,    0,    0,    0,    0,    0,    0,    0,    0,    0,    0,\n",
            "           0,    0,    0,    0,    0,    0,    0,    0,    0,    0,    0,    0,\n",
            "           1,  591,  202,   14,   31,    6,  717,   10,   10,    2,    2,    5,\n",
            "           4,  360,    7,    4,  177, 5760,  394,  354,    4,  123,    9, 1035,\n",
            "        1035, 1035,   10,   10,   13,   92,  124,   89,  488, 7944,  100,   28,\n",
            "        1668,   14,   31,   23,   27, 7479,   29,  220,  468,    8,  124,   14,\n",
            "         286,  170,    8,  157,   46,    5,   27,  239,   16,  179,    2,   38,\n",
            "          32,   25, 7944,  451,  202,   14,    6,  717])\n",
            "y_test_batch sample: tensor(0.)\n"
          ]
        }
      ]
    },
    {
      "cell_type": "markdown",
      "source": [
        "#### LSTMModel의 생성자 인자 3개 설명\n",
        "- 1 vocab_size (어휘 집합 크기): vocab_size = 10000\n",
        "  - 단어 사전의 크기, 즉 모델이 처리할 수 있는 고유한 토큰 개수\n",
        "  - 0~9999까지의 정수 인덱스를 가진 단어를 임베딩할 수 있음\n",
        "  - nn.Embedding(vocab_size, embed_dim)에서 첫 번째 인자로 쓰임\n",
        "- 2 embed_dim (임베딩 차원 수): embed_dim = 128(한 단어를 표현하는 벡터의 크기)\n",
        "  - 각 단어의 워드 벡터의 차원을 의미\n",
        "    - 너무 작으면 표현력이 떨어지고, 너무 크면 계산량이 많아지고 과적합 위험 증가\n",
        "  - 실제 임베딩 텐서의 크기는 [batch, seq_len(제한된리뷰단어수), embed_dim]\n",
        "- 3 hidden_dim (LSTM의 은닉 상태 차원 수, 노드 수): hidden_dim = 64, LSTM의 내부 상태의 크기\n",
        "  - LSTM이 문맥 정보를 얼마나 복잡하게 저장할지를 결정\n",
        "  - 각 시점에서 LSTM이 64차원 벡터로 정보를 전달함\n",
        "  - 이 값은 출력층(Linear)의 입력 차원이기도 함 → nn.Linear(hidden_dim, 1)\n"
      ],
      "metadata": {
        "id": "Suao5ysXJL0k"
      }
    },
    {
      "cell_type": "markdown",
      "source": [
        "### 워드 임베딩 학습: nn.Embedding(vocab_size, embed_dim)\n",
        "- vocab_size개의 단어를 embed_dim 차원의 벡터로 변환해주는 계층\n",
        "\t- 내부적으로는 (vocab_size × embed_dim) 크기의 weight matrix를 생성해 학습\n",
        "  - 입력된 정수 인덱스에 해당하는 행을 가져와 단어 임베딩 벡터로 사용\n",
        "- weight matrix는 학습 가능함\n",
        "  - nn.Embedding은 고정된 사전이 아님\n",
        "  - 모델이 학습을 진행하면서 이 weight도 함께 업데이트됨\n",
        "  - 따라서 학습이 진행될수록 단어 벡터가 의미 있는 방향으로 조정됨\n",
        "  - 자주 같이 나오는 단어는 유사도가 높은 벡터로 바뀌도록 학습\n"
      ],
      "metadata": {
        "id": "sw8G6i54LzSy"
      }
    },
    {
      "cell_type": "markdown",
      "source": [
        "### nn.Embedding()을 이해하기 위한 간단 코드\n",
        "- 다음은 구조만 이해하기 코드로 학습은 못함"
      ],
      "metadata": {
        "id": "LEFvW6QoILfh"
      }
    },
    {
      "cell_type": "code",
      "source": [
        "import torch\n",
        "import torch.nn as nn\n",
        "\n",
        "# 1. 임베딩 레이어 정의 (vocab_size=10, embed_dim=4)\n",
        "embedding = nn.Embedding(num_embeddings=10, embedding_dim=4)\n",
        "\n",
        "# 2. 입력 시퀀스 정의 (정수 인덱스)\n",
        "input_indices = torch.tensor([1, 3, 5, 7])  # 예: 문장의 단어 인덱스 (배치 X, 시퀀스만)\n",
        "\n",
        "# 3. 임베딩 적용 → 인덱스에 해당하는 벡터들을 weight matrix에서 추출\n",
        "embedded_vectors = embedding(input_indices)\n",
        "\n",
        "# 4. 출력 결과 확인\n",
        "print(\"입력 인덱스:\", input_indices.tolist())\n",
        "print(\"임베딩 벡터:\\n\", embedded_vectors)\n",
        "print(\"출력 shape:\", embedded_vectors.shape)  # [4, 4]\n",
        "\n",
        "# 5. 임베딩 테이블 전체 보기 → 학습 가능한 weight matrix\n",
        "print(\"\\n[전체 임베딩 weight matrix] (크기: [10, 4])\")\n",
        "print(embedding.weight.shape)\n",
        "print(embedding.weight)\n",
        "\n",
        "# 6. 각 인덱스에 대응하는 벡터 직접 확인\n",
        "print(\"\\n[embedding.weight[n] 직접 확인]\")\n",
        "for idx in input_indices:\n",
        "    print(f\"embedding.weight[{idx.item()}] = {embedding.weight[idx].tolist()}\")"
      ],
      "metadata": {
        "colab": {
          "base_uri": "https://localhost:8080/"
        },
        "id": "TexAJAYxnlVh",
        "outputId": "df0d1279-4893-43b4-9dd0-b2e1f0046f18"
      },
      "execution_count": 1,
      "outputs": [
        {
          "output_type": "stream",
          "name": "stdout",
          "text": [
            "입력 인덱스: [1, 3, 5, 7]\n",
            "임베딩 벡터:\n",
            " tensor([[ 0.3225, -2.0041, -0.0156,  0.9924],\n",
            "        [ 1.3310,  0.0960,  0.0546, -0.3236],\n",
            "        [ 0.4661, -0.3964,  1.2531, -1.5930],\n",
            "        [-1.1121, -0.4734,  1.2406,  0.3297]], grad_fn=<EmbeddingBackward0>)\n",
            "출력 shape: torch.Size([4, 4])\n",
            "\n",
            "[전체 임베딩 weight matrix] (크기: [10, 4])\n",
            "torch.Size([10, 4])\n",
            "Parameter containing:\n",
            "tensor([[-0.3524,  0.4201,  1.6466,  1.3152],\n",
            "        [ 0.3225, -2.0041, -0.0156,  0.9924],\n",
            "        [-0.5695,  0.8557,  0.3433,  0.4662],\n",
            "        [ 1.3310,  0.0960,  0.0546, -0.3236],\n",
            "        [-0.7013, -1.5290,  0.1570,  0.0950],\n",
            "        [ 0.4661, -0.3964,  1.2531, -1.5930],\n",
            "        [ 0.1529,  1.4728, -0.6022,  0.8280],\n",
            "        [-1.1121, -0.4734,  1.2406,  0.3297],\n",
            "        [ 0.1366, -0.1075, -0.2478, -0.3972],\n",
            "        [ 0.4511,  1.3360, -0.9889,  0.2870]], requires_grad=True)\n",
            "\n",
            "[embedding.weight[n] 직접 확인]\n",
            "embedding.weight[1] = [0.32251203060150146, -2.0041253566741943, -0.015602098777890205, 0.9924370646476746]\n",
            "embedding.weight[3] = [1.330965518951416, 0.09603970497846603, 0.05460001155734062, -0.32361266016960144]\n",
            "embedding.weight[5] = [0.46609923243522644, -0.3964398503303528, 1.2531031370162964, -1.592972993850708]\n",
            "embedding.weight[7] = [-1.1121138334274292, -0.4734354317188263, 1.24061918258667, 0.32973867654800415]\n"
          ]
        }
      ]
    },
    {
      "cell_type": "markdown",
      "source": [
        "### 모델 클래스 정의"
      ],
      "metadata": {
        "id": "6AqwIvSgIYUo"
      }
    },
    {
      "cell_type": "code",
      "source": [
        "# 5. LSTM 기반 이진 분류 모델 정의\n",
        "class LSTMModel(nn.Module):\n",
        "    # 모델 초기화: 어휘 수, 임베딩 차원 수, LSTM 은닉 상태 차원 수를 받아서 구성함\n",
        "    def __init__(self, vocab_size, embed_dim, hidden_dim):\n",
        "        super().__init__()\n",
        "        # 입력 정수 인덱스를 임베딩 벡터로 변환하는 계층 (word embedding)\n",
        "        self.embedding = nn.Embedding(vocab_size, embed_dim)\n",
        "        # LSTM 계층: 시퀀스 데이터를 처리하고 시점 간의 문맥 정보를 학습\n",
        "        # batch_first=True는 입력 형태가 [batch, seq_len, feature]임을 의미\n",
        "        self.lstm = nn.LSTM(embed_dim, hidden_dim, batch_first=True)\n",
        "        # 출력층: LSTM의 마지막 hidden state를 이진 분류를 위한 단일 출력값으로 변환\n",
        "        self.fc = nn.Linear(hidden_dim, 1)\n",
        "        # 시그모이드 함수: 출력값을 0~1 사이의 확률로 변환\n",
        "        self.sigmoid = nn.Sigmoid()\n",
        "\n",
        "    # 순전파 정의: 입력 시퀀스를 받아 예측 확률을 출력\n",
        "    # 입력된 시퀀스 데이터를 임베딩 → LSTM → 선형 출력층 → 시그모이드 단계를 거쳐\n",
        "    # 이진 분류 확률값으로 출력\n",
        "    def forward(self, x):\n",
        "        # 정수 인덱스 시퀀스를 임베딩 벡터 시퀀스로 변환 (형태: [batch, seq_len] → [batch, seq_len, embed_dim])\n",
        "        x = self.embedding(x)\n",
        "        # LSTM에 임베딩된 시퀀스를 전달하고, 마지막 시점의 hidden state만 추출\n",
        "        _, (hidden, _) = self.lstm(x)\n",
        "        # 마지막 레이어의 hidden state(hidden[-1])를 선형 변환하여 이진 분류 로짓 계산\n",
        "        out = self.fc(hidden[-1])\n",
        "        # 시그모이드 함수를 통해 0~1 사이의 확률값 출력, squeeze로 [batch, 1] → [batch]로 차원 축소\n",
        "        return self.sigmoid(out).squeeze()"
      ],
      "metadata": {
        "id": "192Nhy7lQDRJ"
      },
      "execution_count": null,
      "outputs": []
    },
    {
      "cell_type": "code",
      "source": [
        "# 모델, 손실 함수, 옵티마이저 정의\n",
        "model = LSTMModel(vocab_size, embed_dim=128, hidden_dim=64).to(device)\n",
        "criterion = nn.BCELoss() # 이진 분류 전용 손실 함수\n",
        "optimizer = optim.Adam(model.parameters(), lr=0.001)"
      ],
      "metadata": {
        "id": "PHXz8EbiWTXb"
      },
      "execution_count": null,
      "outputs": []
    },
    {
      "cell_type": "code",
      "source": [
        "# 6. 모델 학습 루프\n",
        "num_epochs = 20\n",
        "train_losses = []\n",
        "\n",
        "print(\"Training started...\")\n",
        "for epoch in range(num_epochs):\n",
        "    model.train()\n",
        "    total_loss = 0\n",
        "    for inputs, labels in train_loader:\n",
        "        inputs, labels = inputs.to(device), labels.to(device)\n",
        "        optimizer.zero_grad()\n",
        "        outputs = model(inputs)\n",
        "        loss = criterion(outputs, labels)\n",
        "        loss.backward()\n",
        "        optimizer.step()\n",
        "        total_loss += loss.item()\n",
        "    avg_loss = total_loss / len(train_loader)\n",
        "    train_losses.append(avg_loss)\n",
        "    print(f\"Epoch {epoch+1}/{num_epochs}, Loss: {avg_loss:.4f}\")"
      ],
      "metadata": {
        "colab": {
          "base_uri": "https://localhost:8080/"
        },
        "id": "87-qrApmQIlY",
        "outputId": "53322e24-a298-4fdc-f214-7f1957d5a9f0"
      },
      "execution_count": null,
      "outputs": [
        {
          "output_type": "stream",
          "name": "stdout",
          "text": [
            "Training started...\n",
            "Epoch 1/20, Loss: 0.6001\n",
            "Epoch 2/20, Loss: 0.4516\n",
            "Epoch 3/20, Loss: 0.3869\n",
            "Epoch 4/20, Loss: 0.2989\n",
            "Epoch 5/20, Loss: 0.2558\n",
            "Epoch 6/20, Loss: 0.2084\n",
            "Epoch 7/20, Loss: 0.1901\n",
            "Epoch 8/20, Loss: 0.1702\n",
            "Epoch 9/20, Loss: 0.1480\n",
            "Epoch 10/20, Loss: 0.1063\n",
            "Epoch 11/20, Loss: 0.0867\n",
            "Epoch 12/20, Loss: 0.0752\n",
            "Epoch 13/20, Loss: 0.0817\n",
            "Epoch 14/20, Loss: 0.0574\n",
            "Epoch 15/20, Loss: 0.0544\n",
            "Epoch 16/20, Loss: 0.1611\n",
            "Epoch 17/20, Loss: 0.1579\n",
            "Epoch 18/20, Loss: 0.0625\n",
            "Epoch 19/20, Loss: 0.0296\n",
            "Epoch 20/20, Loss: 0.0196\n"
          ]
        }
      ]
    },
    {
      "cell_type": "code",
      "source": [
        "%config InlineBackend.figure_format = 'retina'"
      ],
      "metadata": {
        "id": "E0GzNXk1T2xy"
      },
      "execution_count": null,
      "outputs": []
    },
    {
      "cell_type": "code",
      "source": [
        "import matplotlib.pyplot as plt\n",
        "plt.figure(figsize=(6, 4))\n",
        "\n",
        "# 7. 손실 시각화\n",
        "plt.plot(train_losses, label='Train Loss')\n",
        "plt.xlabel('Epoch')\n",
        "plt.ylabel('Loss')\n",
        "plt.title('Loss over Epochs')\n",
        "plt.legend()\n",
        "plt.show()"
      ],
      "metadata": {
        "colab": {
          "base_uri": "https://localhost:8080/",
          "height": 409
        },
        "id": "TWwK6xRXRQrL",
        "outputId": "cd87a9d4-b643-498e-92b2-4fa0e5375816"
      },
      "execution_count": null,
      "outputs": [
        {
          "output_type": "display_data",
          "data": {
            "text/plain": [
              "<Figure size 600x400 with 1 Axes>"
            ],
            "image/png": "[encoded data removed]"
          },
          "metadata": {
            "image/png": {
              "width": 536,
              "height": 392
            }
          }
        }
      ]
    },
    {
      "cell_type": "code",
      "source": [
        "# 8. 정확도 평가 함수\n",
        "def evaluate(model, dataloader):\n",
        "    model.eval()\n",
        "    correct = total = 0\n",
        "    with torch.no_grad():\n",
        "        for inputs, labels in dataloader:\n",
        "            inputs, labels = inputs.to(device), labels.to(device)\n",
        "            outputs = model(inputs)\n",
        "            predictions = (outputs > 0.5).float()\n",
        "            correct += (predictions == labels).sum().item()\n",
        "            total += labels.size(0)\n",
        "    return correct / total\n",
        "\n",
        "# 9. 테스트 정확도 출력\n",
        "accuracy = evaluate(model, test_loader)\n",
        "print(f\"Test Accuracy: {accuracy * 100:.2f}%\")"
      ],
      "metadata": {
        "colab": {
          "base_uri": "https://localhost:8080/"
        },
        "id": "4XZfxNUCSqVZ",
        "outputId": "5c2e09e4-8add-429c-db62-7a9774d677fa"
      },
      "execution_count": null,
      "outputs": [
        {
          "output_type": "stream",
          "name": "stdout",
          "text": [
            "Test Accuracy: 86.34%\n"
          ]
        }
      ]
    },
    {
      "cell_type": "markdown",
      "source": [
        "## 학습 종료"
      ],
      "metadata": {
        "id": "NxDrX_9353hn"
      }
    },
    {
      "cell_type": "markdown",
      "source": [
        "### 심화 학습"
      ],
      "metadata": {
        "id": "-Jzdd_WdUZOl"
      }
    },
    {
      "cell_type": "code",
      "source": [
        "# 10. 잘못 예측한 샘플 중 부정(0)을 긍정으로, 긍정(1)을 부정으로 예측한 사례 출력\n",
        "print(\"\\n오분류 예시:\")\n",
        "\n",
        "model.eval()\n",
        "false_positive_found = False\n",
        "false_negative_found = False\n",
        "\n",
        "with torch.no_grad():\n",
        "    for i in range(len(x_test_tensor)):\n",
        "        input_seq = x_test_tensor[i].unsqueeze(0).to(device)\n",
        "        label = y_test_tensor[i].item()\n",
        "        output = model(input_seq)\n",
        "        prediction = 1.0 if output.item() > 0.5 else 0.0\n",
        "\n",
        "        # 부정(0)을 긍정(1)으로 예측한 경우\n",
        "        if label == 0.0 and prediction == 1.0 and not false_positive_found:\n",
        "            print(f\"\\nFalse Positive (부정을 긍정으로 예측)\\n실제 레이블: {int(label)}, 예측: {int(prediction)}\")\n",
        "            print(f\"리뷰 토큰: {x_test_tensor[i].tolist()}\")\n",
        "            false_positive_found = True\n",
        "\n",
        "        # 긍정(1)을 부정(0)으로 예측한 경우\n",
        "        if label == 1.0 and prediction == 0.0 and not false_negative_found:\n",
        "            print(f\"\\nFalse Negative (긍정을 부정으로 예측)\\n실제 레이블: {int(label)}, 예측: {int(prediction)}\")\n",
        "            print(f\"리뷰 토큰: {x_test_tensor[i].tolist()}\")\n",
        "            false_negative_found = True\n",
        "\n",
        "        if false_positive_found and false_negative_found:\n",
        "            break"
      ],
      "metadata": {
        "colab": {
          "base_uri": "https://localhost:8080/"
        },
        "id": "_lHd_wqbSiwj",
        "outputId": "bf432846-3f26-41f8-ffce-7394fe9e1f8f"
      },
      "execution_count": null,
      "outputs": [
        {
          "output_type": "stream",
          "name": "stdout",
          "text": [
            "\n",
            "오분류 예시:\n",
            "\n",
            "False Negative (긍정을 부정으로 예측)\n",
            "실제 레이블: 1, 예측: 0\n",
            "리뷰 토큰: [33, 6, 58, 54, 1270, 431, 748, 7, 32, 2580, 16, 11, 94, 2, 10, 10, 4, 993, 2, 7, 4, 1766, 2634, 2164, 2, 8, 847, 8, 1450, 121, 31, 7, 27, 86, 2663, 2, 16, 6, 465, 993, 2006, 2, 573, 17, 2, 42, 4, 2, 37, 473, 6, 711, 6, 8869, 7, 328, 212, 70, 30, 258, 11, 220, 32, 7, 108, 21, 133, 12, 9, 55, 465, 849, 3711, 53, 33, 2071, 1969, 37, 70, 1144, 4, 5940, 1409, 74, 476, 37, 62, 91, 1329, 169, 4, 1330, 2, 146, 655, 2212, 5, 258, 12, 184, 2, 546, 5, 849, 2, 7, 4, 22, 1436, 18, 631, 1386, 797, 7, 4, 8712, 71, 348, 425, 4320, 1061, 19, 2, 5, 2, 11, 661, 8, 339, 2, 4, 2455, 2, 7, 4, 1962, 10, 10, 263, 787, 9, 270, 11, 6, 9466, 4, 2, 2, 121, 4, 5437, 26, 4434, 19, 68, 1372, 5, 28, 446, 6, 318, 7149, 8, 67, 51, 36, 70, 81, 8, 4392, 2294, 36, 1197, 8, 2, 2, 18, 6, 711, 4, 9909, 26, 2, 1125, 11, 14, 636, 720, 12, 426, 28, 77, 776, 8, 97, 38, 111, 7489, 6175, 168, 1239, 5189, 137, 2, 18, 27, 173, 9, 2399, 17, 6, 2, 428, 2, 232, 11, 4, 8014, 37, 272, 40, 2708, 247, 30, 656, 6, 2, 54, 2, 3292, 98, 6, 2840, 40, 558, 37, 6093, 98, 4, 2, 1197, 15, 14, 9, 57, 4893, 5, 4659, 6, 275, 711, 7937, 2, 3292, 98, 6, 2, 10, 10, 6639, 19, 14, 2, 267, 162, 711, 37, 5900, 752, 98, 4, 2, 2378, 90, 19, 6, 2, 7, 2, 1810, 2, 4, 4770, 3183, 930, 8, 508, 90, 4, 1317, 8, 4, 2, 17, 2, 3965, 1853, 4, 1494, 8, 4468, 189, 4, 2, 6287, 5774, 4, 4770, 5, 95, 271, 23, 6, 7742, 6063, 2, 5437, 33, 1526, 6, 425, 3155, 2, 4535, 1636, 7, 4, 4669, 2, 469, 4, 4552, 54, 4, 150, 5664, 2, 280, 53, 2, 2, 18, 339, 29, 1978, 27, 7885, 5, 2, 68, 1830, 19, 6571, 2, 4, 1515, 7, 263, 65, 2132, 34, 6, 5680, 7489, 43, 159, 29, 9, 4706, 9, 387, 73, 195, 584, 10, 10, 1069, 4, 58, 810, 54, 14, 6078, 117, 22, 16, 93, 5, 1069, 4, 192, 15, 12, 16, 93, 34, 6, 1766, 2, 33, 4, 5673, 7, 15, 2, 9252, 3286, 325, 12, 62, 30, 776, 8, 67, 14, 17, 6, 2, 44, 148, 687, 2, 203, 42, 203, 24, 28, 69, 2, 6676, 11, 330, 54, 29, 93, 2, 21, 845, 2, 27, 1099, 7, 819, 4, 22, 1407, 17, 6, 2, 787, 7, 2460, 2, 2, 100, 30, 4, 3737, 3617, 3169, 2321, 42, 1898, 11, 4, 3814, 42, 101, 704, 7, 101, 999, 15, 1625, 94, 2926, 180, 5, 9, 9101, 34, 2, 45, 6, 1429, 22, 60, 6, 1220, 31, 11, 94, 6408, 96, 21, 94, 749, 9, 57, 975]\n",
            "\n",
            "False Positive (부정을 긍정으로 예측)\n",
            "실제 레이블: 0, 예측: 1\n",
            "리뷰 토큰: [0, 0, 0, 0, 0, 0, 0, 0, 0, 0, 0, 0, 0, 0, 0, 0, 0, 0, 0, 0, 0, 0, 0, 0, 0, 0, 0, 0, 0, 0, 0, 0, 0, 0, 0, 0, 0, 0, 0, 0, 0, 0, 0, 0, 0, 0, 0, 0, 0, 0, 0, 0, 0, 0, 0, 0, 0, 0, 0, 0, 0, 0, 0, 0, 0, 0, 0, 0, 0, 0, 0, 0, 0, 0, 0, 0, 0, 0, 0, 0, 0, 0, 0, 0, 0, 0, 0, 0, 0, 0, 0, 0, 0, 0, 0, 0, 0, 0, 0, 0, 0, 0, 0, 0, 0, 0, 0, 0, 0, 0, 0, 0, 0, 0, 0, 0, 0, 0, 0, 0, 0, 0, 0, 0, 0, 0, 0, 0, 0, 0, 0, 0, 0, 0, 0, 0, 0, 0, 0, 0, 0, 0, 0, 0, 0, 0, 0, 0, 0, 0, 0, 0, 0, 0, 0, 0, 0, 0, 0, 0, 0, 0, 0, 0, 0, 0, 0, 0, 0, 0, 0, 0, 0, 0, 0, 0, 0, 0, 0, 0, 0, 0, 0, 0, 0, 0, 0, 0, 0, 0, 0, 0, 0, 0, 0, 0, 0, 0, 0, 0, 0, 0, 0, 0, 0, 0, 0, 0, 0, 0, 0, 0, 0, 0, 0, 0, 0, 0, 0, 0, 0, 0, 0, 0, 0, 0, 0, 0, 0, 0, 0, 0, 0, 0, 0, 0, 0, 0, 0, 0, 0, 0, 0, 0, 0, 0, 0, 0, 0, 0, 0, 0, 0, 0, 0, 0, 0, 0, 0, 0, 0, 0, 0, 0, 0, 0, 0, 0, 0, 0, 0, 0, 0, 0, 0, 0, 0, 0, 0, 0, 0, 0, 0, 0, 0, 0, 0, 0, 0, 0, 0, 0, 0, 0, 0, 0, 0, 0, 0, 0, 0, 0, 0, 0, 0, 0, 0, 0, 0, 0, 0, 0, 0, 0, 0, 0, 0, 0, 0, 0, 0, 0, 0, 0, 0, 0, 0, 0, 0, 0, 0, 0, 0, 0, 0, 0, 0, 0, 0, 0, 0, 0, 0, 0, 0, 0, 0, 0, 0, 0, 0, 0, 0, 0, 0, 0, 0, 0, 0, 0, 0, 0, 0, 0, 0, 0, 1, 363, 69, 6, 196, 119, 1586, 19, 6514, 2, 3527, 2953, 21, 171, 7, 134, 7016, 28, 3405, 4, 2181, 7, 58, 4, 91, 906, 71, 4, 2636, 2370, 2907, 2, 108, 63, 28, 196, 237, 413, 1250, 14, 31, 9, 1061, 19, 2278, 690, 2, 2, 5, 2764, 45, 6, 371, 9687, 7, 6247, 5, 184, 751, 2, 639, 12, 16, 2305, 18, 94, 3268, 318, 302, 63, 26, 220, 2, 11, 14, 251, 5, 559, 2, 1424, 7, 2873, 1381, 4, 64, 1339, 1123, 792, 63, 6095, 9, 94, 307, 1399, 5, 7890, 619, 8, 135, 7, 4, 111, 108, 93, 11, 14, 512, 171, 7, 98, 216, 56, 8, 3802, 2, 204, 3036, 7, 2, 220, 101, 85, 2, 3527, 22, 9, 1731, 8, 14, 31, 151, 45, 6, 3358]\n"
          ]
        }
      ]
    },
    {
      "cell_type": "markdown",
      "source": [
        "## 종료"
      ],
      "metadata": {
        "id": "3zyPS_6HUkEg"
      }
    }
  ]
}
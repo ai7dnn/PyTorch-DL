{
  "nbformat": 4,
  "nbformat_minor": 0,
  "metadata": {
    "colab": {
      "provenance": [],
      "gpuType": "T4",
      "include_colab_link": true
    },
    "kernelspec": {
      "name": "python3",
      "display_name": "Python 3"
    },
    "language_info": {
      "name": "python"
    },
    "accelerator": "GPU"
  },
  "cells": [
    {
      "cell_type": "markdown",
      "metadata": {
        "id": "view-in-github",
        "colab_type": "text"
      },
      "source": [
        "<a href=\"https://colab.research.google.com/github/soobook/PyTorch-DL/blob/main/code/PT12.ipynb\" target=\"_parent\"><img src=\"https://colab.research.google.com/assets/colab-badge.svg\" alt=\"Open In Colab\"/></a>"
      ]
    },
    {
      "cell_type": "markdown",
      "source": [
        "# 12회차: RNN을 활용한 영화평 감성 분석 (2) - 데이터 처리 및 분석"
      ],
      "metadata": {
        "id": "vYRa2gWLoTh-"
      }
    },
    {
      "cell_type": "markdown",
      "source": [
        "### IMDB 영화평 감성 분석을 위한 라이브러리 로드\n",
        "\n",
        "\n"
      ],
      "metadata": {
        "id": "2EHhyfhMVUkS"
      }
    },
    {
      "cell_type": "code",
      "source": [
        "# 1. 라이브러리 불러오기\n",
        "import torch\n",
        "import torch.nn as nn\n",
        "import torch.optim as optim\n",
        "from torch.utils.data import DataLoader, TensorDataset\n",
        "# Keras에서 IMDB 영화 리뷰 데이터셋 모듈 로드\n",
        "from keras.datasets import imdb\n",
        "# Keras에서 시퀀스 데이터를 동일한 길이로 패딩해주는 함수 불러오기\n",
        "from keras.preprocessing.sequence import pad_sequences\n",
        "import matplotlib.pyplot as plt"
      ],
      "metadata": {
        "id": "SKfTgryReUZc"
      },
      "execution_count": 1,
      "outputs": []
    },
    {
      "cell_type": "code",
      "source": [
        "# 2. 환경 설정: GPU 사용 가능 시 GPU 사용\n",
        "device = torch.device('cuda' if torch.cuda.is_available() else 'cpu')\n",
        "print(f\"Running on: {device}\")"
      ],
      "metadata": {
        "colab": {
          "base_uri": "https://localhost:8080/"
        },
        "id": "oOJAl3mKyUxB",
        "outputId": "ab1976c6-0fba-4436-ad92-19198ec61b5a"
      },
      "execution_count": 2,
      "outputs": [
        {
          "output_type": "stream",
          "name": "stdout",
          "text": [
            "Running on: cpu\n"
          ]
        }
      ]
    },
    {
      "cell_type": "markdown",
      "source": [
        "## IMDB 데이터 처리"
      ],
      "metadata": {
        "id": "wqYKkN3jsX9p"
      }
    },
    {
      "cell_type": "code",
      "source": [
        "from keras.datasets import imdb\n",
        "from collections import Counter\n",
        "\n",
        "# 데이터 로딩\n",
        "# IMDB 리뷰를 이미 단어 단위로 토큰화하고 단어의 인덱스 시퀀스로 변환해 반환\n",
        "(x_train, y_train), (x_test, y_test) = imdb.load_data()\n",
        "# 전체 리뷰 수\n",
        "print(f\"학습 샘플 수: {len(x_train)}, 테스트 샘플 수: {len(x_test)}\")"
      ],
      "metadata": {
        "colab": {
          "base_uri": "https://localhost:8080/"
        },
        "id": "7g0uP-PqAhKl",
        "outputId": "eede61a7-096d-42ba-961f-136f47b522b6"
      },
      "execution_count": 6,
      "outputs": [
        {
          "output_type": "stream",
          "name": "stdout",
          "text": [
            "학습 샘플 수: 25000, 테스트 샘플 수: 25000\n"
          ]
        }
      ]
    },
    {
      "cell_type": "code",
      "source": [
        "x_train[:2]"
      ],
      "metadata": {
        "id": "EYLFNh_Yi-3N",
        "outputId": "822f1663-ddee-4fd2-caa8-dd4afd67a9fa",
        "colab": {
          "base_uri": "https://localhost:8080/"
        }
      },
      "execution_count": 8,
      "outputs": [
        {
          "output_type": "execute_result",
          "data": {
            "text/plain": [
              "array([list([1, 14, 22, 16, 43, 530, 973, 1622, 1385, 65, 458, 4468, 66, 3941, 4, 173, 36, 256, 5, 25, 100, 43, 838, 112, 50, 670, 22665, 9, 35, 480, 284, 5, 150, 4, 172, 112, 167, 21631, 336, 385, 39, 4, 172, 4536, 1111, 17, 546, 38, 13, 447, 4, 192, 50, 16, 6, 147, 2025, 19, 14, 22, 4, 1920, 4613, 469, 4, 22, 71, 87, 12, 16, 43, 530, 38, 76, 15, 13, 1247, 4, 22, 17, 515, 17, 12, 16, 626, 18, 19193, 5, 62, 386, 12, 8, 316, 8, 106, 5, 4, 2223, 5244, 16, 480, 66, 3785, 33, 4, 130, 12, 16, 38, 619, 5, 25, 124, 51, 36, 135, 48, 25, 1415, 33, 6, 22, 12, 215, 28, 77, 52, 5, 14, 407, 16, 82, 10311, 8, 4, 107, 117, 5952, 15, 256, 4, 31050, 7, 3766, 5, 723, 36, 71, 43, 530, 476, 26, 400, 317, 46, 7, 4, 12118, 1029, 13, 104, 88, 4, 381, 15, 297, 98, 32, 2071, 56, 26, 141, 6, 194, 7486, 18, 4, 226, 22, 21, 134, 476, 26, 480, 5, 144, 30, 5535, 18, 51, 36, 28, 224, 92, 25, 104, 4, 226, 65, 16, 38, 1334, 88, 12, 16, 283, 5, 16, 4472, 113, 103, 32, 15, 16, 5345, 19, 178, 32]),\n",
              "       list([1, 194, 1153, 194, 8255, 78, 228, 5, 6, 1463, 4369, 5012, 134, 26, 4, 715, 8, 118, 1634, 14, 394, 20, 13, 119, 954, 189, 102, 5, 207, 110, 3103, 21, 14, 69, 188, 8, 30, 23, 7, 4, 249, 126, 93, 4, 114, 9, 2300, 1523, 5, 647, 4, 116, 9, 35, 8163, 4, 229, 9, 340, 1322, 4, 118, 9, 4, 130, 4901, 19, 4, 1002, 5, 89, 29, 952, 46, 37, 4, 455, 9, 45, 43, 38, 1543, 1905, 398, 4, 1649, 26, 6853, 5, 163, 11, 3215, 10156, 4, 1153, 9, 194, 775, 7, 8255, 11596, 349, 2637, 148, 605, 15358, 8003, 15, 123, 125, 68, 23141, 6853, 15, 349, 165, 4362, 98, 5, 4, 228, 9, 43, 36893, 1157, 15, 299, 120, 5, 120, 174, 11, 220, 175, 136, 50, 9, 4373, 228, 8255, 5, 25249, 656, 245, 2350, 5, 4, 9837, 131, 152, 491, 18, 46151, 32, 7464, 1212, 14, 9, 6, 371, 78, 22, 625, 64, 1382, 9, 8, 168, 145, 23, 4, 1690, 15, 16, 4, 1355, 5, 28, 6, 52, 154, 462, 33, 89, 78, 285, 16, 145, 95])],\n",
              "      dtype=object)"
            ]
          },
          "metadata": {},
          "execution_count": 8
        }
      ]
    },
    {
      "cell_type": "code",
      "source": [
        "y_train[:2]"
      ],
      "metadata": {
        "id": "74bXzoaAjVPr",
        "outputId": "de8fbb69-5d45-43b4-e518-db67a83b1cfa",
        "colab": {
          "base_uri": "https://localhost:8080/"
        }
      },
      "execution_count": 9,
      "outputs": [
        {
          "output_type": "execute_result",
          "data": {
            "text/plain": [
              "array([1, 0])"
            ]
          },
          "metadata": {},
          "execution_count": 9
        }
      ]
    },
    {
      "cell_type": "code",
      "source": [
        "from collections import Counter\n",
        "\n",
        "# 클래스 분포 확인\n",
        "train_counter = Counter(y_train)\n",
        "test_counter = Counter(y_test)\n",
        "print(\"라벨 분포 (0 = 부정, 1 = 긍정):\")\n",
        "print(f\" - 학습   데이터 분포: 0 = {train_counter[0]}, 1 = {train_counter[1]}\")\n",
        "print(f\" - 테스트 데이터 분포: 0 = {test_counter[0]}, 1 = {test_counter[1]}\")"
      ],
      "metadata": {
        "colab": {
          "base_uri": "https://localhost:8080/"
        },
        "id": "53eDK12xxrmo",
        "outputId": "34ff6722-a467-4035-8e18-c3580a0e4fd9"
      },
      "execution_count": 4,
      "outputs": [
        {
          "output_type": "stream",
          "name": "stdout",
          "text": [
            "라벨 분포 (0 = 부정, 1 = 긍정):\n",
            " - 학습   데이터 분포: 0 = 12500, 1 = 12500\n",
            " - 테스트 데이터 분포: 0 = 12500, 1 = 12500\n"
          ]
        }
      ]
    },
    {
      "cell_type": "code",
      "source": [
        "# Keras에서 IMDB 영화 리뷰 데이터셋 모듈 로드\n",
        "from keras.datasets import imdb\n",
        "\n",
        "# 단어 → 정수 인덱스 사전 로드\n",
        "# 단어(문자열)를 키로 하고, 해당 단어의 빈도 순 인덱스(정수)를 값으로 가지는 딕셔너리 반환\n",
        "word_index = imdb.get_word_index()"
      ],
      "metadata": {
        "colab": {
          "base_uri": "https://localhost:8080/"
        },
        "id": "tnTRreIltmt3",
        "outputId": "2f4ae43b-7a03-4de5-b517-6a7cf8919b00"
      },
      "execution_count": 5,
      "outputs": [
        {
          "output_type": "stream",
          "name": "stdout",
          "text": [
            "Downloading data from https://storage.googleapis.com/tensorflow/tf-keras-datasets/imdb_word_index.json\n",
            "\u001b[1m1641221/1641221\u001b[0m \u001b[32m━━━━━━━━━━━━━━━━━━━━\u001b[0m\u001b[37m\u001b[0m \u001b[1m0s\u001b[0m 0us/step\n"
          ]
        }
      ]
    },
    {
      "cell_type": "code",
      "source": [
        "# 처음 10개 단어와 해당 인덱스를 출력\n",
        "# word_index 딕셔너리에서 (k: 단어, i: 순번) 형태로 순회\n",
        "for i, k in enumerate(word_index):\n",
        "    if i < 10:                      # 처음 10개 항목만 출력\n",
        "        print(k, word_index[k])     # 단어와 그에 해당하는 인덱스 출력"
      ],
      "metadata": {
        "id": "WfTt4rRRTRP1",
        "outputId": "45724153-50a1-4913-f472-ab5ee3078d07",
        "colab": {
          "base_uri": "https://localhost:8080/"
        }
      },
      "execution_count": 6,
      "outputs": [
        {
          "output_type": "stream",
          "name": "stdout",
          "text": [
            "fawn 34701\n",
            "tsukino 52006\n",
            "nunnery 52007\n",
            "sonja 16816\n",
            "vani 63951\n",
            "woods 1408\n",
            "spiders 16115\n",
            "hanging 2345\n",
            "woody 2289\n",
            "trawling 52008\n"
          ]
        }
      ]
    },
    {
      "cell_type": "code",
      "source": [
        "# 'great'이라는 단어의 인덱스 확인\n",
        "# 예: 84 → 'great'은 전체 단어 중 84번째로 자주 등장한 단어\n",
        "print(word_index['great'])"
      ],
      "metadata": {
        "id": "WcYSGgG7TNAu",
        "outputId": "27c4fd57-1822-41f3-903a-32e4b1cdfddf",
        "colab": {
          "base_uri": "https://localhost:8080/"
        }
      },
      "execution_count": 7,
      "outputs": [
        {
          "output_type": "stream",
          "name": "stdout",
          "text": [
            "84\n"
          ]
        }
      ]
    },
    {
      "cell_type": "markdown",
      "source": [
        "### IMDB 데이터에서 자주 등장하는 단어 10개\n",
        "- 너무 자주 나오는 단어는 관사나 의미 없는 단어일 가능성이 높음\n",
        "- 감성에 영향을 미치는 단어들은 오히려 인덱스가 크고, 자주 안 나오는 단어일 수도 있음\n"
      ],
      "metadata": {
        "id": "56K9qG30Uevd"
      }
    },
    {
      "cell_type": "code",
      "source": [
        "from keras.datasets import imdb\n",
        "\n",
        "# 단어 인덱스 사전 로드 (단어 → 인덱스)\n",
        "word_index = imdb.get_word_index()\n",
        "\n",
        "# 인덱스 기준으로 정렬: [(단어, 인덱스), ...]\n",
        "sorted_words = sorted(word_index.items(), key=lambda x: x[1])\n",
        "\n",
        "# 상위 10개만 출력\n",
        "print(\"인덱스가 낮은 단어 10개:\")\n",
        "for word, idx in sorted_words[:10]:\n",
        "    print(f\"{word} : {idx}\")"
      ],
      "metadata": {
        "colab": {
          "base_uri": "https://localhost:8080/"
        },
        "id": "O61zOpDAtG3G",
        "outputId": "25034377-7e99-4ac5-deef-c2f24e8500bc"
      },
      "execution_count": 8,
      "outputs": [
        {
          "output_type": "stream",
          "name": "stdout",
          "text": [
            "인덱스가 낮은 단어 10개:\n",
            "the : 1\n",
            "and : 2\n",
            "a : 3\n",
            "of : 4\n",
            "to : 5\n",
            "is : 6\n",
            "br : 7\n",
            "in : 8\n",
            "it : 9\n",
            "i : 10\n"
          ]
        }
      ]
    },
    {
      "cell_type": "code",
      "source": [
        "import numpy as np\n",
        "# Keras에서 IMDB 리뷰 데이터셋 모듈 가져오기\n",
        "from keras.datasets import imdb\n",
        "\n",
        "# IMDB 데이터셋의 단어 인덱스 사전 로딩 (단어 → 정수 인덱스)\n",
        "word_index = imdb.get_word_index()\n",
        "# 전체 고유 단어 수 출력 (예: 약 88,000 단어)\n",
        "print(f'출현 단어 종류: {len(word_index)}')\n",
        "\n",
        "# IMDB 데이터셋 로딩 (단어가 이미 인덱스 리스트로 변환된 상태임)\n",
        "(x_train, y_train), (x_test, y_test) = imdb.load_data()\n",
        "# 각 훈련 데이터(리뷰)의 단어 수를 리스트로 저장\n",
        "lengths = [len(x) for x in x_train]\n",
        "\n",
        "# 리뷰 하나당 단어 수의 최소값과 최대값 출력\n",
        "print(f'리뷰당 단어수 최소: {np.min(lengths)}, 최대: {np.max(lengths)}')\n",
        "# 리뷰 단어 수의 평균(mean)과 중앙값(median) 출력\n",
        "print(f'리뷰당 단어수 평균: {np.mean(lengths):.2f}, 중간: {np.median(lengths)}')\n",
        "# 사분위수(0%, 25%, 50%, 75%, 90%, 95%) 출력 → 데이터 분포 요약\n",
        "print(f'리뷰당 단어 사분위 수: {np.percentile(lengths, [0, 25, 50, 75, 90, 95])}')"
      ],
      "metadata": {
        "colab": {
          "base_uri": "https://localhost:8080/"
        },
        "id": "stc74o5BuR1q",
        "outputId": "bf693bf8-0d18-4f06-fafc-e5b2c1f1355c"
      },
      "execution_count": 9,
      "outputs": [
        {
          "output_type": "stream",
          "name": "stdout",
          "text": [
            "출현 단어 종류: 88584\n",
            "리뷰당 단어수 최소: 11, 최대: 2494\n",
            "리뷰당 단어수 평균: 238.71, 중간: 178.0\n",
            "리뷰당 단어 사분위 수: [ 11. 130. 178. 291. 467. 610.]\n"
          ]
        }
      ]
    },
    {
      "cell_type": "markdown",
      "source": [
        "### 워드 인덱스(단어 → 인덱스)에서 새로운 단어 사전(인덱스 → 단어) 생성\n",
        "- IMDB 데이터셋에서 정수 인덱스를 단어로 복원할 수 있도록 \"역방향 사전(reverse dictionary)“ 생성\n",
        "  - 원래 IMDB 단어 인덱스는 0~3번이 비어 있음 → 특수 토큰용\n",
        "  - 모든 단어 인덱스를 3만큼 밀어서 충돌을 방지\n",
        "  - 단어 → 인덱스 사전을 인덱스 → 단어 사전으로 뒤집어 reverse_word_index에 저장\n"
      ],
      "metadata": {
        "id": "9mkAs5m8WbgM"
      }
    },
    {
      "cell_type": "code",
      "source": [
        "from keras.datasets import imdb\n",
        "\n",
        "# 1. 단어 인덱스 사전 불러오기\n",
        "word_index = imdb.get_word_index()\n",
        "# Keras 내부 offset 반영\n",
        "# {단어: 인덱스, ...} -> {인덱스+3: 단어}로 변환\n",
        "reverse_word_index = {v + 3: k for k, v in word_index.items()}\n",
        "reverse_word_index[0] = \"<PAD>\"\n",
        "reverse_word_index[1] = \"<START>\"\n",
        "reverse_word_index[2] = \"<UNK>\"\n",
        "reverse_word_index[3] = \"<UNUSED>\"\n",
        "\n",
        "# 2. 데이터셋 로드 (전체 단어 포함)\n",
        "(x_train, y_train), (x_test, y_test) = imdb.load_data()\n",
        "\n",
        "# 3. 첫 번째 리뷰 선택\n",
        "sample = x_train[0]\n",
        "print(f'첫 리뷰의 단어 수: {len(sample)}')\n",
        "print(f'첫 리뷰 앞 10개:\\n {sample[:10]}')\n",
        "print(f'첫 리뷰 뒤 10개:\\n {sample[-10:]}')\n",
        "\n",
        "# 4. 워드 인덱스와 해당 단어 함께 출력\n",
        "print(\"첫 번째 리뷰: 워드 인덱스와 단어 매핑\\n\")\n",
        "for idx in sample[:10]:\n",
        "    # 모르는 인덱스는 ?로 표시\n",
        "    word = reverse_word_index.get(idx, \"?\")\n",
        "    print(f\"{idx:<6} → {word}\")"
      ],
      "metadata": {
        "colab": {
          "base_uri": "https://localhost:8080/"
        },
        "id": "CQqqqUFx1XL4",
        "outputId": "73ba2356-cbd0-41d6-aa9f-029d72d2bd82"
      },
      "execution_count": 10,
      "outputs": [
        {
          "output_type": "stream",
          "name": "stdout",
          "text": [
            "첫 리뷰의 단어 수: 218\n",
            "첫 리뷰 앞 10개:\n",
            " [1, 14, 22, 16, 43, 530, 973, 1622, 1385, 65]\n",
            "첫 리뷰 뒤 10개:\n",
            " [4472, 113, 103, 32, 15, 16, 5345, 19, 178, 32]\n",
            "첫 번째 리뷰: 워드 인덱스와 단어 매핑\n",
            "\n",
            "1      → <START>\n",
            "14     → this\n",
            "22     → film\n",
            "16     → was\n",
            "43     → just\n",
            "530    → brilliant\n",
            "973    → casting\n",
            "1622   → location\n",
            "1385   → scenery\n",
            "65     → story\n"
          ]
        }
      ]
    },
    {
      "cell_type": "markdown",
      "source": [
        "### 자연어 처리 주요 하이퍼파라미터를 변수에 설정\n",
        "- vocab_size: 중요한(자주 등장하는) 단어 몇 개를 유지\n",
        "\t- 전체 단어 중 출현 빈도 상위 10,000개 단어만 사용\n",
        "\t- 나머지 단어는 <UNK>(인덱스 2, <unk>)로 처리\n",
        "- max_len: 리뷰 당 길이를 제한, 패딩 또는 자름\n",
        "\t- 모든 리뷰의 길이를 500으로 고정→ 짧으면 기본적으로 앞부터 0으로 채우고, 길면 자름\n",
        "\t- 한 영화평 리뷰의 단어 수 평균: 약 238개 정도, 90% 467, 95% 610\n",
        "\n",
        "\n"
      ],
      "metadata": {
        "id": "xaLrVmeqYT0p"
      }
    },
    {
      "cell_type": "code",
      "source": [
        "from keras.datasets import imdb\n",
        "from keras.preprocessing.sequence import pad_sequences\n",
        "\n",
        "# 3. 데이터 로딩 및 전처리\n",
        "# 등장 빈도 순으로 상위 10,000개 단어만 사용 (나머지는 <UNK> 처리됨)\n",
        "vocab_size = 10000  # 빈도 상위 10,000개의 단어만 사용, 총 단어 88584\n",
        "max_len = 500       # 모든 리뷰를 길이 500으로 패딩 또는 자름\n",
        "\n",
        "# IMDB 데이터셋 로딩 (이미 토큰화 되어 있음)\n",
        "(x_train, y_train), (x_test, y_test) = imdb.load_data(num_words=vocab_size)\n",
        "\n",
        "print(x_train.shape, x_test.shape)\n",
        "print(f'첫 리뷰의 단어 수: {len(x_train[0])}')"
      ],
      "metadata": {
        "id": "fnIqifzBfnwU",
        "colab": {
          "base_uri": "https://localhost:8080/"
        },
        "outputId": "24b96054-e638-41cf-d15d-16a54e7aada9"
      },
      "execution_count": 11,
      "outputs": [
        {
          "output_type": "stream",
          "name": "stdout",
          "text": [
            "(25000,) (25000,)\n",
            "첫 리뷰의 단어 수: 218\n"
          ]
        }
      ]
    },
    {
      "cell_type": "code",
      "source": [
        "# 리뷰 길이 맞추기 (길이 부족한 건 0으로 채움)\n",
        "# 길이가 길면 기본값(truncating='pre')은 앞을 자름\n",
        "x_train = pad_sequences(x_train, maxlen=max_len)\n",
        "x_test = pad_sequences(x_test, maxlen=max_len)\n",
        "print('패딩 후 2차원 모양: ', x_train.shape, x_test.shape)\n",
        "print(f'첫 리뷰의 패딩된 첫 10개 단어: {x_train[0][:10]}')\n",
        "print(f'첫 리뷰의 패딩된 마지막 10개 단어: {x_train[0][-10:]}')"
      ],
      "metadata": {
        "colab": {
          "base_uri": "https://localhost:8080/"
        },
        "id": "zmT0T2bioKxj",
        "outputId": "53736f20-4744-478b-e6c7-bdade8bd6f1c"
      },
      "execution_count": 12,
      "outputs": [
        {
          "output_type": "stream",
          "name": "stdout",
          "text": [
            "패딩 후 2차원 모양:  (25000, 500) (25000, 500)\n",
            "첫 리뷰의 패딩된 첫 10개 단어: [0 0 0 0 0 0 0 0 0 0]\n",
            "첫 리뷰의 패딩된 마지막 10개 단어: [4472  113  103   32   15   16 5345   19  178   32]\n"
          ]
        }
      ]
    },
    {
      "cell_type": "markdown",
      "source": [
        "## 텍스트 데이터 분석: 단어 임베딩"
      ],
      "metadata": {
        "id": "Xs4b1DFkFAI5"
      }
    },
    {
      "cell_type": "code",
      "source": [
        "!pip show gensim"
      ],
      "metadata": {
        "colab": {
          "base_uri": "https://localhost:8080/"
        },
        "id": "HEWJ8qrRFJ3J",
        "outputId": "5c44a747-6f6b-47fa-f5d0-e649bfdd4d80"
      },
      "execution_count": 13,
      "outputs": [
        {
          "output_type": "stream",
          "name": "stdout",
          "text": [
            "\u001b[33mWARNING: Package(s) not found: gensim\u001b[0m\u001b[33m\n",
            "\u001b[0m"
          ]
        }
      ]
    },
    {
      "cell_type": "markdown",
      "source": [
        "### 다음 라이브러리 gensim 설치 시\n",
        "- 마지막에 표시되는 다음 대화상자에서 \"세션 다시 시작\" 클릭\n",
        "\n",
        " ![image.png](data:image/png;base64,iVBORw0KGgoAAAANSUhEUgAAApUAAAE7CAIAAAADze3zAAAQAElEQVR4AezdB4DVxfEHcIoFOyJgb38bdmPsLdhiw44aey8oamzYe4lYE0UUTYwNe6/YsPfeexc7gih24P+BNb/88t7du3fvuHv3vLmMy/52Z2dnv1tmdvYgHS6b8PPwww9//vnnY8aMGRc/gUAgEAgEAoFAINDKEGCgmWnGeoLRvmzw4MEd2rVrt+SSS6644ordu3fv0GH8p5KgQCAQCAQCgUAgEGg9CDDQzDRjzWTTinfRYa655lpwwQV9VIei10AgEAgEAoFAIBAoGwEmm+HG3mG++ebzR1AgEAgEAoFAIBAI1AQCyXB36Nq1a02o20xKhthAIBAIBAKBQKC2EEiGW0Q93rxra+JC20AgEAgEAoE2jQDLbfxhvIFQRYquA4FAIBAIBAKBRiMwduzYsN+NRi0aBAKBQCAQCAQCVUcg7HfVp6CqCkTngUAgEAgEArWJQNjv2py30DoQCAQCgUCgbSMQ9rttz3+1Rx/9BwKBQCAQCFSAwPh/v6WCZtEkEAgEAoFAIBAIBKqLQNy/q4t/9F5dBKL3QCAQCARqEoH4/fOanLZQOhAIBAKBQCAQiPt3rIFAoHoIRM+BQCAQCFSKQNjvSpGLdoFAIBAIBAKBQPUQCPtdPeyj50Cg2ghE/4FAIFC7CIT9rt25C80DgUAgEAgE2igC8ffH2ujEx7ADgdaBQGgRCAQCFSIQv39eIXDRLBAIBAKBQCAQqC4CET+vLv7ReyAQCFQPgeg5EKhlBMJ+1/Lshe6BQCAQCAQCbRWBsN9tdeZj3IFAIFBtBKL/QKBiBOL9u2LoomEgEAgEAoFAIFBNBOL+XU30o+9AIBAIBKqHQPRc2wiE/a7t+QvtA4FAIBAIBNogAvH3v9vgpMeQA4FAIBBoHQiEFk1DIO7fTcMvWgcCgUAgEAgEAi2OQPz+WotDHh0GAoFAIBAItA4Eal2L6t+/f/zxx/vvv//2229/++23ofnwww8vv/zya6+99uuvv+6zMjr++OMJ6du37/fff1+ZhOJWw4cP32yzzYglvLi2USUkkEMamY1q2CBzQo9wmQaZ62QAO/BJGDx4cJ0MURgIBAKBQCDQGhCovv0eNWrUYYcdtueee959990QYc4//fTTDz744JdffvFZJ7H3hx566LHHHvvxxx/XyTBy5EhCvvzySy/8dTJUUDhmzJhhw4YRS3gFzfNNSCCHNDLz5U3PJ/QIl8mkAWHEiBFfNPQzevRoTcAOfBLMi8+gQCAQCAQCgeZBoKlSW85+uwq7ELvYuX02UevXXnvtiiuuuPLKK5mlJoriAfADeAP1EV+hsV24VbtbT5SRFncNPZLJ10txbZ0lkN9jjz2WaejnkksuqbN5FAYCgUAgEAi0QgRazn67BboQu9i5fU50IFwW+/fvn9ngJ554oswueAD8AN5AfcRXKFNUxuZW7W7dTCOFHsnk6yXrsXSmffv23bp1m/k/P927d0/8k0wyyX/Kxv857bTTpvJIA4FAIBAIBFo5AkxqU+13KxmhcPFNN92U2WC36sYqtuiii25Z18+CCy7YWFGtjX/KKaccMGDAY//5ufXWW2eZZRZKbrjhhv8pG//n1ltvrTAoEAgEAoFAoPUjUKv2+/PPPwcu7ceOHSuDOnXqxBpl9ne22WZT2Chad911/1bXT8+ePRslp/Uzi1WIqNPzs88+Sxn5oEAgEAgEAoHaQqD27t8//fTTBx98AGV37vfee08Gif0efPDBmf1ddtllFQbViYAXAUF4Va+88sonn3wiUyd5j5hrws8BBxxQJ0MUBgKBQCAQCFQLATfYlrPfv/766w8//ND0ob7//vvPPPNMknP77bcTm/KtJxUe8KxOH7qBWGZi0ejRo9PTgMBD+e/f+d45PTfeeGMqYcU9OkxcDZPkSAOBQCAQCASaG4GWs99CtV988YXxsEDs0MMT/p738ssv36tXrxK3QPx5Ymw834oAp8L77rvv2WeflSd5hRVWmHBdHJ9cd911CluC6upj+PDhyVN57733MlXrYmx0GbGffvqpZl999RUYZRpL99xzz9ChQ9u3b9+jRw9t//nPf2bOkM887b333k9O+Dn66KPz5ZEPBAKBQCAQaA0ItJz9ZmJd+IyZ4fn2229dBJkipFxhmfTCCy8wOZj79u0rSP7LL78Imw8bNkxJixHnYLyPMNdcCy644EsvvVTc71NPPZUK33rrrQ8//DDlJ0rKIUi+jpv9008/3ViZfKbDDjuMD7Taaqude+6588wzD4dgp512evDBBxUWSJtyyim7T/jxNlFQFZ+BQCAQCAQC1UXAod1y9ttrK5ttwCzQ22+/vcgiiwyc8OPRukwL8eqrr/bp04fJYXi23nprJrxDhw5M2n777edC+eijjwqtJ9p00011VBX6+uuv77rrrtQ1Ve+9996UnyjpbbfdxnInUXfeeee3336b8g2mkGewt9tuO/EAaO+///5zzz33GWecIa9E+UEHHfTRRx81KCcYAoFAIBAIBFoJAi1kv9mPIUOGGDNDy2tg4WacccZ1J/ysvvrqU089taoS5K3XSy2r7L7OZh944IEzzzzzSiut1K9fP61EeVdddVXPupltU9h8RGs9ooceesgVvKCjRx55xLV70kknXXrppVXRis4yTSf2NWFIMvlCEfoqRyzPxuNC//79vZp36dLloosuWnjhhTVcfPHF5ZXIX3vttcccc4xpkg8KBAKBQCAQaP0ItJD9fvHFFx977LEppphizz33BIo3bEZOphxyQdxiiy323Xdf11nG+6yzzlp77bU15Arssssu6bejv/vuu+OOO658mZpXTEYxIa7cvWvXrpNMMklezogRI1J437v+EUcc4XYrHjBgwICmOxacnquvvvqzzz4jk2TylZx66qnlOAeLLrrovPPOS8+VV17ZDX7JJZeUTyQveL7DDjt069bNpbxTp06pvOw0GAOBQCAQCASqg0BL2G+v3f/4xz+8Vbs4/uUvfxH9FmRWUqZVY7EYb5ZbwxtuuKFXr14sd0KL+RRFv/zyy+ebb74jjzyy+Dac2FomNZxTTjnFtZh6W2211WKLLda7d29dX3HFFe7NzK18xUTCOeeco/k666zj9rzrrrsC5J133vn73//e4KV5mmmmcfm+++67L7nkEnELQvIk+OHm/fjjjy+00EL58sgHAoFAIBAItGYEmt1+s1uDBw8W6U1WbfbZZ99pp50g4iJ4/vnnC4zLN0hC5a7vou5CvgXMxAoOM04bb7xxQVXTP5nkr7766umnn06/eVdCoIEYDlONZ7XVVuvZsyfFdt55Z8/Motb77LOP2zMetRXQM888c/DBB5Mj1k0mr8X9W0yCqKuuukqV8IN8CaIGF4dK9fF07Ngx1bqsv/baa8IGffr0qY+5FZWHKoFAIBAItEkE2Nbmtd/sn3v2ySefDF7PxmussYbMBhtssOKKK8q4rQp6N3h9xMm0eC9nYzDfP+H/bPT5559XPhHp7LPPZhQzEliea665hJ2XWmop1+jS3TGfRx99tOHQh6U0qBSInnXWWd2PxQ+YXlbW20E54W5CMmLyPfxvs802HhFcuE888cT5559fLRN+2GGHJRgxrLfeeh65TaeqEnTuuecaVJmEuYSoqAoEAoFAIBCoLgLNa7+vvPJKBswIWTX2htWRF85l6pTIs8qTTTaZTJnEjJHDEF566aVlNimT7fvvv2dcMxLhzxpOOeWU+s0+CzJe5V1VL7vsMuVMtfEy2/KJBAzOO+8892afb775JkMuUz4ZprcDXWjSr1+/9PAvj8Cor2TCP/roo2+++YaXozyoJRGIvgKBQCAQqBYCzWu/vXZvueWW3q0vuOCCvFWTF09mkLbddlvXyok+eLfhJ598kuFkeksLn3766Sm5++67u39P+OtsvyX//Oc/xfwFrr0xv/rqq2IG9cmZYoopDjzwQJbbMK+//noGu4BTeN9jwfrrr+8KbuAFtaU/N910Uxaa33P66adTssBCd+vW7V//+tchhxyyww47rLnmmqVFqd1uu+3AUpq8kafgAf6gQCAQCAQCgVaLQPPab4bn+OOPv/POOwWiCyBge1yjXSILyifKJ2vavXt3trnA4BULn2222Rj7Qw89lH0V4c9IqJ+tnWGGGQTti1sVlLDZd9xxByNdPMzEOfPMM/MP8rfnVN5gCp9zzjnniSeeYMjrHAtbu8ceexx11FGgblDaVFNNBZbSVA5oDXYUDC2FQPQTCAQCbRQBD6bNa7/hyq4gmd83MfZMaXOMsXPnztyI5pAcMgOBQCAQCARqF4Fmt9/NBI0rqUtzg3T//fc3kwIhNhAIBNoFBIFAIFA9BGrVfn/88cdXlPHz2muvVQ/b6DkQCAQCgUAgEGgWBFoift6g4p5jH53wT5f3KeMvHItRb7jhhluW/VPdf9GlwbEHQyAQCDQFgWgbCLRlBFrd/XuNNdZ4//333ZsXXXTR4omZdtppDz744L+V/dOzZ89iIZWVZH7G6aefXpmErBUJxshrITMrnCiZhB7hMpUJBDvwSSjHnaqsi2gVCAQCgUAg0HQEWp39bvqQQkIgEAgEAi2CQHQSCFQTgbDf1UQ/+g4EAoFAIBAIBCpDIOx3ZbhFq0AgEAgEqo1A9N+2EQj73bbnP0YfCAQCgUAgUJsIhP2uzXkLrQOBQCAQqDYC0X91EQj7XV38o/dAIBAIBAKBQKASBMJ+V4JatAkEAoFAIBCoNgJtvf+w3219BcT4A4FAIBAIBGoOgVbx76/VHGqhcCAQCAQCgUAg0K7aEMT9u9ozEP0HAoFAIBAIBAKNRyDsd+MxixaBQCAQCAQCgUC1EQj7Xe0ZiP4DgUAgEAgEAoHGIxD2u/GYRYtAIBAIBAKBQKDaCFTbfld7/NF/IBAIBAKBQCBQiwiE/a7FWQudA4FAIBAIBNo6Am3dfrf1+Y/xBwKBQCAQCNQmAmG/a3PeQutAIBAIBAKBto1A2O/qzn/0HggEAoFAIBAIVIJA2O9KUIs2gUAgEAgEAoFAdREI+11d/Kvde/QfCAQCgUAgUJsIhP2uzXkLrQOBQCAQCATaNgJhv9v2/Fd79NF/IBAIBAKBQGUIhP2uDLdoFQgEAoFAIBAIVBOBsN/VRD/6rjYC0X8gEAgEArWKQNjvWp250DsQCAQCgUCgLSMQ9rstz36MvdoIRP+BQCAQCFSKQNjvSpGLdoFAIBAIBAKBQPUQCPtdPeyj50Cg2ghE/4FAIFC7CIT9rvLc/fTTT4MGDbr//vsnih7jxo2744471llnneWXX/76668vLfPVV1/t37//qFGjsOXzPptO77333sCBA7/99tumi2oBCR9//DEopC3QV3RRJwLNvWAq22jNrVWdUDRToUPGIk/7Pd/Fr7/+esUVVzzyyCP5wsrypY+RL7/88pxzzvn0008rE94crVqhSo0aZjPab/N03HHHWTR5hUzwoYceKs0X3nLLLfmFZT39LnBKbAAAEABJREFU+9//Pvnkk0eMGJFns/KwaZ7oiCOOuO666/SS8Th/jz322Msvv5wZywpldKdcrXwSkml11VVXHXPMMR988IGqjNJWV5WVyJD5/PPP9+3bl2lcZZVVDjjgAJ8KVZUmfSWFi1NVBjt06NDXXnuttJAyax9++OG999576qmnXnnllTt27Fi61SeffHLTTTf9+OOP2PJ5n02nAQMGnHLKKU888UTTRbWABCvtxhtvlLZAX9FFDoH/Zpt7wVS20Zpbq/+Ov/lzDplsv+d7U+6gPuuss0aPHp0vryBf+hi59tprTz31VButAsnN1KQVqtSokTaj/Z588skfeuihG264IW/kbrvtNr6eNNOSsXRTfP311/Gnwvfff/8f//iHW+mLL76YSlLK0lh/iNlDt99+OyPKml5wwQWpC+fvlVdeefzxx7/wwgupSUqtKuVqfSYhlqw8evLJJy+66KKzzz7b9vaZSJ5NVZU+pd9///1BBx200UYbPfXUUyussMJiiy129913++RDYMZQgoYNG0ZbdN999/EJrrnmGvlEqko0rKDq8ccfn3POOc8991y2c8MNN6xAwsRqwtE58sgjYTWxBIac3zcCrXPBtCqtnGz0cRZN3JWw4IILst/Ot6mmmqpRkocPH77ZZpsNHjy4zFa9e/c+/PDDpWXyNwdbAYaUqbpKTRlmM9rv6aeffvHFFxeAcuVNKvLvnn76aXmpvAz6+uuvWdOFFloos98iOR06dPi///s/9/JkmLFl5H752ISfZ599ltXfYostzjjjjJdffjkxTDbZZO3btz/99NMz+am8RDrFFFPwJxjX+njocNppp3Ey3P4fffRRwnnlzz333FFHHcUeo/oapvKtt956gr6P3XvvvUsvvTSzmj6lqhLPxEo/++yzrl27GtHEElixnLnnnnvnnXeecsopK5YQDdsUAtVZMA1B3Kq0GjlypHiv46ghrRtXP8kkkzDDSy21VOOatWs3ZswYN5DseG+webdu3XbddVdpg5zNx1CAIWWqrlJTBtuM9psdXWmlld555x3X36SiWPdbb73FgEnlUyGGr776yjU6fbofs3O9evXaaaedRINT0DtVFaedOnXaa6+9hIuzOC2D0a9fP6a9/CjN6quvvt566wnscCeLu1DCORAzOPDAAzfffPMsKC2z3XbbeWkeMmTId999h+2LL77giFjT8hWQe7wbv6CCVD4vwY7lBqlCb7/9dp1daALGH3744eeff7bJjSWxaQvDu+66S9uXXnopFeaF15f3dC18opU0c/lHjx6dSdZwzJgxPvMbOGMQVlGFAVvK0zCN4p577kmxEFWJsNEt6yvxK0y1WWosGuqCKChl/BmDDJ7Ui1oyC4SUrtU8ETYdZfobPhAILNYcP07lavWrO580VJ5ICTXUmgITQXIql2aj0NzcKSkgOCjHlsq1JRzJpJICBlVE6UsYRlXikZogZGcZhcCPjEJUH7+qjPQOB2nGbDgGlTGQjMjMC6chNGiCshWrFVGYs7Yy9ExjlFGLR2GiOlegKpypiXyigpJsvqhESOLJUl3oqECNVJifuMRPMma1PlMeFGloVqC8ckeZyUVOAJ/I8MFFGgZsQKAJrVTliW7Ki2u10qlUJFItAOUNOdvdhOuCKGlSJrElPZUn0qpE74lHSgiBtM3naZt0K5huPInwU1KPOA3cZypPaYaJTCqR0kcTqTySSepZtEanpJjwpCYZFHpUku8uX5KNhVYF+hOllwIMFZIm1bU05elsNjUnRDlwaAhhOvjMU1ZVsOMA0hRbkO+idL4Z7beO55lnnrFjx77xxhvyiCF0P+brMX7ySpD14cqIUx4x7aLfbOqyyy7rUHjmmWcUliAmfNJJJ/3ll18Sj/lbYokl2H4R+GK4E09BShlOAL9MIF3zglqfLHSXLl022WQTHonPjPitZ5555qWXXsqBMNP77bcfc27WM4byMx9++OG666671VZbJS9h++23t7dTc5KFtlZdddX0fL7GGmsYXVabeKSWizdvi0xgoGfPnuuvv761mNryovbcc0/NFQLf6sRfgoBw3XXX/eEPf9h22209EEiXWWYZ574mr776Kk24R/LIJ+H77ruvo80n4gbpy8TBQXd0UCjPQ6LAaqutRuAuu+wiru4lQhXibfCEMBv77rvvTqCnOJ+pLYaMDGePPfb429/+Zi7+8pe/EEU3S4UaiQdDHitCQCrAU1CrI6S2TiTT8GkoQCIOJOJCJTNy7LHH7rbbbn/84x9FYpLAxCmmYkSUMTprYMcdd7zkkksSQzY0tX/961/JkXFMqHVxMeM8wmOOOcagIHzxxRcTqCqjzz//3Iq69dZbU4lPfq0mTo1UYpp4w04lDeVpQhSBwOEQZ89PNO/Tp8+mm24KrsMOO4zpKs2fhKfUutKpGQHIPvvsk3ATA8tWYLHwglnIVqxODV8E2PJIwqUXXnihEJrdZ5GYkTTpOA2nzhWoCU5LnWLyifIlRg3nNF9SwHoLS2wpJRxEllw2BOWuCg4ce0c+TyRnWsmvvfbapvjPf/6zxWwiLPXzzjuPMmKwkDdSZ5fmEPBZYqHSIQ3QjMBESs+0xTQ3NJjrwkbWhac6JXrJdjfhukD51a73/Hq2zW0TSpJjTdomedj1khE5BKZFm/Iii8ZoM6bp1ktxW/wWpzXp8ZHyPpNABz5MrBat7JcVV1zxjjvuSFVGYVxSn+Wsf2yYNTGEDAorxIxk3eHJl5TQn6hiDBWSLyVHKn/wwQc74g455BCT4rQUXjUEd0KL3wbPxpJmsM4dRweLBDgWDLHNSs1rv+eYY4755pvv+eefNwbH1p133mlPokUWWcSGAYFC+80DDAOJB7l8M+cLL7zwXHPN5Qzy2p3ZBrXFxIPj7Cy66KKp6ptvvnGc7bDDDp07d77gggvIT+UlUjHn7t27M0LWRGYJMn69K5x//vk9B2SFWYYJT3l+iZOd6+D5OZU0KnW/95rO0XnllVcE51mOZCRAxKvgDNINjEjGKXP++eeryncBQ8uFSQCvg8DTA0g9hJPj8CXZycIRAY7zong35kWxrJavzW/gTDVPy+bff//933zzTW7WjDPO6Pkj8fO9eE6E28ZKgI9fIG6qooc0ILt90hwD9WaaaSbbnhomyNsEOcZl7DL2D7VJq48uv/xyGyzpBqjZZ5+dabSH8Rv1zTffbN4Bhci0J6WqwAVJDyVqdYSU04cHpgpDRlDycu+djM/BrngaBCm1xXisVWfHKaec8tFHH+GHDDCxyWBg6Q1Tv6qQofXv3x8ngWoNzafjgJJqqWH4Xm0s4Ndff90Ja04TjGoTgTrbKUrcw1huMApZ+STfjC+22GL2i8l15nJDaUIgWOadd16jwI8TPfLII/YU0B588MEZZpihQX5NMmLvL7vsskGDBgENwc3mzeOWF27VwbnOFctRtj5hmP26qFuUxeB8pFLWnUyJFai2BNmtFLNKAW6+oOEMobmOslb27AYbbGAgYE+FFoBJAbX3vlRSX8ohE+EzlWbZuk3DZFYpDFhnjsWZtZWvb6Hir2+LpeYWntPymmuuMde8w4LdzUB6I6sPZ8OxtKxMQqw9c22H2iN2XBLeYHrDDTdQD0RGynSJZQKzoBUHiDGzRDlzlpzPxGALWNVIv1DiFQHKsZNqs7Sc9Z+YjSIPRSosndapfzGGprJAjr5Ei12mrR/T58Tj6lk/Pp0VTjYbgXnWyujq23FNtAWEl0/Na7+nm266JZdc0jqwf0yhrcsDcrjz14zf4QIvtT7T4zcDwFnG40iyzdZaay3374JrtN3CHUvk6YJbxEtabrnl8mN2HCi3+h1k+fISeVt6gQUW8JRu6efZnJImzKmUNFSlxFg4DYnkldCWhbPQPZjhaSytssoqfGcHnCs+L8+hAytCHOiDBw9WhUEVAg5Lb1tCD0NGFACaXW31eNSBAMUYb2c6k0Myzh49erh+MTO2pc86yea/+uqrF1poIQin9S26YDNPO+20fClOjDPOdnVQGjX74YqDwQFBmigCt5qnLF9A1IOPA045z6x3796sEcNgt5jxAw44IA2Qnm4M22yzDbb6iMVyoom7YJh55pkPPPBA/dpgPvkZPCGHJqAQrOSdlWYwIamha4oqpNYLvZn14qBtIkeS84iqbqt4pplmGtb6xBNPTJobqbmgtlMVv1mYZZZZmEnlPinD6gNKHnEdSHMLAbtPQ3NXdi/hYUBPHI/wJBY4TknM3BqcGVlytkbaKQotZmvDgZj8J/NrkdgjJDtWOMpGl8Fi3u0spCFi0nRhQvXVoUOHBvk1yciNyumcJggmcDPpjlSQJp68cFqVWLEcXBo6H1NDy4aJddUjNpVIS69ADCVIKNVsWqVpRoyX0XLFd+bkW3HIXC3YbH0p5xLxSDbeeGMz4rMEUV5ER0phbof50opzr8lss83mNuawctb5RPUtVJ2W2GIaJrIpCDS54otmLb+7DdDhUwJnUUwg59ee9czRTJJzad1Zi0qkwRj1boCuNzy/AlaQOmQwABmDz8SgFZtnj/u0vF3iWXTBAJ95Kmf9Z/x5KLLCEpk69S/GkKrFQqxtait30FmuTjOnsU9rw2HitcJrqRkssYN05ACp2Bboq3xqXvtNDxBYTObPeW3k6aLMkXFhcjVx3DPhqRAzu2KhOGHlkRutxWEhymfk6OSzOz6c1Bz5f/7znyeccALIMoaUsf7WXHNNrl+BnUu1xanpYQncJByjxbX5EueyI8zBmkheSZ6hgjwEHAqpoSE7F1LeEQkoTgxrmogB5gk6I5jPxFNfqq0IoeM+v0wtSk4Vk1BfK6YOqg44Z0TGQx8NedN2neCkM5dwJ7U5tVWcUwy5NW1qmEOnedYwyzh9HHDZJxOS8uQ4cy2S9CmlLSMnUx85N01WVuui6QrOU1aiF6IsKhcjT1YODoWAopuOCtDQkaCLcC4ziQ25Qrn9/+lPf7KH1SqxroxOdxYhxxFuECCNTPTuu+8ussgiTjGciYyRF5jy1AAmI5EmTirUrIlCbUXqLBuumBcHwpVkhj81T6mdQnPAmnFm29YwoQw5L9P2oQkFCDRlpuOkk07SSyKHO2CxJTnYMj3L4U+tUmpBwjzlpZChAzAp5hPlhSsssWLhw1qLsSXFAM7tsLQIySipV98KVJtxFmeo6oov4Mwdd0k1X2YwMy0Zv3XCqbXZqarQ/pLyjaSlyfLmpSUepssyTo5CKilIgWblZIXZQjUE81V6gDaplZy1Lc6UxtmCAUUeWDgkO1QsqrjEhOJP5WmYKV9OCtv8Hcaqq3Nhl7n+9dggFHgKqGL9We5ZZ501k2Z+wZhBkZWnGSy94zLmZs00u/0GJRS4LQ6dOeeck9trPI548+pygCxxK1uhw8ix6yDjvFhqyMWamykY4rDAkMj1iCiXSJctJdaoFSZTQEB3OjvjmHmSC2rr/OTtcq7F37TKGGx+h44bngM0FfzOy4wAABAASURBVLK1Tl6ONuI9pMImpvWdAuJ17mpu1Xn5IHWTy+x9viqf11Zw2+rPF8LKdCjPF+bzhsnwCIvlCx3Z8DQ1kBRQcSEAiMuTjLlj0c2IZ2aXGNORN/yZEJ3qOvvMMiIuLKLarERGX9L6qAAr1tepSh/83ERrhgEWPOToWEJiBspRnWgoz4gfyZQ6eh544IEsWmi8l156qUG5drtbb7nllp6WKayVeTFkqgLHZ0bZWKx5tQVzx9tjJ5TL8EGtJeuTTMFtN0UIZ3JSxt3OVYYH7I7ovDD1LDq3ySdzznFhTtKUFcBufxErPJDk6DHTsxz+1CqlIjoFi82i4hxknnFeOJwhUzBqaqcVSwfbllk1IpuaI+5+4wRIHaU0qVdiBSa2+lJb2CMFK+IVRqeA9dJsHgv4qcG9s255EsJU9j4kC3ia+FnfQi1ngIDKFlKdapTG2UawNwtmzS25TlHFhaW7LubPlxT3m6/N8r+t/0UXLb3+8TcIBZ4Caor+BaLq/EwzWHrH1dlwohc2u/22K1hr9zPHjaPfzjcGI3cm8r4dlO43NptCvjCP2Ilma9nVSLzCNHumstsx5MnSZObtQHu1eHMmTmefADsTy9KkktKphYLf3P/rX//Ky6SDq2exEDyGUFpmE2udYrxX0cu//e+Pa6Ly0sK1NRao5tmcVoy3SckX5vP8FVaBa5IvZFe4nMwkY0msK6aDzxOXMLupdDpb0MLUzmW2HIz5tqXzpFHSPObZiqc7X+vmkf9kTZ1WjJzpOP300xk5ionwI3aOm5+YU0cFaKSqlFLD7AuLMf9Z2EakwaWWIygyZMiCQyKf1p4mgOLYsaPG7jMRm6Qk5d0s8XA3/3fq/iaiCEY8GAYMGCDyTyw2jqOLuPI82S92je2jyjYxcXYTsXaTAbLl8siUCVYVdOTTBOWlpXxj+U09Nyu1TWmCkYuQPvMpnK3MEivWBmdIuHr2NUfZZs83l0/qlViBeEqQ5Scw5pHeahSpEjTmeLmPFjQBPsRcGERE3CI86PBCCnia+FnfQm3iAJNWpXE2OlOWpinxSwsgVVJdomSD67+6GtbXe5pB68cWK6A6d1x9cppe3uz221C5wLfeequjUPQvaWyPOeh53+467HfaOc5HNz8xxjwi/fv3d0wIuKWG+RRSe+yxhyiZ4y9fns+7gjjazjrrLF5hvry+vPPRYX3dddc5VTMe9tu1jG1wOmeFMl4fPXLIJHIjYUtSfmKlgjkOO6cM45RkynAvxHJ1l0rqS7V1/YI865vxsATs94ILLpiVFGTMl1pzkdkhDM44ntZyyy1nptge56O7o+lj6kwl0IDM8rFkbDn+8ondtY0vuuiiDFtrgI0sIcEQGOmMgSXziM4qMDPsgbAkmamWTCUpn9DwOJKhIeNd7fDDD5fBw+oIuroL/vWvfxWNv/LKKxU6ggHu6TcLHlCPD6QKcTGFXjMfDqf1gEEVSmpwSeUTafiPf/wDtm6oAwcOdEHURJUY3ZZbbtmtWzcmzWcBCcOyQzARTjA7HCa+r1uLIJASzApNWTEs+oIAhgJqLL8X5fwKBBcYLS2QFkj2qbD0iuUFCqFbPF4WnAxmX6s8JfWgVN8KtAjpAMzUCobZFIwaNeq4444zC6kKVp5CcOZFpSpOmFAN0PhqVi8nKZVPxJTwOhdqgwMsR4fSOFt7TjweXiYKCBlKWWG1Mo1a/wVK8rMtAE+xWbmNwIPPPhuVqYw5zWDx/GY7zuE80W1Bnao2u/3WqwNIpNHTglirz0QOelvINLhDKLEhnRE9evQo2M/cTB76kCFD8jsBP2I5tthiC0+zAwcO1FxJMdnAXrXVMlrFtXWWrLPOOu79mmS1HAh3fQbMZY4mQvrOaFNl/3tiNy6cVmSfPn2cR+5JPicWOex22GGHyy+/3FnvLNaLg5t/I3SZWZT6+tJ2zz335Iuccsop0NNW/oQTTnAjcYerr5VyPdrt++yzD3MCB+4RkwZJx65aZMr48qw1Q+LTambJ3Kicg2y5kvKJvdxrr70c1ptuuqlI9b///e/NN9+cASghgTPhiZcC7AozIE7OjaASNZgxl29Oof1jyMccc4xLWBIFDeNiBQcMGABJdP7554uua+g4SDwptTJ32WWXCy64gBV3DlqlF154IcBBMXTo0KOPPjqxSUXCWVBXZ/rceOONvAHXvvRCpBbIm2yyycknnwx24OvxnHPOSUFyEWnqCdfzEohVZVpdmOq0IqIdhiP8Yx8Ra9mvtdZaxtWxY8dsQwka05AaYCGQZ2nFSh3imhRTo/idmNkKpCoAwQhMkBZLVqgq4zdwQytYsXY0/U332muvDd5iISSUWIGAtSWhZ7BOSfL5jkkIYD0tH3XUURYG0IB88cUX26GaJIZ8KmZuzZjTjcv4zbV8wzLz9S1UzUsPEEOd5Kxjq5wwAlQ0J6Q+nI03v/bgYOPboXWKrbiQKy8mZMc5KLwWlS/HNFHJDJaz/gvEmk3HjsVj4qwui/zII4/kwxWw1feZx1Dz+tgaLC+xg4htDltQp0otYb8dQO4W7tkmO1PCQa+cF+9qq9A9yU2FGXCg+8zIaWW325NiXFlhlrGNDzrooLvvvptZzQoLMk5Yl5uCwhKfDhRnn9tYnsdBM3jwYAe9G7/bp5OUQXV1EyfMs1nQKF/S9LwQgo7OOOMMV0yIMVciBByXciRvtNFGriPMDyulLQOjIWkGUqI5o+VCLPhm1CzEuuuuywx4hjBlqZXTwayxc7yrVEI+mabPsZJKyk/5QOyBho5dvXga2HnnnUs0NwVA1pf3EUcYn4mNNGuaCE1TWCENqUQ93pjyRMZ+yCGHMD+QRCAFhTt3qs1SS44Ea5WLNueccwLttttuc60nWXCIO5g97tJ50KBBou4YlPMR2e8MJXL69eu37bbbkgB8PVoz4kkiT6rwWzwsLrGpijJ6ydTIMkYBaoAbVCokzYaysFWlElBwfTgcYCHQoPhSGSyJJ582it9esIo8VNETiWYZETDzAvP5BlcsH52nDmFQ5Btm+dIr0NB4ZiJkBstjMwVcqNTWMjBqyJhBcFkDQndKNEkM+RR6zhajE1jKl0+sfImFWnqA9SnAZjA/dscRRxzBSyuBc1pgloGZslrgwL4y4fVJrqzc444bgolwUJQ4gYuFJ/XKXP8FzZ0zdjEcdtppJ0PjpriQ+Cxgq++zAMP62Bosb3AHOaNQQ3KaWt8S9tuNxOOowwv0mb7OPieCkI5trNDxZB2458kXkNuVh0ypa9mjjz7KtckzOP0dW27GCh0u/NMsSq8E6fTEE09UrtZngRBRcWpQRlVGTAK3TlVWIrPssss6C5SLSonZeg4QmuMJujuSbKoM0CtpnUew5kgv+ioQmwoLBoUHaYJcs3bccUfui36Re5jTyqBUFZNWuiAzVdkn7AfvmMLaEuLgE61NtYCCJ0B85vM+vU24wQjbaiV1uTRByhO5Y/GZGAyjTiWuMuYoP4q8wHw+8ePMulbifLnhhhscMY888ohDRyRcYX3kwHWLpRXdTAdPnDFLzGyny25WxdcxKRkgQGPggaAhkgEseLU1g2ke5RG/UDTIdZnjAkCc+GFoATh0rCUjwoaAyeGghuHTiiZuhMoTMSd0yJqbCGEGk6JWQ3ORr9JRqlKbJyCDGuBgT+VpQwn85vktRTcS8Xyq0oe7SZnEb1WglM/SEvwZT5aBj7FDgHDD79u3LzBTLcko5VMKUsCmoeEvXrF8dCvKmWAgqYkUpPklUXoFMhhJvvEa9X777UcrSpJj1Cw6BHSt1kWfmVduU1gJFp58Ihd0QQsHC0ufSorTvFb5PE4bh8J5gXDQhY7UohILVW2JARpIfjViTiRm7t3K8uYm6qU0zhYYZzGhpIkQBdNFYWonaVlKFLXTQPL5xIBfq1SbSvKpibCqHd277bab8gKIlOTHks9Tr5z1n29CWiI4eMExuabYAG1AMYmkYYP6a5vHMC8/n9dREmVO5RPpAhQASZ/17SAb1rFT2hYkCU1PW8J+N13L1iPBnjR/fI7s/Mp0s52KC7PaJmasCf0imcaKohWFtbUiy2/LNoiZayWVL79hozjdWUVQnL/uE6mhDFvlEgnqVFKc0odWdCvmKVGV5ABQQySTShpMceKHISTzzE4QTy0OkayQrXrnnXcczVmJDNjrbF66Sm1jyQrkeeirGJY6RTWK39ghQDg06pRWUIgNM5IpqCrzM5tKcy1f0IpYwo3XKAqqfEKgRC0GxOS7PzTHb64RnojalKcJfVJJPs1q8cjnq+rLY8Ns7BmDPPlIJivMMmntaaJhVjhxMxYGz7LOWWiwo6SedUVIg8x5Bt2Z+vpGnecszoMCIHXCVcxcuiRTo2B+lTd2RKU7qq+2qfa7PrlRHgiUg4ALrlfkW265hW/LHHqik+Egu4y6vJYjoYo8YmgegMTx3IdYbrdkeW/YwglV1Cq6bhCB22+/3dOGYIyZEldrkD8YAoHWiUDY79Y5L21IKyE4z94eQcSWt9lmm3fffZc5FIgrhoDjLDpa4OoWs7VYiTiwGLuAv0jgWmutdfzxx7vMCZ25VbSYDs3dEQdrttlmkzZ3Ry0pf+zYsSKuq6yyiqfx5nATW9tCbUlso6+WRKDW7XdLYhV9NQsCDjsvlA888MD7E368s66wwgoKizvzZjZgwICtt966uKpaJZ07dz7ppJP4HHSXMuQF/2pHtRSbWP326NHjmmuukU4sga1BTq9evUTOGW/uYHPo0woXanMMM2RWHYGw31WfglAgEAgEAoFAIBBoNAJhvxsN2f80iI9AoBoIjCvvZ/frZi+PcVw1BhF9BgKBQJMQCPvdJPiicSDQahHY4/o5unafVtpqNQzFAoFAoCkIhP1uCnrVbxsaBAJ1IsBsM96zz9W1S9ep5OvkicJAIBCoaQTCftf09IXygUAdCDDYjPccc3cfO27srHN26TzDFErq4IuiQCAQqGUEwn7X8uxVX/fQoNUhkJnqsePGjBs3duy4MUnFrDx9RhoIBAK1jkDY71qfwdA/EPgfBM7b5EP01Rej2O6xY8cw4COH/6AE/Q9ffAQCgUCNIxD2u8YnsI2rH8OvHwHBczRu3Nj6WaImEAgEahiBsN81PHmheiBQAoGx4+Pn49rFXw0rgVFUBQK1jEDY71qevdC92gi05v5FzseNY71Ra1YzdAsEAoEKEQj7XSFw0SwQaCUI1PeLaeNEzse1a1+PlvW1qoc9igOBQKDVIVA1+/3999/37dt3+Qk/m2222fDhw1sdNhNboS+//PKcc8759NNPmyL4+OOPn4DZ8muvvfbrr7/eFFHRtvYRaFfKDI8zPvHz+ix4ybaaBgUCgUDrRqBq9nvcuHHs2TLLLHPkkUfutddev6f/y6b6Zvzaa6899dRTb7zxxvoYyilff/31IbbddttB75dffimnSfD8XhFgvGfoPm3XCf/ImnyeunbrPMUk0085SZdoybpAAAAQAElEQVQpJunSrev0+aqU7zr91F2nn0b+9wpOjCsQ+N0jUDX7nZDt0aPHuuuu27Nnz+b4f/FLXbSetHfv3ocffri0KSotscQSEFtppZUmm2yypsiJtrWOANM7Q7dp555nprnnmXmp5eZbctl5Fl96zkX/ONtCf5ipx+LdZ599pvH37nHtpXPOPvMii8226GKzLb7Y7EssOucfFp1ryUXnnmvW7nPP2r3b9E37B1ZrHcTQPxCoZQSqbL9rGbpG696tW7ddd91V2uiW0SAQ+F8EGO8u3aaZa54Z249/4B4nSj52/G+bj52Q+prAPcF4Y5hA+Nq3H9e+XbvxFl2m/fhM+/+bdcbu009HWrv4CQQCgVpDoBXZ73Hjxo0YMWL06NGexh966KHbb7/9pZdeGjPmt389SsYbudoM4XzJr7/+qlbqdfmuu+7SnBCcBN5zzz1Evf/++z4T/fTTT5g1T8xq33vvPb2rJf+rr74iRz4jhYk/K5HB8+STT2pLviZKMiKKQFUoPwRNyJHilKZ8pmHGSTFVo0aNwpZRKqRJVhKZtozAeZt8+PWX337w7uft2llu48b+9jP+X2vxDZn2/htP/mSwUbv2/tfut4x8+3bt2rdr/96wz78Y8Q1p7WrzJ7QOBNoyAq3IfrO4e+yxx1FHHfXnP/959913P/DAA731HnTQQT/++KMZYtJ8XnLJJfKJ8iWvvfZar169Dj744FVXXfWQQw7ZdtttN9tss6uuumrFFVfs16/fPvvss9pqq91xxx2pIeu+3nrrnXbaaWrJV6vVSSedxKa+8cYbQtMZJ3699+nThzJqfSYaNmyYIPbmm29+zDHH0Nkr/sUXX5zOTaMgk0BNEJ132mmnb7/9VsOkpDTLn3XWWSussAIFEufee++NkxxivXDL40z08MMPL7vsss8991z6jDQQYHS/+mLUe+98hp578t0Xn/7w5Wc/ee35z15/4YvXX/ziow8/b9+OhUbt3//o0xdf/PiFFz98/qUPnnvp/Wdeeu/pl995b9iXE4z3KHLaxU8gEAjUIAKtyH4n9G644QYG+JVXXnEfZXpvvPHGJ554IlWVTkeOHPnJJ588/vjjzz777OWXX/7mm2+ygoMGDfLJ7C211FKXXXYZ45qEfPbZZ0OGDHE/fuGFF9js/v37//vf/2bvF1hggcUXX1x5Zq3feuutZ555ZpNNNpl88slTW+kFF1zArt93332u4K+//vqOO+54/vnnf/7550zvRRdddNttt2EwBMTh0PuZZ56pSsM8uWFTiYbYEE5GGmfHjh032GADJSQnfm1vueWWRRZZhG6pJNJAAAJMLxM+/MtvZQroy69G/Djmmwk04ouvhhfU+vxyxKgvRoTxhmJTKNoGAtVEoNXZ77XWWmvttddu3749M7bxxht379791VdfLROh7bffvnPnzpjZuSWWWKJnz57LL7+8z2mmmcaFWEz7u+++85lo//3379Gjh7yONt10U/3efPPNPl2sH3nkkXfeeUce3XvvvTPNNFOS4zPRDz/8QGbqa5JJJuFnuLJjY8IHDx68yy67rLHGGoaAVl555Z133rlLly4///xzapulQp4u2aussgo2hJP+d955JyF/+MMf5phjDjab5cb/8ccfM+3Q0KnPoEAgQ4AlzvJFmfYTruCSopoJBSXbTuCIJBAIBFoxAq3OfrtlsogJMZa1Q4dyNWRNZ5111tRQquGUU06ZiVKSp27durHxWQk2sfQPPvjAnVikXUP3eLXffPPN0KFDxcC7du3qMyOxemHwjTba6NRTT8Xpsj7ttNOqZXoFvQW627f/7dBs3779vvvu27dv3/z1HSfSi05lEuHUUHNCdKdTboQ3ArXPPPOMlGLSoECgAIH6zPCEJdi+3fjfWStoMf6zvlbj6+K/WkEg9GzbCJRrHVsMJXa3BfqadNJJC/7Gmos+2ykIP9tss3kCF8b3+fzzz7uIuyIXqOSu7KK86KKLXnHFFX/5y18WXnjhs88+mxVPfyd7uummK+Cv83OyySYr0EHDMWPGjBgxAv/qq68uyP/YY48J1F9//fVLL730zDPPrDwoECgTAfa7fbv27cf/Ky5ltgi2QCAQqCUEWp39bhnwPIS7auf7ev/995nPGWaYwT3Y3deztxd0wfM//vGPCy20UJ4z5eebb74BAwZ4XBfe33vvvb1bu4jPOOOM/I90aU5sJVI6uN/nGVJDOigkX9d33XXXu+++6y28d+/eggTKgwKBMhFgvNuNazc+LbNBsAUCjUQg2KuLQM3Yb3aRAcs/YItgf1rpv0Xqni06nUE/evTou+++e4EFFmDCFS655JLM5xlnnMF8brbZZumW7Hr91Vdfsfo//fTTwIEDzz333PQ4LQy+5ZZbCsi//vrrAvizzDKLt3DM5CCZAw444PDDD5fxmScv4uQnIcoxaKg5IT51quuHHnrotNNOm3322amkMCgQKB8Blrv9uPbS8psEZyAQCNQQAjVjvz1ve7G+9NJLPUizoC+++OKRRx6ZGb8KEPd0fd111xHFKh911FHemHfaaaf0Sj3NNNOstdZaDPxUU02V/ebafffdt8wyyzz33HPi3ppofuWVV/7666/C7KLobtJMbJcuXXbYYYerr77a1Vw5Ov/882+66aalllqK81GgJI/k8ssv5wdgQ5poqDkhiVPMnALGG7+5lgCJtBwE9rh+DjR9l6nS5Zv9nmHCv5OqsJzmwRMI1A4CbV3TmrHf7N8hhxwy00wzsbIuyptsssl6663ns7IJdM094ogjjj76aKIY19tuu+2UU07x7J1JW2211aaddtoVV1wxRbM5Ch6855lnHm/e7du3P/DAA7fbbrtDDz103nnnVcIGu2H/4Q9/0HyLLbagJ2OsHLnEq9pggw1UFRD5xx133FVXXYUNnXXWWW7qmmdsovFewbEtt9xyWWFkAoHSCKRfTGvfrl26fI/PtBv/k8rH5+K/QCAQ+F0g0Irst7smY9anT58M2O7duz/66KNZicCyCLOL8pNPPulJ+OCDD/bknGrZv8cee0ya2iZRp59+evqUYiOKQPlELHQS9fTTT7/88sscAoY5VUlF1HkMG220USr0Mu3mzWNIl2Mx82OOOYYONNFc5HzbbbdNnFrtvvvuqUqtzI477tixY0cyqZdXMpV4YicBp+eAvn37aq48Ufpdtj/96U/8hlQSaSBQDgJM9ddfj/5o2Nft27X/YNjwr0aM/wvi5TQMnkAgEGgEAtVmrbL97t+//1xzzbXCCit88cUX5UDBELoQM8Mp0F1OkxI8hBDVtWvXvNXELyrOk1hkkUWy31xjoT2Zr7POOmoz4iXU2RxDkqxWxmcJ0jUF6uRk0R988MGC31xzR4fY+uuvT58SYqOqjSPAhA8f8d0Hw74K493GV0IM/3eMQNXstyvseeed596JbrnlFla5NaA8YsQIMe3ddtvN0/iuu+7aqVOnpJXY+D333DP//POnz+ZOb7/99n79+rnHi+0vu+yy+e7E/CGGHnrooQUXXDBfFflAII/ABBMeN+88JJEPBH5XCFTNfos2Tz/99O6diPF2sW4xXFllofg6e1T4/vvvf/rpp2effXb+OdxVm7Z0nlhKTjrppLPNNpu0ToFjx471NLDKKqucfPLJtM3zeA6HGHJrd3fPV0W+7SBgKZZDgzb9qBw2PG0HuhhpIPC7QaBq9ruKCDLM11xzDaehWAfW8cILL/TKLlTerIdajx496CAt1kFJr169RM4Z727duvkMCgQCgUAgEAgEChCotv0uUCc+A4FAIBAIBAKBQKAMBMJ+lwFSsAQCgUAgEAgEAq0MgbZuv1vZdIQ6gUAgEAgEAoFAWQiE/S4LpmAKBAKBQCAQCARaFQJhv6s7HdF7IBAIBAKBQCBQCQJhvytBLdoEAoFAIBAIBALVRSDsd3Xxr3bv0X8gEAgEAoFAbSIQ9rs25y20DgQCgUAgEGjbCIT9btvzX+3RR/+BQCAQCAQClSEQ9rsy3KJVIBAIBAKBQCBQTQTCflcT/ei72ghE/4FAIBAI1CoCYb9rdeYmlt4ff/xx//79pRNLYPPJee+99wYOHPjtt982Uxfjxo276667brzxRplm6qKE2Pvvv99EjBo1qgRPVJWDwE8//TRo0CB4lsOceMx4y0/9VRN+kgITslelfGNTI63Wyvnyyy/POeecTz/9tLE6B/9EQaAZ7bfT9uijj7777rsLFL3llltOOumkr776qqA8PquCwIgRI1gsaVV6b1SnAwYMOOWUU5544olGtSqf2WF0zDHH6EKm/FZN4sw1fu2112666aYff/wxVxbZShD49ddfhw4dCs/yG5vxlp/6Jyf8JCUnZJ9M+camRlqtlXPttdeeeuqpDpDG6hz8EwWBZrTfs88+++jRo0888cS8d/bmm28y6pNPPnmd//dfE2VIzSHk+OOP79u37/fff98cwvMym97R4MGDN9tss+HDh+fF5vNN7yIvrfnyhmAghpN1YQqOPPLIFVZYISuZuJlu3bo5xJHMxJXcwtKKoWthBWquOzNu3pFMU5Svlc3VlDHm2/bu3fvwww+X5gsj32IINKP9nmSSSRy4bN4FF1wgPGVI/OJ//etf00477VZbbdWs/++c+pq4NHLkSB56GsXElVwgrekdCcAOGzZszJgxBZKzz6Z3kYlq1owhGIjhZL3MPffcO++885RTTpmVTNyMNfnnCT8yE1dyC0srhq4+BaI8IWDGJ8z8n2VSSWVprWyuykZX3Iq7s+uuu0qLq6KkBRBoRvtN+7nmmsvsetp5+eWXfT777LPiPPvuu+/MM8/s0ynz9ttv3z7hR7A9s44ywrn5g7u4RPNE3rqGDx/OMyCBJGEoeVUu/R600BdffOETFQspLkmtyHnxxReTHKlQ/w8//PDzzz8z4RTTirQ8URWJfD700EPeomTUYksqkWaYBqswo/I7yst56aWX8nJ0inSX+h09ejQoOExjxoyRQTJZjzKlx2Jo99xzD22prVP8GZGja1Xw9FJeUJuxUQZl+siYHejpN+PJl8hTUq0eCdc7HRJnGot+DccM+lSe+BVm+axtiXnHjLQqfwj4kbEgXRBOPam88vqIeo8//jjO/EAwg8u4DOG7775ThSfJkZKJ3/QZJs4C0go/Bk0Iz2pphcCrYbbeslodQdV4ycygU6vEOiQNAZxWCotJRyWmDH+mNt1wKsmITJLJR/rSY1aVz+iChuQkZnKMNM9QpxzStDK6jFOeAuSkkmKGVAKrxJDSVKht+sxSbCh9yiCS0wRJ5VNVSsvfv/gz5mI5auukOhHIOClDFJAtALOcleczaZhGkS+EfIZYfV0oNx3wKViu2Siys5FkmpgUqXwiXViudCuY1kwshamNwX6kZGolJSQNSkNKKglqEIHmtd+6F1qZd955//73v5vms88+e+mll+bnKmcLt9tuuzXWWOPACT+rrrrq3nvvnX41IVQBrQAAEABJREFUyQTvsccexx57LLZExSWpXGoprL322vvttx+xhx566Oabb77nnnued955K6+8ssAOObp44YUXcBYLyZdYXuIEyy+//F//+tcjjjhigw022GSTTSxZb0tEWW3PPfdcz549CdSKtDxRtU+fPptuuum222572GGH2TN4DjroIIOiEqLDTjvtlEbXqI4K5Ky//vpCF19//XXqvaDfDz74AAOQP//883XWWUce5okzpSXGcuutt5qa/fffX8iE2oMGDaJnapVmijSwAGellVaSsdlSbT4t0AcOZgd6+s3Y8iXy6623HnxWW201MnfZZRex8aeeegrzJZdcYggGYjjLLLOMT4X4qZEGJV/mvGvYqCEYhSZIBhpWFMwpKYMcbaqK6dFHH7V4/vKXvxjIbrvtBsxLL700YWgSLRsSAGuMZ555pjPO0rLACFS+4447rr766uxxJlbD6667jhANBXWJJdy5mRgoVrDeUnlKYVUMXULAOpyw2w6kSbbdUqssBWyJKRMRWXfddalNK7qZmosvvpi2mhtmfWtebZ508Z95L5x3bPXJ0Qts6Z/Wnk8vcSBiLbRCvIE111zTRMgnwkNP50zaeqnw4YcfXnbZZW3n9JmlUEXpU6a+qSez/IOCqhawubNxKA83S52eqZf60voQSPylV07ikdJTj0aRX1cXXnjhFltsIUhQogtVZtaytEjSciWhziHrxdbu1auXVB4B32AtV13XuQuOOuooB/Xuu+9uHu1lC4ZwDUusK7VB9SHQ7PZ7+umnN1V2rKlyNDs1pppqKsvavuJ/XXPNNa9M+HHoPPjgg442y64+XesrdzaJqZL2/PPPn3baae6IpLG4uiOzc+fOl19+eX1ts/J33nnnnHPOOeCAA8gRJ7jjjjtcNG+88cYFF1yQ8s6sP/zhD+46PAN9Za2yzCOPPLLwwgu/+uqreuzSpctFF12U1KASoo/z4vzzzze6RnV0yy233HzzzTYPIYgcW0VaZ7/8pFtuuQXCM844I/3lZ5hhhoxTpr6x2M9XXHGFMAkLYQh2+MCBA998801NzFT//v0/+uijIUOGgAU4PnESrraY8jgU9F7MrOSzzz6DM3AIB+9MM83kvLOlnbmGYCCGwyv3ibmAypz3xg4h34vZZPPeeOMN4A8YMEBqOvIMKf/+++87oBdYYIFnnnnGQGC41157sQFMRWKQarjDDju4lV522WUdOnRwwIEdqpxL8jU3cGyJFDrpCBG4MvzHHnvM5Hr7z7yHEjjDqgA6CEys7WYpmp377ruPVq+//vqOO+5oVXOzLOwSaz4NKp/WN+8l5HTs2JFjYYmmyxko4KwQOEkyrHyahfQp9YTHEXfAUNUnIt/SXWSRRRZffHGfJai+qW/U/n366adNq7m2cSwM063HM844w4zI1Ek0LIEk8EkrsXIymcbu1AIXtz4VulLbYiuuuGLpAyox55crj6HOszFxZmk5u+CGG2445JBDzAhA+vXr54BNv45a37rKhEemTgSa3X7rlUdmFw0dOtQNdckll1TCCFlJDjjuswcntMoqq7hS2FpMBYZGUadOndyQpORYnWzAxhtvPP/88xMy22yz6cLCsnZ9lqBfJvwI7DsCsPXo0YPCgv+2QdeuXaeYYorJJpvMMw93RC8YCmieeeaxHJl2/M6XwYMHu3AbFGbk3Nloo43sXofOhH5+KbMj1zKWlSNMCCJHnl/CR04K5PulIZNJB0OQQTKJLaV0q28sHJc//vGP2Dp16sTMiGuliTBTjAHfCyBqCdxwww3dkm1vl0glBZTXB3NBbfEnlVz6+ViqvLb07t2bhXNx5+Ql/Q2ne/fuPjEUEFXLmffGDiHfy2KLLbb11lsbCPAhDyIHYp4h5UEk87e//Y3OMhRz+cDMccxOaovB473xTjrppMbo1phH1dZwJdUWOcHZ+Pnmm8/thyglVgtb7tRDPlEJnGFFDTpn0EFgYm03D0nTTDNNmi9jseaN3Y5jwkuseQoXkLZ1zntpOYsuuqigLvRIY0dtJTdFNtLuBhpvaamllpplllnUZsTtnmOOORwsGBRyFrE5H4zCZ7v6/6tv6nWKzAiEtbYvShwUfHqwbLPNNhkz55hzxgBrWyeVRuCtt94qsXIKBC6xxBLWD/5Uzk3k4rj+elWhVX0HVGLOL1druM4hJ84stRLkS++CtdZaS9jMbgKIWbC1OWFa1beuVAWVQKAl7Le9as6sJOEjedoMGzbMKWY3ymfEKtiH7777blZSZoY7aTslZsvC5WbqqadOn+Wnc88993LLLec8ciIIXX744Yd2eNK2HCGLLLKIQzNx2oFivK5iYlCJBNVdMY3OTmhUR8ytTQgut3nPQm4tuiAkHUby+X59VkYO+oUWWihrayDTTTdd+tQ1X8HxlwYi5XWZI4XUSDz5tLH6GCAfK5Ng7rJ8g5ky572xQ8j3a7KmnXbarKRO9cyF652TOluE+BlRJyBzm53UYra2gCrE9sA8fwW00ri5qhBs3Zl4gSeddBLAEzlwOVWuXxhQo3CGwMTabilYyhk99dRTGQZrIOFTes1TuIDqm/fScljiOeecM124mW0xCQ6u2yGrzOcTMeLgQjLfl47EaYUrbEnldqVUEFtamuqbeuXlHxTOEC7FN998Y/PawiLnY8eOBZq0vt5LI1B65RTItLNY63vvvTctGxEFTqFVV7qLJCS/XMsZcpm7wLrNJiid1am7+tZVqo20PgRawn6nvvlc2fFnHTu/0s5PtVK1FoHFLd/y5GwVI2KcHJ0HH3zwn/70J0s/efrlKGNRGmDiFNd1N3VlT58ptXA33HBDvaDyO3I2bbbZZpQRNOMEOOJvuummJDCl+X5TSQWpizut6mxopnRRMBanpBNQeXEThRkOxbXFJSbdNi4un4gljR1CvutyhsPc8qs4E5NPPnm+raFZzNlJ7TOrNa0MagHm7iKJgZ/H4or0pM+Ucqo8K2aXy3IUSw2lEJhY283U33nnnTxvYSH68FrEhw2z9JqnQwFBo855Ly2HW0kBNzYWkRWX/7//+z/BAFaZw60txQo68snGmyD8zNj1118vIJf3tDDUSfUhbNbK37/e3T0AJXvvQYQmp59+er674rxRlDg9Sq+cAml2oh5d993aaSIG07NnTy5F6S6SEBOUMtJyhlzBLiA5I1NZ57rKGCJTJwItZ7/z3XMD7cDkEWfldpdDzRbNSlo4Y5luu+22okCWu+dzIaMTTzzRXmqsGl5tuSaeIYWS8sQtUE5amR3xZux297D03OjFkT/BUSWhxchMuUo6g/IDkd99990LzFWLqdTYjpp7CPBx0WEhHGF53UR6Xf7qRIlKxevfK09qTuDss88u/A7nAsqHSRJzOWmd3VW83UgbMGCA11x21MI488wzXcQbXPPl6ImnQTlcWHFgT0gMNmvtuPAk99BDD9HH85YLOiEFRGFguv6KG4mIeKNhmwt4GvVZ5v4l0zuI6+8111xDPSg5WP76178qL0GlETCWEiunWCyI+IWeDISIvIgx53hKd4GhmBocskXb2F1Q0IuhFa+rAp74LECgOvbbSydTzSwxUUkhGYbTDhSr4TbaYE5Dfn2qFR/zhpfyFaelxTqMvAEzkOTjdFBusskmolX8ViWNollnndWecV4YVGoo869//YtPIARafkcQsOU84IEryaGMkpRvmTR1LfyYdefc/8c//uE2k5WUyJhHk6hJ4oGDIF7Kt1jaxCGUoyfz4IAWv82Y+aZ33323t4/ksWXlKUMl659Dlj6lIMqQcRSm3zTkuqlKJFwMdgsgfTYqTd3Vt90KRJWYMr7swIEDzz33XPOolTv9lltuac+yDaXXPOYyqUE5YuY0dPt37TYuYldccUWPU1dffTVDzpwrKSC2RxCLjT/ttNM4RtgKGBr1Wf7+JdZ5IvBmNuUR3JhwmRJUGgFDLrFyisUKC4kjunl7AhMsYSPx5LoY5xNRLDugfBZQmUNu7C7IeimxrvA4M72OywQVI1Ad+z3PPPO46dpOF110kSMJORQuueQSETlXFueCGJdwij1p5txLjjzySO9bxdo3qqS0WIeCA06MmoG0Yl588UWhNm9Fjgm9zDTTTByI5EFbbUpKkD2zww47XH755QZlaPgdNy5SI0aMEDMsvyOcdj6tHnjgASo5zY855hjRsBJdqxIbdBf03uakEIlVUkCNGouZ4secfPLJ1113nYEYjuBhCpkWiK3zU3OBX2+lJtFUwsGNpE7O4kI3V4vB8JkHEeBihjJL6NCUIZTTyzrrrDP//PPvs88+TzzxxM8//2ywhxxyiFnYYost+ILFEgpUMrMnnHCCS1LGudVWW1ktXr6J+vXXX63G/fffX+rsznhKZAqg012J7VYgB3N9U+adhapm88orr6SVxWBCXQdZxC5dupRY8wVdlPhsUI4lwQ651DLbQsFEuWLaVi7WSnzWSc4TXtHQoUM33njj1KpOtnIK7UprssyDgkkT27/55psTXDyw2267rXQvpREwO/nFbDoKVk6xcHduh8all16afgkJQ+kuMBRQ6SFnzI3dBVnDEuvKmdOnT5/FFluMf5zxRyZDoDr226G277777rbbbt6bbT90xhlnHHTQQTvuuGPSbOedd/YiYpMwYN5suI2uMqmqKWkJsc5f5vbzzz/Xr02ywQYbOCkoYO3q0XnK7GnuHdpWVFKaOCKHH364QRnaAgssQI7xOs21alRHwtQuHE5GKi211FICXzYJISXIdjUEPW6//fZ12u9GjcVM9evXz+kvOGEghgOl/v37r7TSSiV0yKpcd/gc9p5JNJWDBg0Scc1qS2fcpfbcc09tnTtDhgwpzVyitolDKCE5q/JWfd5551kwptj8Gqy7+AUXXMDSZDz5DJUOPPBAayyhamY5KA7ijIeQf//734QQZQHghCQvqlOnThlPiUwBdLqz/Epst7woHdU3ZeRQ28MQx4JWaTFY50JEJJRY82rLp9Jy7EfLmyYC6Ukm2J3v7pT0SSXFqY1jX4iFeIourm1UiamxBco8KNZff/111103g0sA3yw02F0JBAzcFFgP9a2cYuEOzx49ekApv2dLdFEsofSQM/7G7oLxDSf8lwZV57rimU099dQmHc8E3kj+B4EWst9rrLGG+2t+g5kSdxRPWaKIiPvMVilM2vGRXc2FxVKVd+gbb7zRY3CqzackP/roo+LVqVDGJ5ctfUq1uuqqq3jf8qXFLrvssjx0/rJO3XXcv91ltUJOB/EA+ggSJFEKM9IFyj5lLDu+iEERhQyT3cpGV35HFHDx1S8hVGKVnR3ZcHSKdJcnY7z44osxi99CI1+V8gVjMSmC4dJUK9UKhoCVR2yGftNYRHHdhjfddNM6txNlkCZ5Yn1TW8CCd7/99stWgi50pLuM38TlS7TVHROeTr08fz6vOSEaai6fiCYZUJUNgQSUpEnNO4H5EoUZmSkLBuxmKo3ULKfa1BXdR6MAABAASURBVDCvm3LRIG5QQsb8CkvwqwzBQNQisR9wEUUgsYMHDxapVo7ogGRKUAF01l6J7VYgR9ukmN7pkJ8yarPuqTYtBr5dWgyl13y+i4K5UwWcbOwNygEUdyezRoZmU3ji4WEThYoBF74Sz/jTn/7ED8ZQJ4EUpSoZlPLSJDArMbNgAU6aGvNu9rGhgs1lM3rTNX04zbK8rZSNlECkFZJBMqg0Aqag9MohIU90cHg+9dRTc8wxR1Zeoos0WDOSMcvUN2TnRv70gAM00njhAyUNNUfFYi11UKSODKrOdWVywfLyyy8nH5GcoDwCLWS/813m8wJ9ZhHJ5MvlHQocOlUm3ufEotJiLWvBQ51y1Qt6TA2L9Sxgy39iJgrJ5Mvly+8o9UtIsUrk1EeYS+CWZBZrVZ805aTRgRdvR/lsFOlIW8AadaMaYtadcF8FDbUtoKYMoUBUfZ9gb9RIk0rWuRkplmnUQCOQ2OLaBkuKoUsTQaBM6eYYsOmdDsWcSe06F0NqqK1MccPySzQnBMmU36o+Ti7jgw8+2PTfXMvkgwU41CueGlNpQvNq48GpUFUmocEMCVohmWLmNAWNlVkgh2TykUxBVfFniSEXMKfxwkeTgqrSn2lQBesKaI2VU7qXfG2t56tsv2sdvtA/EAgEWjMCt99+uwcgsT2PFNldsDUrHLoFAuUjEPa7fKyCMxAIBGoMgbFjxz7++OOrrLJK+b89UGMjDHVrGIGmqh72u6kIRvtAIBBotQj06tVL5Jzxzn57oNWqGooFAo1FIOx3YxEL/kAgEAgEAoFAoPoINNV+V38EoUEgEAgEAoFAIND2EAj73fbmPEYcCAQCgUAgUPsI1Lr9rv0ZiBEEAoFAIBAIBAKNRyDsd+MxixaBQCAQCAQCgUC1EQj73bQZiNaBQCAQCAQCgUA1EAj7XQ3Uo89AIBAIBAKBQKBpCIT9bhp+1W4d/QcCgUAgEAi0TQTCfrfNeY9RBwKBQCAQCNQ2AmG/a3v+qq199B8IBAKBQCBQHQTCflcH9+g1EAgEAoFAIBBoCgJhv5uCXrStNgLRfyAQCAQCbRWBsN9tdeZj3IFAIBAIBAK1jEDY71qevdC92ghE/4FAIBAIVAuBsN/VQj76DQQCgUAgEAgEKkcg7Hfl2EXLQKDaCET/gUAg0HYRCPvdduc+Rh4IBAKBQCBQuwiE/a7duQvNA4FqIxD9BwKBQPUQCPtdPeyj50AgEAgEAoFAoFIEwn5Xily0CwQCgWojEP0HAm0ZgbDfbXn2Y+yBQCAQCAQCtYpA2O9anbnQOxAIBKqNQPQfCFQTgbDf1UQ/+g4EAoFAIBAIBCpDIOx3ZbhFq0AgEAgEqo1A9N+2EQj73bbnP0YfCAQCgUAgUJsIhP2uzXkLrQOBQCAQqDYC0X91EQj7XV38o/dAIBAIBAKBQKASBMJ+V4JatAkEAoFAIBCoNgJtvf+w3219BcT4A4FAIBAIBGoRgbDftThroXMgEAgEAoFAtRGodv9hv6s9A9F/IBAIBAKBQCDQeATCfjces2gRCAQCgUAgEAhUG4Gw39Wegeg/EAgEAoFAIBBoPAJhvxuPWbQIBAKBQCAQCASqjUC17Xe1xx/9BwKBQCAQCAQCtYhA2O9anLXQORAIBAKBQKCtI9DW7Xdbn/8YfyAQCAQCgUBtIhD2uzbnLbQOBAKBQCAQaNsIhP2u7vxH74FAIBAIBAKBQCUIhP2uBLVoEwgEAoFAIBAIVBeBsN/Vxb/avUf/gUAgEAgEArWJQNjv3+bt119/veKKKx555JHfvlv2jy+//PKcc8759NNPdfvxxx/3799fWpD3mdFPP/00aNCg+++/PyupYoaqDSrcAuq99957AwcO/Pbbb1ugr1bSRX7ZVKxSE9eSRWj2R40aNW7cuLvuuuvGG2+UqViZ4oZNVK9YYJ0lV034qbNqohTCpExw8rupzq4naHpVnVVR2NYQaF77bVfb24f+5+eII4647rrrkpVqbUC/9tprxx133FlnnTV69OiW1+3aa6899dRTnX26HjFihIy0IO8zI97G0KFD6ZyVVDFD1QYVrk+9iVg+YMCAU0455YknnpiIMlu5qPyyqVjVJq4li/Cmm2768ccfORPHHHOMKZCpWJnihk1Ur1hgnSVPTvips2qiFMKkTHDyu6nOrido+mSdVVHY1hBoXvttV9vbiJOObr/99gMOOGD55Ze/4IILOKRNwfr444/v27fv999/X7GQwYMHb7bZZsOHD08SFlxwQfb7oIMOmmqqqVJJS6a9e/c+/PDDpS3ZaU33ZeJMn0nMRmE9HHnkkSussEJW0pIZmtCHVuV0ig2zJuUwl+CxYFrPsunWrRsThWRK6Nw2q2ACGSTTNhGIUTcHAs1rv5PGe++992MTfp599tnXX399iy22OOOMM15++eVUW1k6cuRILm1TnACxgWHDho0ZMyYpMMkkkzhSl1pqqfTZwqldveuuu0pbuN/a7c7EmT6TmA1h7rnn3nnnnaeccsqspIzMRGOhCX1oVY5EbJg1KYe5BI8F03qWTfv27f884UemhM5tswomE7D5s0zbRCBG3RwItIT9zuvdqVOnvfbaa+qpp87inGywl0tXc/T222872jL+OqvE07766qsffvjh559/ZsKFm7BpIs3kvPTSS3k5DkokGPDQQw8JA4wePXr48OHu7mPGjJFBMpoTpSqJSnk8mlCsQCAeaghkqZLKa6gJIaoy8nRHVbWpRC0eJJNKMgY81JCm8gpSQ4AefRAcsi6SKG8Wnt9UvfjiiwW9ZGM00tKPxxnnPffcYxRJcvmpKUDZLMhkw8+E5EvkEyaGQ/N8p9BWZchU+uKLL3ySkPgVZnkjTW3THClPOIBCK58ZaWWK9aLKA2QBehmbTJKAM0NSW8rQJGXkZXCijDlTQCFtE48m1PCpEGlVpg6YExkgUVKf0pRPnRqIjPI8mTUwUt5c6z1flfJ0ICRTSWFxiY4Mp04h5hdphWRQxqyJvPKMSE7jTcrkpy/jqTOjYYmlbu7SpNOQfMx5ITCBjKpiffJsKU8lEyRNnyk1KDDqxScMKU8aVBUqSWSkYJS+//77ammrXEMkk0gtHdTSh1apMJ8SSCyG4lHk2WiSjVdH9Y03W675tpGvdQRa2n7DiwmfdNJJf/nlF3kbQMh61VVXTU/ka6yxxk477ZSsiPXtvTxf5R6vynvbyiuvbFk/99xzPXv23GOPPQhBeTnrr7/+Vltt9fXXX+sCHXvssX369Nl000233Xbbww477IMPPsBw9tlnf/755+uss468zUYCUZdccgn+lD/qqKO4zLvvvvuBBx6Ih3wmRy2yT9Zaa63NN9+c2jpad911TzjhBM01VJtRkn/rrbemEp+9evXSys5MJdddd92GG27IxhuUKmkqb2zKj9luu+2gR1UEtIQVOba31wpvFn/961/hucEGG2yyySbZefHoo4+utNJK22+/PYikf/jDH4YMGaJVMeU5d9tttz/+8Y/XX399MVuJEl3kZ8FZ5uwzlflR50vk11tvPQivttpqNN9ll13Exp966ildmCYTB0+TuMwyy/hUiN80mcqUX3vttffbbz8zSALM99xzz/POO093As5mClYvvPACTpTQ01YvUAKIjOWnKk/1IalHbWlCH1rJK9FcSQY7BYzCOUsgbbFhxrDMf5QvUwfN8wS6bNmk/NFHH22MhxxyiDGuuOKKFljip7z80ksvbe6MzkYwTGd6qs1SmtOfhvWVWDnWj+FAdccdd1x99dWzTaGJKUYySMaLBk4bBLMMylZ+Nl7L1RajzFlnnaVrCmhbglJD06chyi91rWxA+1ShKkRg/jwBeJ0zomGdZI6swCuvvDKr5dkIeJx55plKSuyINBdG7YCy8O6++278AEEyKDtARNQx0Ipu1oyqRA4Nk7XPPvukUWTbOdVmaTZefSGwZOM14yU2fiYhMjWNQBXsN6+TV7voootaYRdddBH303nx/IQfGVb5/PPPV/X4449fddVVdrUaR+2FF144dOhQhR6qndRMJmPjMu1QFjK95ZZbbr75ZusVMyLHFpJmc/PII48svPDCr7766oMPPjjvvPPecssttsSMM854xx13yM8wwwwZZ5a54YYbnIOvvPIK/7dfv3433nhjihnYw2wA/4Opo5iHAMfxFVdckTXMMuQvssgiDz/8sOEotGmdX65377zzjk/b1UAWW2yxrl27+qyYyHEKUPKaa66hLTJww3TK6Fdf55xzzgEHHIDB+4XxUsBYdCdjgI5757ihSZ1WvBaXBrV5ovZxxx0HcBISp5PxlFNO+eijj/JsDebzszBDXZgXSPjss88oaUno11zPNNNMjjkGg7NiIOA1iZaTz4KGPh30FoZRWw+nnXZaWmbcPh4AcDp37nz55Zdjg17//v0NxGzqBb9PC8+qUJun+pA0EMw0oQ+t5JU8/fTTVGUpCSSWcKI8G+mOttgwa5KUV6jTcnQgpAR5VGJUXNr0iJZddtmBAwfyDjWxUM0sF80WUOU5yy448MADG7SX2mYEeSPSi+EQ+MYbb3B3DDNjKMjAmUXBZgoGDBggtUnxGK8ZgYyFarnKHHzwweeee66q0qRhiaVutTtPbrvtNucAsYh8iydthBIzUl+ns8wyy3LLLXfvvfcaeOJ59913vQDyWoBQekdguPPOO21Jy4brmZqn1IXe3plsssmcDBaAA2Tfffe1SW3AxKCt88SJZwjIcO677750KiaGlKbxpoUNW5TGmzj1S2adGz81j/R3gEBL2G+HJt8wEe+VU+ml2cbg3g4ePJjDuMoqq3gWQmzJRhtt5HRgMOxVJV74pID+05/+5NBxifFQzeBNMcUUNoDa6aefHoMdZcXzu+UROfJOav6ptmieeeZhgx3ommvohJXv2LGjDJLBU0Bu2O5wpKndeOONu3fv7uzDI7XTjj/++B49evjs1KmTa6UhyBfQ5JNP7nbopDMcVUl/p6qjxKeDlRy9UMlnxcRTYdu49hx22iLKUIkhYRL4GWjmmWc2Cl306NGDG2QW5DF4g3CIe87wKXUVcFSxAT7zNM000zhxTjzxRGZPOU6z5gLtjPBZPuVnIelTui1k9t9//9TpXHPN1bt3bz6Qfqeaaqo0aybRvPgslmNe3PykAHETZftN4vzzz49zttlmgxU3hSsGPdbUpQ0yqjp27Cgi4qLP0jhnlWQERlSMpCaUoUnKyMtwFq3tbbbZRp4EwrfYYgsrwdFM28SjSVK+fB2IKk0sAaDwAI21/uSTT9yYHfSXXXYZg+1CDBC1RsH0LrLIIt6hfJZJb731Fgc6j5WYFp+vvuZ806233hoCpsB+FLOx4DF/8sknFiHTYqGqwrD55pvDSlVpAlSJpZ7OE8aS00Ascg7svPPOXbp0sc5LzEh9nVp+4jd0FrFLPGy5KXP3KGdHGKBlZnTCjal5Sol1FvF7rEMlZuQvf/mL+eKlitOWAAAQAElEQVRX+UxkfyVwjMJwDEq4ywBTbUp9WmN5TuPNzk9rFZloCuC3AmGeNr7PoN8HAi1hv53ydh1vlIm1E/75z3+KNlvE1h/3/5lnnkmmXSq4zV92qjLeNsncc88tRmcb8KlZO0s8rcVi6Fn0JZZYYtiwYbxR9w/3NjyEOLlk0CKLLOLQlCmfNKFk4tdvhw6/YaWX6aabLlmCVGsHssopX5AutdRShgkBg2K2bUWcDDkzybhSTy8FTRr7SR8HBLjyDVkgPbouwJCr5LwQUBVB/fDDDx09xqVrNwnn2j/+8Q/IJ3Jdc6B/8803eVHy+J3FGjq+eWPsEDYSIKy2fDLYRs2CaU1nXOoim4L0WTp1aju8Ek+aPm5H+syn0OPkcWUSAlKeENwUFoyuPiTz0rI8rEw9JK1Ga1LkfOzYsQRKM54sU74OWZM6M5YlJbMqs5byxmLfCZ9wdlOJ1AoRD8jDq7A0WcZ8jsUXXzxj04XYb/ZZkKHMtNNOmxVm02dHeKa1YbMqVoo+2Wd9GUCVWOrEel+zv0hLEmQ4NLwWnnSjZiQ1lxqdFWvZyxPuHOOvWFoGXnpHmIv8ADXPyGrkS80+++z2kd1E+HfffQcc5jbxAJnHmfJSozAovRugz4x8ljg/gV/nxs+aR+Z3gMBvNqlZRyJOyGK51bkl68j+t4JlRDhdcdyk5TNyxLsAsYi2DZfT2xgDT4IVzEPXJOPMZ1wy3Ond0cX3OAF23U033ZRnsN9sg3xJg3k7qk4efalKQ8gYlGT5fIaZdx9ycREH5oIYnWPdJdInc24PZzYm36pRebbBhs8flJrTJ9lXSAqjsUlOcFFKELlSUMCZzsvR0IGIP5FPd1wvFOkzS4m69NJLTRxnX+Bhyy23dGNgwjOGMjONnQWjKMC5zI7KZ4MerQoWoXtMivTk5dSHZJ4nyzttLdp0gApcW/mnn356VluQKV+HgoYFn1Y4xAoKffLkWL4ZZ5xRvilk5VstcMgLcR/Nf+bzgKVSviTluTUWzwRVU8H4FPP4P0r+ByhLtL6l7nBgAhnOOmU0akYyCU4hppSVhaFdzP11LVbb4I4w8IIBapURP0A0QvTCbnLErbnmmmISWa0AYQHIBsXjSWG8jM14S5yfJNS58bPmkfkdINAS9jvBZD2JhbIZHhetfoUOFFvRc+Df/veHmVGOwYVpv/32s9btHC9b3smsSOUFRJrDkXX0SuQ9CbFPvXr1KmCbWJ/zzTefjcT5zQRSwNUk+8xnbLwll1zSOzcv222StRZDFkFlvOnJlsvn+SvI08eByBPPt3W/d9TqXSHkt912W1FiMDqJnHEi4Y5Ldy9tPSj+L/x/69mzp1Z58kR30kknucqYAq6YF4Srr76a2DxPjeYhYArY2gIQnKoubQWDMuRiJJ2hBWw+xavFWj1/CoqaesiLVyuvkxqlQ50SShcaIE/Re0FptgZr6Vm80ioQa+OzbY6CfI8gyn/Wma9TgWypJ7EFGyGT06gZyVoxw/xdkSohGRNKgQUWWEBtU3aEgR9++OEezgixm9zCH3jgAcoTm4hvDeeUT2kaFGcifaZUE+dkifOz/OWaBEZacwi0nP0GzUILLSSKe9555zEAPmeddVbOu+gi++cTyfzrX/9iYzibzPYhhxySFq5LmCsRz9cmt7hx5kmJWLTwoJtuKudrK0n5iZ7awOzi5ZdfLhyahHshM4qUL0757x4FGDxRASepGKaLrKcEj3lKivkbW2LUTDXfBXqprQxr3a1bNzE0UHuA4NCochiZgk022YS3ASI3ALGN/PnrftO/f3/XLMx54qyQCX8Tkcrd55ybKV9xyoeAYSZHFw8++GDF0iprCD0NH8n9u7n08abgYFWepxJI5tlSHuBiLVkkw9As3VRVnJbWwV6wC7iMhBS3LafEqqPJE088kZ/ZW2+9VSg4X0IUs2pShHPlE1mlGQ89rTR+Z6qSwqqCKSOHIeSRW4SEIMvJBpEpTRpSoL6l7jyZZZZZrHyLKsmRsfgZS5m6ZyTxlUy9TM0555zg4oWvu+66wMTelB3h3vz111+7c7OvRCHSlMgk8qrlPMmmm/IGZWgGmBhS6rPE+Vl6uYp/WFdJTqS1i0CL2m/2Y4sttphpppm8s1qUnpF22GEHhvDcc8+1k91jWDXXIEcVO4Fs6eOOO84nZi6qk2LppZcWQAM3IU6WdLNx4jie7Go8FqWLuDslrxZbCXIV5gh7nnSwCo6V4CyocpXZeeedr7zySvF8sYSzzz57p5128qBVwJZ9sve0euONNxhyhUDgelPPAEu0wlkmudC7FJ522mnpQIQkPC+55BIhbjd+4EDGmwKHhhpcDa8SHIjOnTtTA4wiHLY6hBlykQ+XDOG7gq6dm86aCy+8MM3F0KFDjz766AKeCj5p7kpx6qmn6tqBYvZdksqU43JsdIbmbsTtKLNVMRsdODQnn3zyddddZwVCT4zHnAKkgLkEkjgLllPyjW6++WZyyOQQ3HbbbdgSFShfWgezs9JKKxFl5aTmFaRbbbXVqFGjDjzwQFAzD7aSGIxp5eTlpVkV1oa3ElMMDavlyCOPzAxJgZ422gknnPDwww/nJZST9xS911578ZAEkPX173//e/PNN2eKGmxLgRJLPZ0nDo0BAwbAHJ1//vne0US5zF3pGSnRNWfdYwpR3rzSFsYMuop3BLsr9GU3ZVvSvIiKEZuIF5WdikZhOAblqDTAxJBSnwozTvNlB2XnpyHbHXVufMfmwgsvLCBkcSZRkdYoAi1qv2HkvD7ooIPuvvvuIRP+njEbwzs+44wzOLnsnNUmSMvG43RmnXXWWcyJizU7x0a6/zGcqpDziO3x6cHbKhTtxGM12+G2q8jSOuusg60EeZJ0p9fj9ttv3yj7TeYuu+zCBfniiy9ECLjGjnvetPI6iTKuYq7CdEsMRurcdPlWlUqakjrWgbbbbrt55AYjgieQd9xxR2I9wDPnHHyDpcAGG2zA7Bm17W0uHCKOIbcK6Ambu+cZl3IN86ShewwLlOZCR06cgjfjPH+ZeZ4QT0uEWdc8sEGDBoljl9nWqbrnnntqu/baa6e1VGbDAjbo9evXj1UwQPMCPXAJQlh+BZwlkMRZsJzWX399qB566KGAJVP01QRhS1SgfGkdGEj2PrMcSUJj06Q8CwRqeUFXzzpMuGWQF+XTkp5ppplsN2jwbNzRfSYeepp3SyhhZaPxnJjwVNuo1H5hk9xljzrqqH/+858cR3u5QQkUKLHUNXd00J/BgzmyERwvFFZVekYwlCAnD2SWXXZZZjuxNWVHsLu04patvPLK5DjKHF8ZyOSLiru3uBsYAnIMAtzQVBVQifPTLFvJdW58ywmJZBRIi8+aQ6B57Tef+tFHH+3Tp08eF1v3zTffTO/T7qDMzCuvvCIoh1xSneC2Cn57Fc/zzz+fnorx2JY8d1WID3vnnXeKS7toOgXcftyffBLi0sA+Wbs2gCrMXseRTJ6IuvjiizFzJuiJE39SNZ9PTTDkB0I3/oE7ivNLtH+FFVbIhxxTkyy1Vdww9GLfpsI55pjjqaeecmMmJ5XYpa4jUp/SOvOqMirQEGKOLegZPoKVE0Fh4nfuUFWoXJXxun+DK1W5B2S4QU80gr1JVfmUniwcsSSYDk4VAyD+scYaa2ArR2FspgDJ5In1TWKpR0nBAGIJxEM4zCEvn8js5Eu0dflmwpNpzPPn89oSoqHm8oloYrrB6JMHY8EkNYyOTPdCQ1ZVQCWQLFhOPi1XaEMMsPK6oANNkswC5evTQYDaYuB7ZZYjNU8poNRKfUqzvE8EhAxMnwXKCzO4bSsHAigycOwsLqnpoDlMWFbXtaxW9Itzo1ytcYmXMD/ZuKCKyEQySCZR6iVfwvzfcMMNdpDHCybWK1jiLEhTw0wBq7rEUldr5Sf1aCjjeHHIkFl6RiiGsNVJfB1ROkcK+YnB8ihzRyR+KflIBvGispMN1FtvvXUGcppHqNoOqozCJPbt2zfrmhBECDI0AzRMbMgJkJ2fagtmPNv4vHBP74RkMjEH1SICzWu/y0SEhXOuIZmCJlaY+6Iq27igyhbylpw1SZ84ea8FnCU+MRdLLsGvauTIkSLnf//737O4oqiyS5L7itMNQ7UIFIaPZAp0sM/dqlUZb0FVhhsw5Qtq85/EkmA6TEq+vIn5JJZ6lGysKJrwiipoWNyRZVDO6PRFVZzFSJKpkByZRD5x1gdssfLa4s8j7MbMn+jduzfmJLMpaWnlM8kZm6nJCvOZpGd948pz1pkXKxYf4quJnCUGGQ4u3xFiqaR0SjFAIZliToWqkExBLfnKK9a8QBr5pOXnq4ChxKcJ1VBzQupka3AWslYkkINkssKUyYQYeCpJqfIJmz19RVqrCLQK+11b4Al+Cq560RQd5Rq7s4rbu0YIcMWWqK2pbP3aemJwG7beWr+q5WsocutF+ZZbbnGrdsXk+8oIp7nRikOULyc4A4E2jkDY70YvAEZ61113Pemkk+666y5R9F122aVDhw6i0AsvvHCjZUWDQKAkAm5UrvtuSyW5aq/S84Fnb+9onipEs959910PYQL+tTeS0LgpCETbpiEQ9rsS/JynW265pZfX9yf8eMabb775KhEUbQKBNokAJ9gb8AMPPDBhA71/7733rrDCCgrbJBgx6ECgQgTCflcIXDQLBAKBQCAQqGkEal35sN+1PoOhfyAQCAQCgUBbRCDsd1uc9RhzIBAIBAKBQLURaGr/Yb+bimC0DwQCgUAgEAgEWh6BsN8tj3n0GAgEAoFAIBAINBWBptrvpvYf7QOBQCAQCAQCgUCg8QiE/W48ZtEiEAgEAoFAIBCoNgK1br+rjV/0HwgEAoFAIBAIVAOBsN/VQD36DAQCgUAgEAgEmoZA2O+m4RetA4FAIBAIBAKBaiAQ9rsaqEefgUAgEAgEAoFA0xAI+900/KrdOvoPBAKBQCAQaJsIhP1um/Meow4EAoFAIBCobQTCftf2/FVb++g/EAgEAoFAoDoIhP2uDu7RayAQCAQCgUAg0BQEwn43Bb1oW20Eov9AIBAIBNoqAmG/2+rMx7gDgUAgEAgEahmBsN+1PHuhe7URiP4DgUAgEKgWAmG/q4V89BsIBAKBQCAQCFSOQNjvyrGLloFAtRGI/gOBQKDtIhD2u+3OfYw8EAgEAoFAoHYRCPtdu3MXmgcC1UYg+g8EAoHqIRD2u3rYR8+BQCAQCAQCgUClCIT9rhS5aBcIBALVRiD6DwTaMgJhv9vy7MfYA4FAIBAIBGoVgbDftTpzoXcgEAhUG4HoPxCoJgJhv6uJfvQdCAQCgUAgEAhUhkDY78pwi1aBQCAQCFQbgei/bSMQ9rttz3+MPhAIBAKBQKA2EQj7XZvzFloHAoFAIFBtBKL/6iIQ9ru6+EfvgUAgEAgEAoFAJQiE/a4EtWgTCAQCgUAgUG0E2nr/Yb/b+gqI8QcCgUAgEAjUIgJhaFx46gAAEABJREFUv2tx1kLnQCAQCAQCgWojUO3+w35Xewai/0AgEAgEAoFAoPEIhP1uPGbRIhAIBAKBQCAQqDYCYb+rPQPRfyAQCAQCgUAg0HgEwn43HrNoEQgEAoHA7x6BMWPa9enTbqml2h11VLtjjml3663txo79bdAyPhUmkleS6mR8pnKpvJKoAgWqD437708INTattv1urL7BHwgEAoFAINACCPTt2+6889o980y7449vd+yx7dZfv90dd/zW7e23j/9UmCiqIJCgkMo3Fqj77/8N2Eb+Efa7kYAFeyAQCAQCbQGBp55qC6Os6TG2dftd05MXygcCgUAg0FwIrLvufyUfffT4+Pk66/xWokooWGEi+ahKUEjLR8PbxG+AVvhH2O8KgYtmgUAgEAj8nhHo8B/rwCZ5u11vvXZZiYxPhYnklSQsZHymcqm8kqgCBSpAA7AJmaWXTn82Nv3PDDW2XfBPHARCSiAQCAQCrRKB7HZYqXVplaNqTUqlMEb+vt5I7cJ+NxKwYA8EAoFAoC0g0GTr0hZAatIYRSbcyJFMRYLCflcE2++mUQwkEAgEAoE6EWBUmBYkUydDFFYbgbDf1Z6B6D8QCAQCgUCgDSIwduz43woUP5epaPhhvyuCLRpNJARCTCAQCLRSBBgVpgXJtFIVa1yt9Nfo839fvJEDCvvdSMCCPRAIBAKBtoBAk61LWwCpSWN8+unfmlf6V+3Dfv8GYPzRJhGIQQcCgUA9CDTZutQjN4onGgJhvycalCEoEAgEAoFAIBBoMQTCfrcY1NFRIFCEQBQEAoFAm0WgyX/DPux3m107MfBAIBAIBOpHoMnWpX7RUTMBgSb/Dfuw3xNwjCQQaJMIxKADgXoRaLJ1qVdyVCQEOnRot95640kmlTQyDfvdSMCCPRAIBAKBuhAYNWpU//79Bw0a9NNPP2X1dRZmta06w6g00rp898PYz0b+8vOv455794c9zv3otmdGlTPAH34ee+qNXxx66ScjR48phz/PU0FbvehLj9rmRZWZNyhDM8By+JvYV4NdhP1uEKJgCAQCgWZC4Hcl9scff7zpppuGDh3666+/ZgOrszCrlUkGnuGX8VnTdM4dXy65/xsvvv/DR1/9fNkDX7/8wQ8Fw2H2GD8mMF8+Zky7u54fddMT33z/09h8eTn50m1Z6E++/oVXkRelF33pUdt8eUF+3Lh2X4369fORv44ZOy5fZVCGZoCpMI3IoIpJVQN9jY1/vyWhGGkgEAgEAtVA4OGHH15+wk+vXr0++eSTp556avXVV1ew9tprv/766w1qlAw8wy/TIHOLMjRkXZjGhfq+tuPZH5SvFbPH+DGBqcnjb46+9tGRNzwx8stv/uvxpKp8qoup//JCASnM89SZv/v5b+ff81VeRZ21pQtH/zh2yzPeX/WIt5jwEpxpRAZVTKpKNBxf1eS/YR/37/Ewxn+BQCDQFhGYGGPu0qVLzwk/bPakk07auXPnlVZaSYHPqaeeusEeXLu///77X375pdXZ7yZblwbHPujOr3Y464M+53309qf/fXGos9WUk3c4cvOZLtpnzox2X6trnZwtXLjBMtN9d+Xi6M2BC83RdTIk4xOpakCZJv8N+7DfDSAc1YFAIBAIlEBgoYUW+tuEn+233x7bZJNNtu+++yo4+uijZ5ttNiWl6e677x45cuSXX3750EMPleZs6domW5dihd/+bLydfmdCqvbMnWZj7Z4/s8dS807pswRN0rH96otN03uFzhktN/9UJfhbvspT9/c/j0UyBb3zTvb918ce3YurCjgb+xn2u7GIBX8gEAgEAoUIfPvtt6effrqX788+++zEE09kkgs56vp+4YUXzj333Jlnnrlbt26ewH3WxdVKy1gj5ur7H8f+MuZ/XojrUxfbE2+MVvvU299/NvIXmZahzF2ooLtRP4wpHT/PZA596Vvv5eimJ7/xdp6Vy3gduOrhER7dPYf7nIgU9nsighmiAoFAoM0h8NNPPw0ZMsTj9yOPPNKvX79DDz3U52qrrXbOOed88cUX9cExbtw4F+4dd9wRw3nnnXfSSSd99913Ph999FElNUHf/Tj2p1/GffXtmC+++XXNY972Pn381Z+V0Pyx10ff/8p38848+Xuf/3zJfV8zcvtd+LH36SX2e/3pt78v0bDBqu9+GnPb0994Sn/1ox/zzE+8Od5deO+Lnwt+hS3PU1/+i29+ee+zn0d9P+bDL3+ujycr19EpN3y+2FxTiAqcfduXtz79TVYls3yPqT7796KvDlhwli6T+vwvNflv2If9/i+YkQsEAoFAoLEIXHnllXvsscfw4cMHDBggs9tuu11++eXTTz/9oEGDRowYUSzNHf3pp5/ebrvttt122x9++OHvf//74osvvsYaa5x99tnewrfaaqvdd9/9tddew1bcdmKXlJTXkHV57t3vv/1hjNvt5yN/+fMS027zpy4MWH0SxZD3vuBjz9jn7Db7UvNM2f/6z69+ZMTuf+7qPfvcPWZn1OtrWE7519+O2e/CYZ7Sb3nqv4bzm9FjHn5tvP1+Y9iP730xPm5fjqiM54m3vmfCx45rd++L33I1svKCjCoMO5z1IVfm5G1nOXWHWSeftD1N/nbd56N/bOjX6Zv8N+zDfhdMR3wGAoFAINAIBDbbbLObbrrp+eefdwVvP+FnhRVWuPfeex9//PF55pln7NjCQ3zw4MG9e/d2+V5rrbWGDh3qpq4z7dZbbz1v4SuvvPKdd965zjrrXHXVVcqrSSWtyw8/j2UsJ5uk/Yjvxjz6+uiDNup+Xp/ZN1xmumKFf/513GUPfL3qkW99PPzn03aYdcUFp/rbdrNMO2XH3QZ+9K97hq+y8NQbL9u523STFDcsv2TWLpM+dNL8ntL3Wqdb1urRN0a/+P4Py84/FcvqTix6n1U1mDG6wQ983XXaSRaeo9O1j4185p3v62zy65hxfc//aOO/vfv1t7+eu/vsxvKH/5vitiPmmaPbZH+79rPrHx9ZZ6v/Fjb+b9j/t+2EXNjvCTBEEggEAoFA4xF49dVXjz/+eFfwI488UuR86623Xn7CzzLLLLPQQguttNJKn3/+eYHUDTbYYODAga7gLuhevl3ceQB9+/b9/vvv55577ksvvfSxxx5zlV+X+Sxo2cKfJa3LQ6+OfuyN0busOcPKC001aMhXYtT1affDT2Mve2B8HOLf+8y5yXKdsS0975RDjppnsbk6dezQvvNUHZU0kTp2aD9j50lEp6ee4jeLNvzbX0+69rPOU3fkMay26DTXPTby5if/ezVvsDuh+Adf+W7DZTv3327WMWPHHXH5p9/U9W/LTNKx/QEbdt9znW5Pn77AJsuPHxrJC83e6YlTFnjwpPm3WGl6n81Kv422WfsI4YFAIBAI/C4R6NChw3PPPXf/hB93bk/gI0eOZMH//Oc/9+/f//zzz+/WrVvBwIXW2eauXX/7609jxowZNmzYl19+6UU8cTLqrvLY0mcrTN//4ueDLhrWbdpJ+qzdbafVZ/h4+C99zvvom7osHOWnm6rj4P3mfH3AQhssPV379grG0wKzdnrwxPnP2X02N/jx3435z2P2J1//8sSboz0zj/6pMLxBEk32GvTxc+/+sNufuy4x9xQHbdx9qk4dRO9veqLwN8swF5O4wsGXfDJnt8n26dVNtKD38p0ffvW7XQd+6JJdzPx/M01+8nazTDNFx0++/iWjr0b92n26SaT47zlu3iv2n4sC8oUkNnPrre2QTGFdWd9hv8uCKZgCgUAgEChGoEePHkOGDHlsws+tt946yyyzLLbYYm7kJ5xwwhZbbCE/ySSTFLeqjRJGhWlBMjmNX/3ox41Pfve9z3/66/rd555xsl5LT+eiycIdc9VnY+owpuNbzjDNJAzY3S98u2Df184b8tX4onbt2PKOHf5jz9s18DPq+zE9j3hr6gn/istMO740/56vrn7U2/0u+uSb78cUtGTXVzrsTaZ9pYWm3nPtrnpZ8v+m/PtOs40ZM27bv79/2k3/8xuFBW1//GXcgRcN2+bMD376ZewxW848d/fJJu3Y/qRtZll10Wluf2ZUzyPf5qkUNEmf+134MZXqoy3PeL/ut/Am/w37sN8J/0gDgUAgEAgEcgjUY108Ns8y/aRHbD7Trn+eAfdkk7Q/c+dZGbl9e3XrWNKeCKR/9NXPxRZ38snaH7bpjKfuOOv0U9cdS1+xx9Tb/KlLoqO2GP+vuFy231zPntHjyVMXoAkd8jTvzJN3mXoSLsV1/eZ29U9VgttDj59vlzW77rbmeJ1TYXHaadL2i881xQzTdLz6oLk3/U88nJCrD5rr+K1mPmGrmWebYdLiVkp2X2v8L+JdlPvnZVL+zJ1m7TJN3YPSqt3TT49P/ffUU5IKqCTeFciLJoFAIBAIBAL1IPDSSy8tuOCCc+V+vJR/8sknTzzxxMILL5wrHp+955576hHTIsX1WBf27MbD/q/fxjN2/M/teYrJOgg1z9V9ssrUcsd1wV3vj9OSU6cEr+zn9Zk9kX57r9B5o2Wnm3+Wyaf+z2t3vpW7/l3HzPvPveZw48+XLzxHpzN2mpXy+cLi/FarTP/6OQutvtg0+SqK7bdB9xL/ntpy809Fq2Jab6nppp68fvvdLt9JJfmw35WgFm0CgUAgEKgAgdlnn/2ss84aWN7PIossUkEXLdCExa24l1c++vHaR0fWSSLzFYvNN5x80vbtyw3M59uNz3NKRBTG52rhv7DftTBLoWMgEAj8LhDo3LnzmmuuuW55PzPNNFNtDXqROafYfMXOM0xb6sn/+sdG7nDWB3XSLbm/vV1bA69Q26WW+q3h0kv/lmnkH021343sLtgDgUAgEPh9ItC9e/dHH330qquummqqqbIRTjvttCeddNJ+++03+eSTZ4W1kWm8dRED//vOs83dfbI/zjulB+D1l/6fvw6+5hLTvDlwoRKU/9vbZULU4Nt5sZzpp+7ord2Lu7bFtQ2WGJShGWCDnBga6Gvddcf/8vmtt7ZbZx3MFVDY7wpAiyaBQCAQCJSFQKdOnXr27LnccstNUnO/iN4E6zJrl0k9Bi80e6c8Rl6RZ+kyaQmq8z07L6E4L5Jf+u28uAk1+BlaaVtc22CJQRmaATbIiaGBvkr+DXvNS1P79u1r3X6XHmDUBgKBQCAQCFSEQNOsS0VdRqPGIRD2u3F4BXcgEAgEAoFAIDAREBg79rf4uUxF4sJ+VwRb1igygUAgEAj8LhFgVDzNIpnf5QCrPqh6/oZ9+XqF/S4fq+AMBAKBQKDNINBk69JmkKp0oPX8DfvyxYX9Lh+r1sgZOgUCgUAg0CwINNm6NItWITSHQNjvHBiRDQQCgUAgEAgEagSBsN81MlGtVM1QKxAIBAKBQKAiBBr/N+wLugn7XQBIfAYCgUAgEAi0a5e3LmMn/Kb0Mce0S5T/pbaoqhiNddb57ffPZSpacWG/K4ItGmYFl7IAAAG1SURBVLUSBEKNQCAQaCYE8v9+S/pdtmOPbZdo/fXb3XHHb91GVcVoDBnSbr31xlOHCg1xhc1+m7n4IxAIBAKBQOB3iQCj0jTr8rtEpVUNKux3q5qOUKbGEAh1A4E2gUC6ix99dLtEIsZZyDeqmo5GpWso7HelyEW7QCAQCATaCALpLp4ev6Xu5UrS2GV8KkwkrySqGoVGgqvxadjvxmMWLQKB1oJA6BEIBAJtF4Gw32137mPkgUAgEAgEAjWKQPz/j9XoxIXagUDrQCC0CAQCgeohEPfv6mEfPQcCgUAgEAgEApUiEPa7UuSiXSAQCFQbgeg/EGizCET8vM1OfQw8EAgEAoFAoLYRiPt3bc9faB8IBALVQyB6DgSqiUCHMWPGVLP/6DsQCAQCgUAgEAgEGoNAMtwdPvvss8a0Ct5AIBAIBAKB1oFAaNFWEUiGu8Mrr7zSVhGIcQcCgUAgEAgEArWHAMM9/vfX3njjjWeffbb21A+NA4FAIBAIBKqKQHReFQSYbIZb1x3Y8IcffnjIkCHDhg1LIXWlQYFAIBAIBAKBQCDQehBgoJlpxprJZrjbtWv3/wAAAP//2EICDgAAAAZJREFUAwBPVxKF+cAcTAAAAABJRU5ErkJggg==)"
      ],
      "metadata": {
        "id": "BoWv0zPPh4S-"
      }
    },
    {
      "cell_type": "code",
      "source": [
        "# 처음 실행 시 마지막에 오류나면 다시 한번 실행해 보기\n",
        "!pip install gensim==4.3.3"
      ],
      "metadata": {
        "colab": {
          "base_uri": "https://localhost:8080/",
          "height": 700
        },
        "id": "GQ8g-_VLFOzk",
        "outputId": "11879061-be26-42fd-f9a8-aa3ddba911d7"
      },
      "execution_count": 14,
      "outputs": [
        {
          "output_type": "stream",
          "name": "stdout",
          "text": [
            "Collecting gensim==4.3.3\n",
            "  Downloading gensim-4.3.3-cp312-cp312-manylinux_2_17_x86_64.manylinux2014_x86_64.whl.metadata (8.1 kB)\n",
            "Collecting numpy<2.0,>=1.18.5 (from gensim==4.3.3)\n",
            "  Downloading numpy-1.26.4-cp312-cp312-manylinux_2_17_x86_64.manylinux2014_x86_64.whl.metadata (61 kB)\n",
            "\u001b[2K     \u001b[90m━━━━━━━━━━━━━━━━━━━━━━━━━━━━━━━━━━━━━━━━\u001b[0m \u001b[32m61.0/61.0 kB\u001b[0m \u001b[31m3.1 MB/s\u001b[0m eta \u001b[36m0:00:00\u001b[0m\n",
            "\u001b[?25hCollecting scipy<1.14.0,>=1.7.0 (from gensim==4.3.3)\n",
            "  Downloading scipy-1.13.1-cp312-cp312-manylinux_2_17_x86_64.manylinux2014_x86_64.whl.metadata (60 kB)\n",
            "\u001b[2K     \u001b[90m━━━━━━━━━━━━━━━━━━━━━━━━━━━━━━━━━━━━━━━━\u001b[0m \u001b[32m60.6/60.6 kB\u001b[0m \u001b[31m4.6 MB/s\u001b[0m eta \u001b[36m0:00:00\u001b[0m\n",
            "\u001b[?25hRequirement already satisfied: smart-open>=1.8.1 in /usr/local/lib/python3.12/dist-packages (from gensim==4.3.3) (7.3.1)\n",
            "Requirement already satisfied: wrapt in /usr/local/lib/python3.12/dist-packages (from smart-open>=1.8.1->gensim==4.3.3) (1.17.3)\n",
            "Downloading gensim-4.3.3-cp312-cp312-manylinux_2_17_x86_64.manylinux2014_x86_64.whl (26.6 MB)\n",
            "\u001b[2K   \u001b[90m━━━━━━━━━━━━━━━━━━━━━━━━━━━━━━━━━━━━━━━━\u001b[0m \u001b[32m26.6/26.6 MB\u001b[0m \u001b[31m83.6 MB/s\u001b[0m eta \u001b[36m0:00:00\u001b[0m\n",
            "\u001b[?25hDownloading numpy-1.26.4-cp312-cp312-manylinux_2_17_x86_64.manylinux2014_x86_64.whl (18.0 MB)\n",
            "\u001b[2K   \u001b[90m━━━━━━━━━━━━━━━━━━━━━━━━━━━━━━━━━━━━━━━━\u001b[0m \u001b[32m18.0/18.0 MB\u001b[0m \u001b[31m103.2 MB/s\u001b[0m eta \u001b[36m0:00:00\u001b[0m\n",
            "\u001b[?25hDownloading scipy-1.13.1-cp312-cp312-manylinux_2_17_x86_64.manylinux2014_x86_64.whl (38.2 MB)\n",
            "\u001b[2K   \u001b[90m━━━━━━━━━━━━━━━━━━━━━━━━━━━━━━━━━━━━━━━━\u001b[0m \u001b[32m38.2/38.2 MB\u001b[0m \u001b[31m16.3 MB/s\u001b[0m eta \u001b[36m0:00:00\u001b[0m\n",
            "\u001b[?25hInstalling collected packages: numpy, scipy, gensim\n",
            "  Attempting uninstall: numpy\n",
            "    Found existing installation: numpy 2.0.2\n",
            "    Uninstalling numpy-2.0.2:\n",
            "      Successfully uninstalled numpy-2.0.2\n",
            "  Attempting uninstall: scipy\n",
            "    Found existing installation: scipy 1.16.2\n",
            "    Uninstalling scipy-1.16.2:\n",
            "      Successfully uninstalled scipy-1.16.2\n",
            "\u001b[31mERROR: pip's dependency resolver does not currently take into account all the packages that are installed. This behaviour is the source of the following dependency conflicts.\n",
            "opencv-python 4.12.0.88 requires numpy<2.3.0,>=2; python_version >= \"3.9\", but you have numpy 1.26.4 which is incompatible.\n",
            "tsfresh 0.21.1 requires scipy>=1.14.0; python_version >= \"3.10\", but you have scipy 1.13.1 which is incompatible.\n",
            "thinc 8.3.6 requires numpy<3.0.0,>=2.0.0, but you have numpy 1.26.4 which is incompatible.\n",
            "opencv-contrib-python 4.12.0.88 requires numpy<2.3.0,>=2; python_version >= \"3.9\", but you have numpy 1.26.4 which is incompatible.\n",
            "opencv-python-headless 4.12.0.88 requires numpy<2.3.0,>=2; python_version >= \"3.9\", but you have numpy 1.26.4 which is incompatible.\u001b[0m\u001b[31m\n",
            "\u001b[0mSuccessfully installed gensim-4.3.3 numpy-1.26.4 scipy-1.13.1\n"
          ]
        },
        {
          "output_type": "display_data",
          "data": {
            "application/vnd.colab-display-data+json": {
              "pip_warning": {
                "packages": [
                  "numpy",
                  "scipy"
                ]
              },
              "id": "f9253dd3ea3c42618833c56732339b61"
            }
          },
          "metadata": {}
        }
      ]
    },
    {
      "cell_type": "code",
      "source": [
        "# !pip install -U gensim # 최신 버전 설치 명령"
      ],
      "metadata": {
        "id": "oO06Qp-qJOIV"
      },
      "execution_count": null,
      "outputs": []
    },
    {
      "cell_type": "markdown",
      "source": [
        "### Word2Vec 주요 파라미터\n",
        "| **파라미터**        | **기본값**  | **설명**                           |\n",
        "| --------------- | -------- | -------------------------------- |\n",
        "| **sentences**   | 필수       | 학습에 사용할 문장 리스트 (토큰화된 형태)         |\n",
        "| **vector_size** | 100      | 단어 임베딩 차원 수 (예: 100, 200, 300)   |\n",
        "| **window**      | 5        | 중심 단어 기준으로 앞뒤 몇 개 단어를 문맥 범위로 간주  |\n",
        "| **min_count**   | 5        | 최소 몇 번 이상 등장한 단어만 학습에 사용         |\n",
        "| **workers**     | 3        | 학습에 사용할 스레드 수 (병렬 처리용)           |\n",
        "| **sg**          | 0 (CBOW) | 학습 알고리즘: 0 = CBOW, 1 = Skip-gram |\n",
        "| **epochs**      | 5        | 전체 데이터셋을 반복해서 학습하는 횟수            |\n",
        "| **seed**        | None     | 랜덤 초기화 고정용 (재현 가능성 위해 설정 가능)     |\n"
      ],
      "metadata": {
        "id": "cwZbz5cQdYC2"
      }
    },
    {
      "cell_type": "code",
      "source": [
        "import numpy as np\n",
        "from gensim.models import Word2Vec\n",
        "\n",
        "# 샘플 문장들 (토큰화된 형태로 입력되어야 함)\n",
        "sentences = [\n",
        "    [\"i\", \"love\", \"machine\", \"learning\"],\n",
        "    [\"deep\", \"learning\", \"is\", \"a\", \"subset\", \"of\", \"machine\", \"learning\"],\n",
        "    [\"word\", \"embedding\", \"maps\", \"words\", \"to\", \"vectors\"],\n",
        "    [\"i\", \"love\", \"deep\", \"learning\"],\n",
        "    [\"natural\", \"language\", \"processing\", \"is\", \"fun\"]\n",
        "]\n",
        "\n",
        "# Word2Vec 모델 학습\n",
        "model = Word2Vec(sentences, vector_size=10, window=3,\n",
        "                 min_count=1, sg=1, epochs=100, seed=50)\n",
        "\n",
        "# word에 저장된 단어의 임베딩 벡터 출력 (10차원)\n",
        "word = 'machine'\n",
        "print(f\"Vector for '{word}':\")\n",
        "print(model.wv[word].shape)\n",
        "np.set_printoptions(precision=2)\n",
        "print(model.wv[word])\n",
        "\n",
        "# word에 저장된 단어와 가장 유사한 단어 3개 출력\n",
        "print(f\"Top 3 similar words to '{word}':\")\n",
        "# 일반적으로 0.7 이상의 점수는 높은 유사성을, 0.3 미만의 점수는 낮은 유사성\n",
        "print(model.wv.most_similar(word, topn=3))"
      ],
      "metadata": {
        "colab": {
          "base_uri": "https://localhost:8080/"
        },
        "id": "jTj0JhPRxinD",
        "outputId": "7292e109-c0fa-4366-b406-bed18c025f65"
      },
      "execution_count": 2,
      "outputs": [
        {
          "output_type": "stream",
          "name": "stdout",
          "text": [
            "Vector for 'machine':\n",
            "(10,)\n",
            "[-0.04  0.1   0.01  0.02 -0.01  0.08  0.01 -0.1   0.06  0.02]\n",
            "Top 3 similar words to 'machine':\n",
            "[('love', 0.5026947259902954), ('to', 0.4828498959541321), ('deep', 0.371460497379303)]\n"
          ]
        }
      ]
    },
    {
      "cell_type": "code",
      "source": [
        "!pip install koreanize-matplotlib\n",
        "import koreanize_matplotlib\n",
        "%config InlineBackend.figure_format = 'retina'"
      ],
      "metadata": {
        "colab": {
          "base_uri": "https://localhost:8080/"
        },
        "id": "eDleGA1EYVPN",
        "outputId": "0e15477f-e55f-4423-d1ab-48e11f7fc744"
      },
      "execution_count": 3,
      "outputs": [
        {
          "output_type": "stream",
          "name": "stdout",
          "text": [
            "Collecting koreanize-matplotlib\n",
            "  Downloading koreanize_matplotlib-0.1.1-py3-none-any.whl.metadata (992 bytes)\n",
            "Requirement already satisfied: matplotlib in /usr/local/lib/python3.12/dist-packages (from koreanize-matplotlib) (3.10.0)\n",
            "Requirement already satisfied: contourpy>=1.0.1 in /usr/local/lib/python3.12/dist-packages (from matplotlib->koreanize-matplotlib) (1.3.3)\n",
            "Requirement already satisfied: cycler>=0.10 in /usr/local/lib/python3.12/dist-packages (from matplotlib->koreanize-matplotlib) (0.12.1)\n",
            "Requirement already satisfied: fonttools>=4.22.0 in /usr/local/lib/python3.12/dist-packages (from matplotlib->koreanize-matplotlib) (4.60.1)\n",
            "Requirement already satisfied: kiwisolver>=1.3.1 in /usr/local/lib/python3.12/dist-packages (from matplotlib->koreanize-matplotlib) (1.4.9)\n",
            "Requirement already satisfied: numpy>=1.23 in /usr/local/lib/python3.12/dist-packages (from matplotlib->koreanize-matplotlib) (1.26.4)\n",
            "Requirement already satisfied: packaging>=20.0 in /usr/local/lib/python3.12/dist-packages (from matplotlib->koreanize-matplotlib) (25.0)\n",
            "Requirement already satisfied: pillow>=8 in /usr/local/lib/python3.12/dist-packages (from matplotlib->koreanize-matplotlib) (11.3.0)\n",
            "Requirement already satisfied: pyparsing>=2.3.1 in /usr/local/lib/python3.12/dist-packages (from matplotlib->koreanize-matplotlib) (3.2.5)\n",
            "Requirement already satisfied: python-dateutil>=2.7 in /usr/local/lib/python3.12/dist-packages (from matplotlib->koreanize-matplotlib) (2.9.0.post0)\n",
            "Requirement already satisfied: six>=1.5 in /usr/local/lib/python3.12/dist-packages (from python-dateutil>=2.7->matplotlib->koreanize-matplotlib) (1.17.0)\n",
            "Downloading koreanize_matplotlib-0.1.1-py3-none-any.whl (7.9 MB)\n",
            "\u001b[2K   \u001b[90m━━━━━━━━━━━━━━━━━━━━━━━━━━━━━━━━━━━━━━━━\u001b[0m \u001b[32m7.9/7.9 MB\u001b[0m \u001b[31m43.5 MB/s\u001b[0m eta \u001b[36m0:00:00\u001b[0m\n",
            "\u001b[?25hInstalling collected packages: koreanize-matplotlib\n",
            "Successfully installed koreanize-matplotlib-0.1.1\n"
          ]
        }
      ]
    },
    {
      "cell_type": "code",
      "source": [
        "from sklearn.decomposition import PCA\n",
        "import matplotlib.pyplot as plt\n",
        "\n",
        "words = list(model.wv.index_to_key)\n",
        "X = model.wv[words]\n",
        "X_reduced = PCA(n_components=2).fit_transform(X)\n",
        "\n",
        "plt.figure(figsize=(6, 4))\n",
        "plt.scatter(X_reduced[:, 0], X_reduced[:, 1])\n",
        "\n",
        "for i, word in enumerate(words):\n",
        "    plt.annotate(word, xy=(X_reduced[i, 0], X_reduced[i, 1]))\n",
        "\n",
        "plt.title(\"Word2Vec 단어 벡터 시각화\")\n",
        "plt.show()"
      ],
      "metadata": {
        "colab": {
          "base_uri": "https://localhost:8080/",
          "height": 388
        },
        "id": "zXGKQtraYMZf",
        "outputId": "209073ed-fc41-4ffd-fa80-94024d8f6259"
      },
      "execution_count": 4,
      "outputs": [
        {
          "output_type": "display_data",
          "data": {
            "text/plain": [
              "<Figure size 600x400 with 1 Axes>"
            ],
            "image/png": "[encoded data removed]"
          },
          "metadata": {
            "image/png": {
              "width": 542,
              "height": 371
            }
          }
        }
      ]
    },
    {
      "cell_type": "markdown",
      "source": [
        "## 학습 종료"
      ],
      "metadata": {
        "id": "tAY8wuohzVqQ"
      }
    },
    {
      "cell_type": "markdown",
      "source": [
        "### 심화 학습"
      ],
      "metadata": {
        "id": "yZopToS2ruQi"
      }
    },
    {
      "cell_type": "code",
      "source": [
        "# 1. Word2Vec 사전학습 벡터 로드 (Google News, 300차원)\n",
        "import time\n",
        "import gensim.downloader as api\n",
        "\n",
        "start = time.time()\n",
        "print(\"모델 다운로드 중 (잠시 시간 걸림)...\")\n",
        "model = api.load(\"word2vec-google-news-300\")  # 1.5GB 정도\n",
        "print(\"모델 로딩 완료!\")\n",
        "end = time.time()\n",
        "print(f\"실행 시간: {end - start:.2f}초\")\n",
        "\n",
        "# 2. 단어 벡터 연산\n",
        "result = model.most_similar(positive=['king', 'woman'], negative=['man'], topn=5)\n",
        "\n",
        "print(\"\\n'king' - 'man' + 'woman' ≈ ???\")\n",
        "for word, score in result:\n",
        "    print(f\"{word:<10}  (similarity: {score:.4f})\")"
      ],
      "metadata": {
        "colab": {
          "base_uri": "https://localhost:8080/"
        },
        "id": "AbHSB3nNJ3o2",
        "outputId": "dba0dfbc-face-41c5-ebde-a712828018a9"
      },
      "execution_count": null,
      "outputs": [
        {
          "output_type": "stream",
          "name": "stdout",
          "text": [
            "모델 다운로드 중 (잠시 시간 걸림)...\n",
            "모델 로딩 완료!\n",
            "실행 시간: 69.40초\n",
            "\n",
            "'king' - 'man' + 'woman' ≈ ???\n",
            "queen       (similarity: 0.7118)\n",
            "monarch     (similarity: 0.6190)\n",
            "princess    (similarity: 0.5902)\n",
            "crown_prince  (similarity: 0.5499)\n",
            "prince      (similarity: 0.5377)\n"
          ]
        }
      ]
    },
    {
      "cell_type": "markdown",
      "source": [
        "## 종료"
      ],
      "metadata": {
        "id": "HPv_kZ-RfJTz"
      }
    }
  ]
}
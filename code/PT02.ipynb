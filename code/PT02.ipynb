{
  "nbformat": 4,
  "nbformat_minor": 0,
  "metadata": {
    "colab": {
      "provenance": [],
      "gpuType": "T4",
      "include_colab_link": true
    },
    "kernelspec": {
      "name": "python3",
      "display_name": "Python 3"
    },
    "language_info": {
      "name": "python"
    },
    "accelerator": "GPU"
  },
  "cells": [
    {
      "cell_type": "markdown",
      "metadata": {
        "id": "view-in-github",
        "colab_type": "text"
      },
      "source": [
        "<a href=\"https://colab.research.google.com/github/soobook/PyTorch-DL/blob/main/code/PT02.ipynb\" target=\"_parent\"><img src=\"https://colab.research.google.com/assets/colab-badge.svg\" alt=\"Open In Colab\"/></a>"
      ]
    },
    {
      "cell_type": "markdown",
      "source": [
        "# 2회차: PyTorch 설치 및 기초 코딩"
      ],
      "metadata": {
        "id": "SazHYg839Ty7"
      }
    },
    {
      "cell_type": "code",
      "source": [
        "import torch\n",
        "\n",
        "print(f'파이토치 버전: {torch.__version__}')\n",
        "print(\"GPU\" if torch.cuda.is_available() else \"CPU\")"
      ],
      "metadata": {
        "colab": {
          "base_uri": "https://localhost:8080/"
        },
        "id": "-qRQVy0rWF1D",
        "outputId": "1847ed40-beeb-4939-ea07-3e587e309b47"
      },
      "execution_count": null,
      "outputs": [
        {
          "output_type": "stream",
          "name": "stdout",
          "text": [
            "파이토치 버전: 2.6.0+cu124\n",
            "GPU\n"
          ]
        }
      ]
    },
    {
      "cell_type": "code",
      "source": [
        "# torch 및 라이브러리 임포트\n",
        "import torch\n",
        "import torch.nn as nn\n",
        "import torch.optim as optim\n",
        "from torchvision import datasets, transforms\n",
        "from torch.utils.data import DataLoader"
      ],
      "metadata": {
        "id": "vyCAIVG4SZFs"
      },
      "execution_count": null,
      "outputs": []
    },
    {
      "cell_type": "code",
      "source": [
        "# 하이퍼파라미터 설정\n",
        "batch_size = 64\n",
        "learning_rate = 0.001\n",
        "epochs = 5"
      ],
      "metadata": {
        "id": "N8nEcyfkVw_K"
      },
      "execution_count": null,
      "outputs": []
    },
    {
      "cell_type": "code",
      "source": [
        "# 데이터 전처리 및 로딩\n",
        "transform = transforms.ToTensor()\n",
        "train_dataset = datasets.MNIST(root='./data', train=True, transform=transform, download=True)\n",
        "test_dataset = datasets.MNIST(root='./data', train=False, transform=transform, download=True)"
      ],
      "metadata": {
        "colab": {
          "base_uri": "https://localhost:8080/"
        },
        "id": "yGJXredwV1Hf",
        "outputId": "379e8003-8811-414f-e295-754f4797f897"
      },
      "execution_count": null,
      "outputs": [
        {
          "output_type": "stream",
          "name": "stderr",
          "text": [
            "100%|██████████| 9.91M/9.91M [00:00<00:00, 16.0MB/s]\n",
            "100%|██████████| 28.9k/28.9k [00:00<00:00, 479kB/s]\n",
            "100%|██████████| 1.65M/1.65M [00:00<00:00, 3.83MB/s]\n",
            "100%|██████████| 4.54k/4.54k [00:00<00:00, 8.35MB/s]\n"
          ]
        }
      ]
    },
    {
      "cell_type": "code",
      "source": [
        "train_loader = DataLoader(train_dataset, batch_size=batch_size, shuffle=True)\n",
        "test_loader = DataLoader(test_dataset, batch_size=batch_size, shuffle=False)"
      ],
      "metadata": {
        "id": "O-H1zcJ7_Mu8"
      },
      "execution_count": null,
      "outputs": []
    },
    {
      "cell_type": "code",
      "source": [
        "# 모델 정의\n",
        "class DNN(nn.Module):\n",
        "    def __init__(self):\n",
        "        super(DNN, self).__init__()\n",
        "        self.flatten = nn.Flatten()\n",
        "        self.model = nn.Sequential(\n",
        "            nn.Linear(28*28, 128),\n",
        "            nn.ReLU(),\n",
        "            nn.Linear(128, 64),\n",
        "            nn.ReLU(),\n",
        "            nn.Linear(64, 10)\n",
        "        )\n",
        "\n",
        "    def forward(self, x):\n",
        "        x = self.flatten(x)\n",
        "        return self.model(x)\n",
        "\n",
        "device = torch.device(\"cuda\" if torch.cuda.is_available() else \"cpu\")"
      ],
      "metadata": {
        "id": "_uQPpAkI_rH6"
      },
      "execution_count": null,
      "outputs": []
    },
    {
      "cell_type": "code",
      "source": [
        "# 모델 생성 및 컴파일 적용\n",
        "model = DNN().to(device)\n",
        "compiled_model = torch.compile(model)\n",
        "\n",
        "# 손실 함수와 옵티마이저\n",
        "criterion = nn.CrossEntropyLoss()\n",
        "optimizer = optim.Adam(compiled_model.parameters(), lr=learning_rate)"
      ],
      "metadata": {
        "id": "j5tEfmjC_wSy"
      },
      "execution_count": null,
      "outputs": []
    },
    {
      "cell_type": "code",
      "source": [
        "# 학습 루프\n",
        "for epoch in range(epochs): # 전체 에폭 반복\n",
        "    compiled_model.train() # 학습 모드 설정\n",
        "    total_loss = 0\n",
        "    correct = 0\n",
        "    for data, target in train_loader: # 배치 반복\n",
        "        data, target = data.to(device), target.to(device) # 입력/라벨 GPU로 이동\n",
        "\n",
        "        # 순전파 → 손실 → 역전파 → 옵티마이저 스텝\n",
        "        optimizer.zero_grad()\n",
        "        output = compiled_model(data)\n",
        "        loss = criterion(output, target)\n",
        "        loss.backward()\n",
        "        optimizer.step()\n",
        "\n",
        "        total_loss += loss.item()\n",
        "        correct += (output.argmax(1) == target).sum().item()\n",
        "\n",
        "    # 정확도 계산\n",
        "    accuracy = 100. * correct / len(train_loader.dataset)\n",
        "    # 에폭별 결과 출력\n",
        "    print(f\"Epoch {epoch+1}, Loss: {total_loss:.4f}, Accuracy: {accuracy:.2f}%\")"
      ],
      "metadata": {
        "colab": {
          "base_uri": "https://localhost:8080/"
        },
        "id": "BclgkKqc_8bn",
        "outputId": "8c8458a8-5cbc-4bc3-8d2a-609872b205b5"
      },
      "execution_count": null,
      "outputs": [
        {
          "output_type": "stream",
          "name": "stderr",
          "text": [
            "W0420 07:00:48.806000 1009 torch/_inductor/utils.py:1137] [0/0] Not enough SMs to use max_autotune_gemm mode\n"
          ]
        },
        {
          "output_type": "stream",
          "name": "stdout",
          "text": [
            "Epoch 1, Loss: 316.4419, Accuracy: 90.57%\n",
            "Epoch 2, Loss: 132.7357, Accuracy: 95.73%\n",
            "Epoch 3, Loss: 90.1602, Accuracy: 97.05%\n",
            "Epoch 4, Loss: 67.4648, Accuracy: 97.77%\n",
            "Epoch 5, Loss: 54.9081, Accuracy: 98.22%\n"
          ]
        }
      ]
    },
    {
      "cell_type": "code",
      "source": [
        "# 테스트 루프\n",
        "compiled_model.eval()\n",
        "correct = 0\n",
        "with torch.no_grad():\n",
        "    for data, target in test_loader:\n",
        "        data, target = data.to(device), target.to(device)\n",
        "        output = compiled_model(data)\n",
        "        correct += (output.argmax(1) == target).sum().item()\n",
        "\n",
        "test_accuracy = 100. * correct / len(test_loader.dataset)\n",
        "print(f\"Test Accuracy: {test_accuracy:.2f}%\")\n"
      ],
      "metadata": {
        "id": "XdKvKskFSQlS",
        "colab": {
          "base_uri": "https://localhost:8080/"
        },
        "outputId": "7e371f41-8ea3-4b27-f6e0-c74a34e19033"
      },
      "execution_count": null,
      "outputs": [
        {
          "output_type": "stream",
          "name": "stdout",
          "text": [
            "Test Accuracy: 97.41%\n"
          ]
        }
      ]
    },
    {
      "cell_type": "markdown",
      "source": [
        "### 수업 종료\n",
        "\n"
      ],
      "metadata": {
        "id": "2xh0oBpQsln4"
      }
    },
    {
      "cell_type": "markdown",
      "source": [
        "## 전체 코드"
      ],
      "metadata": {
        "id": "06o6r-ta--x6"
      }
    },
    {
      "cell_type": "code",
      "source": [
        "# torch 및 라이브러리 임포트\n",
        "import torch\n",
        "import torch.nn as nn\n",
        "import torch.optim as optim\n",
        "from torchvision import datasets, transforms\n",
        "from torch.utils.data import DataLoader\n",
        "\n",
        "# 하이퍼파라미터 설정\n",
        "batch_size = 64\n",
        "learning_rate = 0.001\n",
        "epochs = 5\n",
        "\n",
        "# 데이터 전처리 및 로딩\n",
        "transform = transforms.ToTensor()\n",
        "train_dataset = datasets.MNIST(root='./data', train=True, transform=transform, download=True)\n",
        "test_dataset = datasets.MNIST(root='./data', train=False, transform=transform, download=True)\n",
        "\n",
        "train_loader = DataLoader(train_dataset, batch_size=batch_size, shuffle=True)\n",
        "test_loader = DataLoader(test_dataset, batch_size=batch_size, shuffle=False)\n",
        "\n",
        "# 모델 정의\n",
        "class DNN(nn.Module):\n",
        "    def __init__(self):\n",
        "        super(DNN, self).__init__()\n",
        "        self.flatten = nn.Flatten()\n",
        "        self.model = nn.Sequential(\n",
        "            nn.Linear(28*28, 128),\n",
        "            nn.ReLU(),\n",
        "            nn.Linear(128, 64),\n",
        "            nn.ReLU(),\n",
        "            nn.Linear(64, 10)\n",
        "        )\n",
        "\n",
        "    def forward(self, x):\n",
        "        x = self.flatten(x)\n",
        "        return self.model(x)\n",
        "\n",
        "device = torch.device(\"cuda\" if torch.cuda.is_available() else \"cpu\")\n",
        "\n",
        "# 모델 생성 및 컴파일 적용\n",
        "model = DNN().to(device)\n",
        "compiled_model = torch.compile(model)\n",
        "\n",
        "# 손실 함수와 옵티마이저\n",
        "criterion = nn.CrossEntropyLoss()\n",
        "optimizer = optim.Adam(compiled_model.parameters(), lr=learning_rate)\n",
        "\n",
        "# 학습 루프\n",
        "for epoch in range(epochs): # 전체 에폭 반복\n",
        "    compiled_model.train() # 학습 모드 설정\n",
        "    total_loss = 0\n",
        "    correct = 0\n",
        "    for data, target in train_loader: # 배치 반복\n",
        "        data, target = data.to(device), target.to(device) # 입력/라벨 GPU로 이동\n",
        "\n",
        "        # 순전파 → 손실 → 역전파 → 옵티마이저 스텝\n",
        "        optimizer.zero_grad()\n",
        "        output = compiled_model(data)\n",
        "        loss = criterion(output, target)\n",
        "        loss.backward()\n",
        "        optimizer.step()\n",
        "\n",
        "        total_loss += loss.item()\n",
        "        correct += (output.argmax(1) == target).sum().item()\n",
        "\n",
        "    # 정확도 계산\n",
        "    accuracy = 100. * correct / len(train_loader.dataset)\n",
        "    # 에폭별 결과 출력\n",
        "    print(f\"Epoch {epoch+1}, Loss: {total_loss:.4f}, Accuracy: {accuracy:.2f}%\")\n",
        "\n",
        "# 테스트 루프\n",
        "compiled_model.eval() # 평가 모드 설정\n",
        "correct = 0\n",
        "with torch.no_grad():\n",
        "    for data, target in test_loader:\n",
        "        data, target = data.to(device), target.to(device)\n",
        "        output = compiled_model(data)\n",
        "        correct += (output.argmax(1) == target).sum().item()\n",
        "\n",
        "test_accuracy = 100. * correct / len(test_loader.dataset)\n",
        "print(f\"Test Accuracy: {test_accuracy:.2f}%\")\n"
      ],
      "metadata": {
        "colab": {
          "base_uri": "https://localhost:8080/"
        },
        "id": "2vjl5xfmXXG8",
        "outputId": "4666ade7-fa33-4f14-a60b-6bcbad4fabaf"
      },
      "execution_count": null,
      "outputs": [
        {
          "output_type": "stream",
          "name": "stdout",
          "text": [
            "Epoch 1, Loss: 311.5699, Accuracy: 90.70%\n",
            "Epoch 2, Loss: 126.7101, Accuracy: 95.94%\n",
            "Epoch 3, Loss: 86.7187, Accuracy: 97.17%\n",
            "Epoch 4, Loss: 64.7582, Accuracy: 97.80%\n",
            "Epoch 5, Loss: 51.4485, Accuracy: 98.27%\n",
            "Test Accuracy: 97.63%\n"
          ]
        }
      ]
    },
    {
      "cell_type": "markdown",
      "source": [
        "### 종료"
      ],
      "metadata": {
        "id": "nkcbDpibBf4T"
      }
    }
  ]
}